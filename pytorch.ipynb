{
  "nbformat": 4,
  "nbformat_minor": 0,
  "metadata": {
    "colab": {
      "name": "pytorch",
      "provenance": [],
      "authorship_tag": "ABX9TyMEE+/2GDjW9RE4fvf/tlwB",
      "include_colab_link": true
    },
    "kernelspec": {
      "name": "python3",
      "display_name": "Python 3"
    },
    "language_info": {
      "name": "python"
    },
    "accelerator": "GPU"
  },
  "cells": [
    {
      "cell_type": "markdown",
      "metadata": {
        "id": "view-in-github",
        "colab_type": "text"
      },
      "source": [
        "<a href=\"https://colab.research.google.com/github/vijayshankarrealdeal/intro_to_pytorch/blob/main/pytorch.ipynb\" target=\"_parent\"><img src=\"https://colab.research.google.com/assets/colab-badge.svg\" alt=\"Open In Colab\"/></a>"
      ]
    },
    {
      "cell_type": "code",
      "metadata": {
        "id": "y_xLYBETMUlA"
      },
      "source": [
        "import torch as th"
      ],
      "execution_count": 1,
      "outputs": []
    },
    {
      "cell_type": "code",
      "metadata": {
        "colab": {
          "base_uri": "https://localhost:8080/"
        },
        "id": "-u_MBKt0MZHv",
        "outputId": "bcce4639-2c6f-45ff-8767-06d46f3c0a4e"
      },
      "source": [
        "tensor =  th.Tensor([\n",
        "                     [[1,2],[3,4]],\n",
        "                     [[5, 6], [7, 8]], \n",
        "                      [[9, 0], [1, 2]]\n",
        "])\n",
        "tensor"
      ],
      "execution_count": 2,
      "outputs": [
        {
          "output_type": "execute_result",
          "data": {
            "text/plain": [
              "tensor([[[1., 2.],\n",
              "         [3., 4.]],\n",
              "\n",
              "        [[5., 6.],\n",
              "         [7., 8.]],\n",
              "\n",
              "        [[9., 0.],\n",
              "         [1., 2.]]])"
            ]
          },
          "metadata": {
            "tags": []
          },
          "execution_count": 2
        }
      ]
    },
    {
      "cell_type": "code",
      "metadata": {
        "id": "McjeS1DNNON-"
      },
      "source": [
        "#use cpu and gpu"
      ],
      "execution_count": 3,
      "outputs": []
    },
    {
      "cell_type": "code",
      "metadata": {
        "colab": {
          "base_uri": "https://localhost:8080/"
        },
        "id": "AqfU2xMJNV4-",
        "outputId": "1564055d-f48a-4601-ac52-f254c23b8fd1"
      },
      "source": [
        "tensor.device"
      ],
      "execution_count": 4,
      "outputs": [
        {
          "output_type": "execute_result",
          "data": {
            "text/plain": [
              "device(type='cpu')"
            ]
          },
          "metadata": {
            "tags": []
          },
          "execution_count": 4
        }
      ]
    },
    {
      "cell_type": "code",
      "metadata": {
        "id": "7gYq_k39NZZP"
      },
      "source": [
        "new_tensor = tensor.to('cuda')"
      ],
      "execution_count": 5,
      "outputs": []
    },
    {
      "cell_type": "code",
      "metadata": {
        "colab": {
          "base_uri": "https://localhost:8080/"
        },
        "id": "LWUiXw9WNfD_",
        "outputId": "bec38c04-ab45-41a5-cb0b-09b582f4b9e7"
      },
      "source": [
        "new_tensor.device"
      ],
      "execution_count": 6,
      "outputs": [
        {
          "output_type": "execute_result",
          "data": {
            "text/plain": [
              "device(type='cuda', index=0)"
            ]
          },
          "metadata": {
            "tags": []
          },
          "execution_count": 6
        }
      ]
    },
    {
      "cell_type": "code",
      "metadata": {
        "colab": {
          "base_uri": "https://localhost:8080/"
        },
        "id": "qrpzlN1yN9RP",
        "outputId": "521d8902-a0cd-4bb8-f817-48efbd971c2b"
      },
      "source": [
        "th.ones_like(new_tensor)"
      ],
      "execution_count": 7,
      "outputs": [
        {
          "output_type": "execute_result",
          "data": {
            "text/plain": [
              "tensor([[[1., 1.],\n",
              "         [1., 1.]],\n",
              "\n",
              "        [[1., 1.],\n",
              "         [1., 1.]],\n",
              "\n",
              "        [[1., 1.],\n",
              "         [1., 1.]]], device='cuda:0')"
            ]
          },
          "metadata": {
            "tags": []
          },
          "execution_count": 7
        }
      ]
    },
    {
      "cell_type": "code",
      "metadata": {
        "colab": {
          "base_uri": "https://localhost:8080/"
        },
        "id": "c7cOc9O5OM-l",
        "outputId": "c38e8745-332d-4385-bc68-a4d703a97102"
      },
      "source": [
        "th.zeros_like(new_tensor)"
      ],
      "execution_count": 8,
      "outputs": [
        {
          "output_type": "execute_result",
          "data": {
            "text/plain": [
              "tensor([[[0., 0.],\n",
              "         [0., 0.]],\n",
              "\n",
              "        [[0., 0.],\n",
              "         [0., 0.]],\n",
              "\n",
              "        [[0., 0.],\n",
              "         [0., 0.]]], device='cuda:0')"
            ]
          },
          "metadata": {
            "tags": []
          },
          "execution_count": 8
        }
      ]
    },
    {
      "cell_type": "code",
      "metadata": {
        "colab": {
          "base_uri": "https://localhost:8080/"
        },
        "id": "EIY-1Ep-OVtg",
        "outputId": "8b402e24-6164-4062-fb6f-b955a2f3d108"
      },
      "source": [
        "th.randn_like(new_tensor)"
      ],
      "execution_count": 9,
      "outputs": [
        {
          "output_type": "execute_result",
          "data": {
            "text/plain": [
              "tensor([[[-0.3725,  0.3783],\n",
              "         [-1.9592, -0.2917]],\n",
              "\n",
              "        [[-0.7391, -0.5091],\n",
              "         [-0.4836,  0.9513]],\n",
              "\n",
              "        [[ 0.4105, -1.1117],\n",
              "         [-1.0380, -0.1901]]], device='cuda:0')"
            ]
          },
          "metadata": {
            "tags": []
          },
          "execution_count": 9
        }
      ]
    },
    {
      "cell_type": "code",
      "metadata": {
        "id": "RkP6MFL6OjpP"
      },
      "source": [
        "var = th.randn(13,1,device='cuda')"
      ],
      "execution_count": 10,
      "outputs": []
    },
    {
      "cell_type": "code",
      "metadata": {
        "colab": {
          "base_uri": "https://localhost:8080/"
        },
        "id": "cR5WV8INO8WV",
        "outputId": "3b4c81a6-b4c6-4d00-965b-fd46cb7fa4bf"
      },
      "source": [
        "var.mean()"
      ],
      "execution_count": 11,
      "outputs": [
        {
          "output_type": "execute_result",
          "data": {
            "text/plain": [
              "tensor(-0.4872, device='cuda:0')"
            ]
          },
          "metadata": {
            "tags": []
          },
          "execution_count": 11
        }
      ]
    },
    {
      "cell_type": "code",
      "metadata": {
        "colab": {
          "base_uri": "https://localhost:8080/"
        },
        "id": "jBZhZ_hNPJTM",
        "outputId": "9ee46569-3fa6-45ea-89ea-44c13c0ad97e"
      },
      "source": [
        "var.std()"
      ],
      "execution_count": 12,
      "outputs": [
        {
          "output_type": "execute_result",
          "data": {
            "text/plain": [
              "tensor(0.9655, device='cuda:0')"
            ]
          },
          "metadata": {
            "tags": []
          },
          "execution_count": 12
        }
      ]
    },
    {
      "cell_type": "code",
      "metadata": {
        "id": "UEO-cfdbPORZ"
      },
      "source": [
        "#PyTorch Neural Network Module "
      ],
      "execution_count": 13,
      "outputs": []
    },
    {
      "cell_type": "code",
      "metadata": {
        "id": "qyr5w7DRPWvb"
      },
      "source": [
        "import torch.nn as nn"
      ],
      "execution_count": 14,
      "outputs": []
    },
    {
      "cell_type": "code",
      "metadata": {
        "colab": {
          "base_uri": "https://localhost:8080/"
        },
        "id": "NPkPy73jPa0_",
        "outputId": "77e079d0-5201-4a60-d4b2-8f2fd3f11ccd"
      },
      "source": [
        "linear = nn.Linear(10,2)\n",
        "input = th.randn(3,10)\n",
        "output =linear(input)\n",
        "output"
      ],
      "execution_count": 15,
      "outputs": [
        {
          "output_type": "execute_result",
          "data": {
            "text/plain": [
              "tensor([[ 0.0612, -0.0267],\n",
              "        [-0.5639, -0.2018],\n",
              "        [-0.3166,  0.6121]], grad_fn=<AddmmBackward>)"
            ]
          },
          "metadata": {
            "tags": []
          },
          "execution_count": 15
        }
      ]
    },
    {
      "cell_type": "code",
      "metadata": {
        "id": "OY8jLetsQ6SM"
      },
      "source": [
        "relu = nn.ReLU()\n",
        "outpu = relu(output)"
      ],
      "execution_count": 16,
      "outputs": []
    },
    {
      "cell_type": "code",
      "metadata": {
        "colab": {
          "base_uri": "https://localhost:8080/"
        },
        "id": "OYSmKHfuRar7",
        "outputId": "0d13d5a3-d7d5-4d24-8e04-9d0350a5cb72"
      },
      "source": [
        "batch_norm = nn.BatchNorm1d(2)\n",
        "outp = batch_norm(outpu) \n",
        "outp"
      ],
      "execution_count": 17,
      "outputs": [
        {
          "output_type": "execute_result",
          "data": {
            "text/plain": [
              "tensor([[ 1.4058, -0.7071],\n",
              "        [-0.7029, -0.7071],\n",
              "        [-0.7029,  1.4141]], grad_fn=<NativeBatchNormBackward>)"
            ]
          },
          "metadata": {
            "tags": []
          },
          "execution_count": 17
        }
      ]
    },
    {
      "cell_type": "code",
      "metadata": {
        "colab": {
          "base_uri": "https://localhost:8080/"
        },
        "id": "_FeEZFzXRncq",
        "outputId": "8144d448-5bca-499b-9e0b-2c1fefdb7e17"
      },
      "source": [
        "mul_lay = nn.Sequential(\n",
        "    nn.Linear(5,2),\n",
        "    nn.BatchNorm1d(2),\n",
        "    nn.ReLU()\n",
        ")\n",
        "tensor_t = th.randn(5,5) + 1\n",
        "mul_lay(tensor_t)"
      ],
      "execution_count": 18,
      "outputs": [
        {
          "output_type": "execute_result",
          "data": {
            "text/plain": [
              "tensor([[1.5149, 1.3147],\n",
              "        [0.3346, 0.1820],\n",
              "        [0.0000, 0.0000],\n",
              "        [0.0000, 0.6235],\n",
              "        [0.3593, 0.0000]], grad_fn=<ReluBackward0>)"
            ]
          },
          "metadata": {
            "tags": []
          },
          "execution_count": 18
        }
      ]
    },
    {
      "cell_type": "code",
      "metadata": {
        "id": "xlxBr5oASmAL"
      },
      "source": [
        "import torch.optim as optims"
      ],
      "execution_count": 19,
      "outputs": []
    },
    {
      "cell_type": "code",
      "metadata": {
        "colab": {
          "base_uri": "https://localhost:8080/"
        },
        "id": "58C4xYRqS8jM",
        "outputId": "415fdd7f-762e-40dd-d410-b06cbbbc58a0"
      },
      "source": [
        "adm_optims = optims.Adam(mul_lay.parameters(),lr = 1e-1)\n",
        "adm_optims"
      ],
      "execution_count": 20,
      "outputs": [
        {
          "output_type": "execute_result",
          "data": {
            "text/plain": [
              "Adam (\n",
              "Parameter Group 0\n",
              "    amsgrad: False\n",
              "    betas: (0.9, 0.999)\n",
              "    eps: 1e-08\n",
              "    lr: 0.1\n",
              "    weight_decay: 0\n",
              ")"
            ]
          },
          "metadata": {
            "tags": []
          },
          "execution_count": 20
        }
      ]
    },
    {
      "cell_type": "code",
      "metadata": {
        "id": "LVpbIJ0RTNHT"
      },
      "source": [
        "train_example = th.randn(100,5) + 1\n",
        "adm_optims.zero_grad()"
      ],
      "execution_count": 21,
      "outputs": []
    },
    {
      "cell_type": "code",
      "metadata": {
        "id": "md7fLsoSTS_s"
      },
      "source": [
        "cur_loss = th.abs(1 - mul_lay(train_example)).mean()"
      ],
      "execution_count": 22,
      "outputs": []
    },
    {
      "cell_type": "code",
      "metadata": {
        "colab": {
          "base_uri": "https://localhost:8080/"
        },
        "id": "ZEC4D1V0TcQm",
        "outputId": "af074c7f-5967-4a01-9c92-dde00f46db64"
      },
      "source": [
        "cur_loss.backward()\n",
        "adm_optims.step()\n",
        "print(cur_loss)"
      ],
      "execution_count": 23,
      "outputs": [
        {
          "output_type": "stream",
          "text": [
            "tensor(0.7597, grad_fn=<MeanBackward0>)\n"
          ],
          "name": "stdout"
        }
      ]
    },
    {
      "cell_type": "code",
      "metadata": {
        "id": "fzh1GJzbTjG7"
      },
      "source": [
        ""
      ],
      "execution_count": 23,
      "outputs": []
    }
  ]
}