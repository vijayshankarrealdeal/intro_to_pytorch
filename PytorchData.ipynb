{
  "nbformat": 4,
  "nbformat_minor": 0,
  "metadata": {
    "colab": {
      "name": "PytorchData.ipynb",
      "provenance": [],
      "collapsed_sections": [],
      "authorship_tag": "ABX9TyN7AnPgGsemx1+3D5jXu90A",
      "include_colab_link": true
    },
    "kernelspec": {
      "name": "python3",
      "display_name": "Python 3"
    },
    "language_info": {
      "name": "python"
    }
  },
  "cells": [
    {
      "cell_type": "markdown",
      "metadata": {
        "id": "view-in-github",
        "colab_type": "text"
      },
      "source": [
        "<a href=\"https://colab.research.google.com/github/vijayshankarrealdeal/intro_to_pytorch-Gans/blob/main/PytorchData.ipynb\" target=\"_parent\"><img src=\"https://colab.research.google.com/assets/colab-badge.svg\" alt=\"Open In Colab\"/></a>"
      ]
    },
    {
      "cell_type": "code",
      "metadata": {
        "id": "drY6QjHJdsuY"
      },
      "source": [
        "import pandas as pd\n",
        "import matplotlib.pyplot as plt\n",
        "import torch\n",
        "import numpy as np"
      ],
      "execution_count": 84,
      "outputs": []
    },
    {
      "cell_type": "code",
      "metadata": {
        "id": "KEvPIlYjpRZZ"
      },
      "source": [
        "t_c = [0.5, 14.0, 15.0, 28.0, 11.0, 8.0, 3.0, -4.0, 6.0, 13.0, 21.0]\n",
        "t_u = [35.7, 55.9, 58.2, 81.9, 56.3, 48.9, 33.9, 21.8, 48.4, 60.4, 68.4]\n",
        "t_c = torch.tensor(t_c)\n",
        "t_u = torch.tensor(t_u)"
      ],
      "execution_count": 94,
      "outputs": []
    },
    {
      "cell_type": "code",
      "metadata": {
        "colab": {
          "base_uri": "https://localhost:8080/",
          "height": 265
        },
        "id": "r_kG45PCnvEn",
        "outputId": "336ea3ae-97b1-4301-82af-d84b9bae3009"
      },
      "source": [
        "plt.scatter(t_u,t_c)\n",
        "plt.show()"
      ],
      "execution_count": 97,
      "outputs": [
        {
          "output_type": "display_data",
          "data": {
            "image/png": "[encoded data removed]",
            "text/plain": [
              "<Figure size 432x288 with 1 Axes>"
            ]
          },
          "metadata": {
            "tags": [],
            "needs_background": "light"
          }
        }
      ]
    },
    {
      "cell_type": "code",
      "metadata": {
        "id": "iHgfOli5puWn"
      },
      "source": [
        "def model(t_u,w,b):\n",
        "  return w*t_u + b"
      ],
      "execution_count": 102,
      "outputs": []
    },
    {
      "cell_type": "code",
      "metadata": {
        "id": "-GL0mdx3qI2S"
      },
      "source": [
        "def loss_fn(y_hat,y):\n",
        "  y_ = (y_hat-y)**2\n",
        "  return y_.mean()\n"
      ],
      "execution_count": 103,
      "outputs": []
    },
    {
      "cell_type": "code",
      "metadata": {
        "id": "99uE491dnDPg"
      },
      "source": [
        "loss = torch.nn.MSELoss()"
      ],
      "execution_count": 104,
      "outputs": []
    },
    {
      "cell_type": "code",
      "metadata": {
        "id": "S6dWD_Npqy_2"
      },
      "source": [
        "W = torch.ones(())\n",
        "b = torch.zeros(())"
      ],
      "execution_count": 105,
      "outputs": []
    },
    {
      "cell_type": "code",
      "metadata": {
        "colab": {
          "base_uri": "https://localhost:8080/"
        },
        "id": "rahIq8Alq5T-",
        "outputId": "472cb563-e7d3-4808-cc77-6f64341c6f92"
      },
      "source": [
        "W,b"
      ],
      "execution_count": 106,
      "outputs": [
        {
          "output_type": "execute_result",
          "data": {
            "text/plain": [
              "(tensor(1.), tensor(0.))"
            ]
          },
          "metadata": {
            "tags": []
          },
          "execution_count": 106
        }
      ]
    },
    {
      "cell_type": "code",
      "metadata": {
        "id": "hxBPdLiUq_Ba"
      },
      "source": [
        "pred = model(t_u,W,b)\n",
        "loss = loss_fn(pred,t_c)"
      ],
      "execution_count": 107,
      "outputs": []
    },
    {
      "cell_type": "code",
      "metadata": {
        "colab": {
          "base_uri": "https://localhost:8080/"
        },
        "id": "MjXdyMvArJW2",
        "outputId": "5a15d133-fe4e-43e2-ad77-227ecbaf2754"
      },
      "source": [
        "pred,loss"
      ],
      "execution_count": 108,
      "outputs": [
        {
          "output_type": "execute_result",
          "data": {
            "text/plain": [
              "(tensor([35.7000, 55.9000, 58.2000, 81.9000, 56.3000, 48.9000, 33.9000, 21.8000,\n",
              "         48.4000, 60.4000, 68.4000]), tensor(1763.8848))"
            ]
          },
          "metadata": {
            "tags": []
          },
          "execution_count": 108
        }
      ]
    },
    {
      "cell_type": "code",
      "metadata": {
        "id": "P5to8iA9m8Sp"
      },
      "source": [
        "delta = 0.01\n",
        "learning_rate = 1e-2\n",
        "for i in range(20):\n",
        "  y_pred = model(t_u,w-delta,b)\n",
        "  loss = loss_fn(y_pred,t_c)\n",
        "  y_pred_ = model(t_u,w+delta,b)\n",
        "  loss_ = loss_fn(y_pred,t_c)\n",
        "  loss_rate = (loss - loss_)/2*delta\n",
        "  W = W - learning_rate * loss_rate\n",
        "\n",
        "  loss_rate_of_change_b = (loss_fn(model(t_u, W, b + delta), t_c) -loss_fn(model(t_u, W, b - delta), t_c)) / (2.0 * delta)\n",
        "  b = b - learning_rate * loss_rate_of_change_b"
      ],
      "execution_count": 109,
      "outputs": []
    },
    {
      "cell_type": "code",
      "metadata": {
        "id": "lgt47Svgsu-T"
      },
      "source": [
        ""
      ],
      "execution_count": null,
      "outputs": []
    }
  ]
}