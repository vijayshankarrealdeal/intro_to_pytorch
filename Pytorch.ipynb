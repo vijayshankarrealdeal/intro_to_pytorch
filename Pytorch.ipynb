{
  "nbformat": 4,
  "nbformat_minor": 0,
  "metadata": {
    "colab": {
      "name": "Pytorch.ipynb",
      "provenance": [],
      "collapsed_sections": [],
      "authorship_tag": "ABX9TyOM9u060PiKEazBgBysuAvS",
      "include_colab_link": true
    },
    "kernelspec": {
      "name": "python3",
      "display_name": "Python 3"
    },
    "language_info": {
      "name": "python"
    },
    "accelerator": "GPU"
  },
  "cells": [
    {
      "cell_type": "markdown",
      "metadata": {
        "id": "view-in-github",
        "colab_type": "text"
      },
      "source": [
        "<a href=\"https://colab.research.google.com/github/vijayshankarrealdeal/intro_to_pytorch-Gans/blob/main/Pytorch.ipynb\" target=\"_parent\"><img src=\"https://colab.research.google.com/assets/colab-badge.svg\" alt=\"Open In Colab\"/></a>"
      ]
    },
    {
      "cell_type": "code",
      "metadata": {
        "colab": {
          "base_uri": "https://localhost:8080/"
        },
        "id": "FddQZ5HtAPjq",
        "outputId": "c0969242-88bc-4fbc-9a7a-28c1fa55f432"
      },
      "source": [
        "import torch\n",
        "print(torch.__version__)"
      ],
      "execution_count": 131,
      "outputs": [
        {
          "output_type": "stream",
          "text": [
            "1.9.0+cu102\n"
          ],
          "name": "stdout"
        }
      ]
    },
    {
      "cell_type": "code",
      "metadata": {
        "colab": {
          "base_uri": "https://localhost:8080/"
        },
        "id": "rwQJxqWDA7r9",
        "outputId": "2b0aca06-e0cf-4a95-d645-3ba2f0029af6"
      },
      "source": [
        "torch.cuda.is_available()"
      ],
      "execution_count": 132,
      "outputs": [
        {
          "output_type": "execute_result",
          "data": {
            "text/plain": [
              "True"
            ]
          },
          "metadata": {
            "tags": []
          },
          "execution_count": 132
        }
      ]
    },
    {
      "cell_type": "code",
      "metadata": {
        "colab": {
          "base_uri": "https://localhost:8080/"
        },
        "id": "z09tUZYcARCl",
        "outputId": "252a462e-a77e-4464-84b2-73d29548733d"
      },
      "source": [
        "x = torch.Tensor(10).random_(0,10)\n",
        "x"
      ],
      "execution_count": 133,
      "outputs": [
        {
          "output_type": "execute_result",
          "data": {
            "text/plain": [
              "tensor([6., 8., 6., 2., 0., 8., 0., 1., 2., 9.])"
            ]
          },
          "metadata": {
            "tags": []
          },
          "execution_count": 133
        }
      ]
    },
    {
      "cell_type": "code",
      "metadata": {
        "colab": {
          "base_uri": "https://localhost:8080/"
        },
        "id": "ejTjaXeZAjfK",
        "outputId": "1239073f-f773-4ae5-aa78-a9b6c9c584b4"
      },
      "source": [
        "x.to('cuda')"
      ],
      "execution_count": 134,
      "outputs": [
        {
          "output_type": "execute_result",
          "data": {
            "text/plain": [
              "tensor([6., 8., 6., 2., 0., 8., 0., 1., 2., 9.], device='cuda:0')"
            ]
          },
          "metadata": {
            "tags": []
          },
          "execution_count": 134
        }
      ]
    },
    {
      "cell_type": "code",
      "metadata": {
        "colab": {
          "base_uri": "https://localhost:8080/"
        },
        "id": "tAfujobNAvEJ",
        "outputId": "c43fab61-a581-4c64-aaa2-20e2f7a2987a"
      },
      "source": [
        "x.to(\"cpu\")"
      ],
      "execution_count": 135,
      "outputs": [
        {
          "output_type": "execute_result",
          "data": {
            "text/plain": [
              "tensor([6., 8., 6., 2., 0., 8., 0., 1., 2., 9.])"
            ]
          },
          "metadata": {
            "tags": []
          },
          "execution_count": 135
        }
      ]
    },
    {
      "cell_type": "code",
      "metadata": {
        "colab": {
          "base_uri": "https://localhost:8080/"
        },
        "id": "3CxpeRrpAz9c",
        "outputId": "7906b018-2d02-40d0-8009-a1db39f59962"
      },
      "source": [
        "vector = torch.tensor([1,2,3,4,5])\n",
        "vector"
      ],
      "execution_count": 136,
      "outputs": [
        {
          "output_type": "execute_result",
          "data": {
            "text/plain": [
              "tensor([1, 2, 3, 4, 5])"
            ]
          },
          "metadata": {
            "tags": []
          },
          "execution_count": 136
        }
      ]
    },
    {
      "cell_type": "code",
      "metadata": {
        "colab": {
          "base_uri": "https://localhost:8080/"
        },
        "id": "yQ65Y3iCBer3",
        "outputId": "ff6a86dd-072a-410f-f8db-09a22c7f533e"
      },
      "source": [
        "matrix_2d = torch.tensor([[1,2,3,4],[5,6,7,8]]) \n",
        "matrix_2d"
      ],
      "execution_count": 137,
      "outputs": [
        {
          "output_type": "execute_result",
          "data": {
            "text/plain": [
              "tensor([[1, 2, 3, 4],\n",
              "        [5, 6, 7, 8]])"
            ]
          },
          "metadata": {
            "tags": []
          },
          "execution_count": 137
        }
      ]
    },
    {
      "cell_type": "code",
      "metadata": {
        "colab": {
          "base_uri": "https://localhost:8080/"
        },
        "id": "2FH-nWQ9BpvR",
        "outputId": "d49359b3-c785-40ba-c4f9-6f8d3c2f5dc0"
      },
      "source": [
        "matrix_3d = torch.tensor([[[1,2,3],[4,5,6],[5,6,7]]])\n",
        "matrix_3d"
      ],
      "execution_count": 138,
      "outputs": [
        {
          "output_type": "execute_result",
          "data": {
            "text/plain": [
              "tensor([[[1, 2, 3],\n",
              "         [4, 5, 6],\n",
              "         [5, 6, 7]]])"
            ]
          },
          "metadata": {
            "tags": []
          },
          "execution_count": 138
        }
      ]
    },
    {
      "cell_type": "code",
      "metadata": {
        "colab": {
          "base_uri": "https://localhost:8080/"
        },
        "id": "us8kNv6rCBs5",
        "outputId": "58cc1708-e0a6-495a-9baa-4d2690da48c3"
      },
      "source": [
        "vector.shape"
      ],
      "execution_count": 139,
      "outputs": [
        {
          "output_type": "execute_result",
          "data": {
            "text/plain": [
              "torch.Size([5])"
            ]
          },
          "metadata": {
            "tags": []
          },
          "execution_count": 139
        }
      ]
    },
    {
      "cell_type": "code",
      "metadata": {
        "colab": {
          "base_uri": "https://localhost:8080/"
        },
        "id": "DpsciJp8B6g_",
        "outputId": "3056ba5c-0a89-4a3e-ef8c-69f42011d918"
      },
      "source": [
        "matrix_2d.shape"
      ],
      "execution_count": 140,
      "outputs": [
        {
          "output_type": "execute_result",
          "data": {
            "text/plain": [
              "torch.Size([2, 4])"
            ]
          },
          "metadata": {
            "tags": []
          },
          "execution_count": 140
        }
      ]
    },
    {
      "cell_type": "code",
      "metadata": {
        "colab": {
          "base_uri": "https://localhost:8080/"
        },
        "id": "ELT-NlnwCFdi",
        "outputId": "c44af80f-2729-4c06-f085-3d3f33b32beb"
      },
      "source": [
        "matrix_3d.shape"
      ],
      "execution_count": 141,
      "outputs": [
        {
          "output_type": "execute_result",
          "data": {
            "text/plain": [
              "torch.Size([1, 3, 3])"
            ]
          },
          "metadata": {
            "tags": []
          },
          "execution_count": 141
        }
      ]
    },
    {
      "cell_type": "code",
      "metadata": {
        "colab": {
          "base_uri": "https://localhost:8080/"
        },
        "id": "O4ZpQ-7QCIF3",
        "outputId": "4060d54f-6a02-46ba-bfb8-97a94e78215f"
      },
      "source": [
        "gpu = torch.tensor([2,3,4,5]).cuda()\n",
        "gpu"
      ],
      "execution_count": 142,
      "outputs": [
        {
          "output_type": "execute_result",
          "data": {
            "text/plain": [
              "tensor([2, 3, 4, 5], device='cuda:0')"
            ]
          },
          "metadata": {
            "tags": []
          },
          "execution_count": 142
        }
      ]
    },
    {
      "cell_type": "code",
      "metadata": {
        "colab": {
          "base_uri": "https://localhost:8080/"
        },
        "id": "1ZA6RqtdCkcH",
        "outputId": "d13736e7-0f6a-405a-c81f-8f8f463f6934"
      },
      "source": [
        "example = torch.rand(3,3).cuda()\n",
        "example"
      ],
      "execution_count": 143,
      "outputs": [
        {
          "output_type": "execute_result",
          "data": {
            "text/plain": [
              "tensor([[0.0692, 0.4238, 0.8879],\n",
              "        [0.2135, 0.8061, 0.6893],\n",
              "        [0.0754, 0.2431, 0.6690]], device='cuda:0')"
            ]
          },
          "metadata": {
            "tags": []
          },
          "execution_count": 143
        }
      ]
    },
    {
      "cell_type": "code",
      "metadata": {
        "colab": {
          "base_uri": "https://localhost:8080/"
        },
        "id": "1l4rGIAvCzqR",
        "outputId": "698254fa-3fc0-4d3f-ee5c-6b79aff2e67d"
      },
      "source": [
        "example_1 = torch.randint(low=0, high=2, \n",
        "                          size=(9,9)).type(torch.FloatTensor)\n",
        "example_1"
      ],
      "execution_count": 144,
      "outputs": [
        {
          "output_type": "execute_result",
          "data": {
            "text/plain": [
              "tensor([[1., 0., 0., 1., 1., 1., 1., 0., 1.],\n",
              "        [1., 0., 0., 1., 1., 1., 0., 0., 1.],\n",
              "        [1., 1., 0., 0., 1., 1., 0., 1., 0.],\n",
              "        [1., 0., 1., 0., 1., 1., 1., 1., 1.],\n",
              "        [1., 1., 1., 0., 1., 1., 0., 1., 0.],\n",
              "        [0., 1., 0., 0., 0., 0., 0., 1., 1.],\n",
              "        [1., 1., 1., 0., 1., 0., 1., 0., 0.],\n",
              "        [0., 1., 0., 0., 0., 0., 0., 0., 1.],\n",
              "        [0., 0., 1., 1., 0., 1., 1., 1., 1.]])"
            ]
          },
          "metadata": {
            "tags": []
          },
          "execution_count": 144
        }
      ]
    },
    {
      "cell_type": "code",
      "metadata": {
        "id": "-Q99b8SEEpPd"
      },
      "source": [
        "import matplotlib.pyplot as plt\n"
      ],
      "execution_count": 145,
      "outputs": []
    },
    {
      "cell_type": "code",
      "metadata": {
        "colab": {
          "base_uri": "https://localhost:8080/"
        },
        "id": "zdHN6F0hDEJ5",
        "outputId": "486e0456-1c54-4fd3-84df-3d6a981072c3"
      },
      "source": [
        "x = torch.tensor([-6.0,-5.0,-4.0,-3.0,-2.0,-1.0,0.0,1.0,2.0,3.0,4.0,5.0,6.0],requires_grad=True)\n",
        "x"
      ],
      "execution_count": 146,
      "outputs": [
        {
          "output_type": "execute_result",
          "data": {
            "text/plain": [
              "tensor([-6., -5., -4., -3., -2., -1.,  0.,  1.,  2.,  3.,  4.,  5.,  6.],\n",
              "       requires_grad=True)"
            ]
          },
          "metadata": {
            "tags": []
          },
          "execution_count": 146
        }
      ]
    },
    {
      "cell_type": "code",
      "metadata": {
        "colab": {
          "base_uri": "https://localhost:8080/"
        },
        "id": "WRCPDFbaEiE8",
        "outputId": "9a3ddb67-073f-45f7-a546-c666f28110d0"
      },
      "source": [
        "a = torch.tensor([1.0,2.0,3.0,4.0,5.0,6.0,7.0],requires_grad=True)\n",
        "ab = (a ** 2).sum()\n",
        "ab.backward()\n",
        "ab"
      ],
      "execution_count": 147,
      "outputs": [
        {
          "output_type": "execute_result",
          "data": {
            "text/plain": [
              "tensor(140., grad_fn=<SumBackward0>)"
            ]
          },
          "metadata": {
            "tags": []
          },
          "execution_count": 147
        }
      ]
    },
    {
      "cell_type": "code",
      "metadata": {
        "colab": {
          "base_uri": "https://localhost:8080/",
          "height": 283
        },
        "id": "R8YHzDhwLaIq",
        "outputId": "09f29144-7af4-4c0a-9510-1d99887be745"
      },
      "source": [
        "plt.plot(a.detach().numpy(),a.detach().numpy()**2)"
      ],
      "execution_count": 152,
      "outputs": [
        {
          "output_type": "execute_result",
          "data": {
            "text/plain": [
              "[<matplotlib.lines.Line2D at 0x7fe7b86dac90>]"
            ]
          },
          "metadata": {
            "tags": []
          },
          "execution_count": 152
        },
        {
          "output_type": "display_data",
          "data": {
            "image/png": "[encoded data removed]",
            "text/plain": [
              "<Figure size 432x288 with 1 Axes>"
            ]
          },
          "metadata": {
            "tags": [],
            "needs_background": "light"
          }
        }
      ]
    },
    {
      "cell_type": "code",
      "metadata": {
        "colab": {
          "base_uri": "https://localhost:8080/",
          "height": 283
        },
        "id": "UI1egSOHLLu-",
        "outputId": "52721423-665d-4e01-aa39-db6a2059fa90"
      },
      "source": [
        "plt.plot(a.detach().numpy(),a.grad.data)"
      ],
      "execution_count": 150,
      "outputs": [
        {
          "output_type": "execute_result",
          "data": {
            "text/plain": [
              "[<matplotlib.lines.Line2D at 0x7fe7b8785350>]"
            ]
          },
          "metadata": {
            "tags": []
          },
          "execution_count": 150
        },
        {
          "output_type": "display_data",
          "data": {
            "image/png": "[encoded data removed]",
            "text/plain": [
              "<Figure size 432x288 with 1 Axes>"
            ]
          },
          "metadata": {
            "tags": [],
            "needs_background": "light"
          }
        }
      ]
    },
    {
      "cell_type": "code",
      "metadata": {
        "colab": {
          "base_uri": "https://localhost:8080/"
        },
        "id": "pSm-urNNJLNQ",
        "outputId": "dffa7097-d6b5-436a-ed89-b95ac658efcf"
      },
      "source": [
        "print(a.grad.data)"
      ],
      "execution_count": 148,
      "outputs": [
        {
          "output_type": "stream",
          "text": [
            "tensor([ 2.,  4.,  6.,  8., 10., 12., 14.])\n"
          ],
          "name": "stdout"
        }
      ]
    },
    {
      "cell_type": "code",
      "metadata": {
        "id": "vQ2diKpZK5TS"
      },
      "source": [
        "import torch.nn as nn "
      ],
      "execution_count": 153,
      "outputs": []
    },
    {
      "cell_type": "code",
      "metadata": {
        "id": "XLnZwvpeNPMG"
      },
      "source": [
        "input_units = 10\n",
        "hidden_units = 5\n",
        "output_units = 1"
      ],
      "execution_count": 155,
      "outputs": []
    },
    {
      "cell_type": "code",
      "metadata": {
        "id": "R1Ls-bhbMZbi"
      },
      "source": [
        "model = nn.Sequential(\n",
        "        \n",
        "        nn.Linear(input_units,hidden_units),\n",
        "        nn.ReLU(),\n",
        "        nn.Linear(hidden_units,output_units),\n",
        "        nn.Sigmoid()\n",
        ")\n",
        "loss_fn = nn.MSELoss()"
      ],
      "execution_count": 156,
      "outputs": []
    },
    {
      "cell_type": "code",
      "metadata": {
        "colab": {
          "base_uri": "https://localhost:8080/"
        },
        "id": "F6eSyxHKNGD_",
        "outputId": "c06aa863-8840-41ba-a17a-dcca96d4298b"
      },
      "source": [
        "print(model)"
      ],
      "execution_count": 157,
      "outputs": [
        {
          "output_type": "stream",
          "text": [
            "Sequential(\n",
            "  (0): Linear(in_features=10, out_features=5, bias=True)\n",
            "  (1): ReLU()\n",
            "  (2): Linear(in_features=5, out_features=1, bias=True)\n",
            "  (3): Sigmoid()\n",
            ")\n"
          ],
          "name": "stdout"
        }
      ]
    },
    {
      "cell_type": "code",
      "metadata": {
        "colab": {
          "base_uri": "https://localhost:8080/"
        },
        "id": "J96G9HVjOUFP",
        "outputId": "fd5a29eb-ecb8-48f6-dd05-8c3af3491020"
      },
      "source": [
        "for i in model.parameters():\n",
        "  print(i.shape)"
      ],
      "execution_count": 163,
      "outputs": [
        {
          "output_type": "stream",
          "text": [
            "torch.Size([5, 10])\n",
            "torch.Size([5])\n",
            "torch.Size([1, 5])\n",
            "torch.Size([1])\n"
          ],
          "name": "stdout"
        }
      ]
    },
    {
      "cell_type": "code",
      "metadata": {
        "id": "r7nW-r3QNjWy"
      },
      "source": [
        "optimizer = torch.optim.SGD(model.parameters(),lr = 0.001)"
      ],
      "execution_count": 159,
      "outputs": []
    },
    {
      "cell_type": "code",
      "metadata": {
        "colab": {
          "base_uri": "https://localhost:8080/"
        },
        "id": "1yh3V6_DOHCG",
        "outputId": "46e6dfc8-8f40-4a3a-d9f9-5665736a0991"
      },
      "source": [
        "print(optimizer)"
      ],
      "execution_count": 160,
      "outputs": [
        {
          "output_type": "stream",
          "text": [
            "SGD (\n",
            "Parameter Group 0\n",
            "    dampening: 0\n",
            "    lr: 0.001\n",
            "    momentum: 0\n",
            "    nesterov: False\n",
            "    weight_decay: 0\n",
            ")\n"
          ],
          "name": "stdout"
        }
      ]
    },
    {
      "cell_type": "code",
      "metadata": {
        "id": "2eQEfwNUO_fb"
      },
      "source": [
        "x = torch.randn(20,10)\n",
        "y = torch.randint(0,2, (20,1)).type(torch.FloatTensor)"
      ],
      "execution_count": 176,
      "outputs": []
    },
    {
      "cell_type": "code",
      "metadata": {
        "colab": {
          "base_uri": "https://localhost:8080/"
        },
        "id": "Y-66LuNPOMjA",
        "outputId": "0e3eb356-0ea7-4dd4-e135-34e790649e6f"
      },
      "source": [
        "num_iter = 20000\n",
        "losses = []\n",
        "for i in range(num_iter):\n",
        "  y_pred = model(x)\n",
        "  loss_n = loss_fn(y_pred,y)\n",
        "  losses.append(loss_n.item())\n",
        "  if i%20 == 0:\n",
        "    print(loss_n.item())\n",
        "  optimizer.zero_grad()\n",
        "  loss_n.backward()\n",
        "  optimizer.step()\n"
      ],
      "execution_count": 189,
      "outputs": [
        {
          "output_type": "stream",
          "text": [
            "0.23939499258995056\n",
            "0.2392837107181549\n",
            "0.23917309939861298\n",
            "0.23906321823596954\n",
            "0.23895399272441864\n",
            "0.23884549736976624\n",
            "0.23873767256736755\n",
            "0.23863251507282257\n",
            "0.23852844536304474\n",
            "0.23842498660087585\n",
            "0.2383222132921219\n",
            "0.2382199764251709\n",
            "0.23811841011047363\n",
            "0.2380174845457077\n",
            "0.23791714012622833\n",
            "0.23781736195087433\n",
            "0.23771825432777405\n",
            "0.23761968314647675\n",
            "0.23752319812774658\n",
            "0.23743155598640442\n",
            "0.23734048008918762\n",
            "0.23724989593029022\n",
            "0.2371598780155182\n",
            "0.23707035183906555\n",
            "0.2369813621044159\n",
            "0.23689286410808563\n",
            "0.23680491745471954\n",
            "0.23671741783618927\n",
            "0.23663046956062317\n",
            "0.2365439385175705\n",
            "0.2364579737186432\n",
            "0.2363724708557129\n",
            "0.23628747463226318\n",
            "0.2362029105424881\n",
            "0.2361188381910324\n",
            "0.23603525757789612\n",
            "0.23595216870307922\n",
            "0.23586948215961456\n",
            "0.2357873022556305\n",
            "0.23570552468299866\n",
            "0.23562419414520264\n",
            "0.23554334044456482\n",
            "0.23546293377876282\n",
            "0.23538288474082947\n",
            "0.2353033572435379\n",
            "0.2352241724729538\n",
            "0.2351454496383667\n",
            "0.23506715893745422\n",
            "0.2349892556667328\n",
            "0.23491176962852478\n",
            "0.2348347008228302\n",
            "0.23475801944732666\n",
            "0.23468172550201416\n",
            "0.2346058338880539\n",
            "0.23453037440776825\n",
            "0.23445525765419006\n",
            "0.2343805581331253\n",
            "0.2343061864376068\n",
            "0.23423223197460175\n",
            "0.23415863513946533\n",
            "0.23408544063568115\n",
            "0.23401255905628204\n",
            "0.23394007980823517\n",
            "0.23386795818805695\n",
            "0.233796164393425\n",
            "0.23372475802898407\n",
            "0.23365366458892822\n",
            "0.23358294367790222\n",
            "0.23351256549358368\n",
            "0.2334425449371338\n",
            "0.23337283730506897\n",
            "0.23330345749855042\n",
            "0.23323440551757812\n",
            "0.2331656962633133\n",
            "0.23309728503227234\n",
            "0.23302921652793884\n",
            "0.2329614907503128\n",
            "0.23289403319358826\n",
            "0.23282694816589355\n",
            "0.23276011645793915\n",
            "0.23269358277320862\n",
            "0.23262739181518555\n",
            "0.23256146907806396\n",
            "0.2324969321489334\n",
            "0.23243315517902374\n",
            "0.23236969113349915\n",
            "0.23230651021003723\n",
            "0.2322436273097992\n",
            "0.23218098282814026\n",
            "0.23211857676506042\n",
            "0.23205652832984924\n",
            "0.23199467360973358\n",
            "0.2319331169128418\n",
            "0.2318718135356903\n",
            "0.2318107783794403\n",
            "0.2317499816417694\n",
            "0.231689453125\n",
            "0.2316291779279709\n",
            "0.23156912624835968\n",
            "0.23150937259197235\n",
            "0.23144984245300293\n",
            "0.23139052093029022\n",
            "0.2313314974308014\n",
            "0.2312726527452469\n",
            "0.23121407628059387\n",
            "0.23115572333335876\n",
            "0.23109757900238037\n",
            "0.23103971779346466\n",
            "0.23098206520080566\n",
            "0.2309246063232422\n",
            "0.2308673858642578\n",
            "0.23081037402153015\n",
            "0.23075361549854279\n",
            "0.23069703578948975\n",
            "0.2306406944990158\n",
            "0.2305845320224762\n",
            "0.2305285930633545\n",
            "0.2304728776216507\n",
            "0.23041734099388123\n",
            "0.23036201298236847\n",
            "0.23030690848827362\n",
            "0.2302519828081131\n",
            "0.2301972657442093\n",
            "0.230142742395401\n",
            "0.23008839786052704\n",
            "0.2300342619419098\n",
            "0.22998030483722687\n",
            "0.22992651164531708\n",
            "0.2298729419708252\n",
            "0.22981950640678406\n",
            "0.22976632416248322\n",
            "0.22971327602863312\n",
            "0.22966042160987854\n",
            "0.2296077013015747\n",
            "0.22955520451068878\n",
            "0.2295028418302536\n",
            "0.22945067286491394\n",
            "0.2293986827135086\n",
            "0.22934682667255402\n",
            "0.22929516434669495\n",
            "0.229243665933609\n",
            "0.22919230163097382\n",
            "0.22914108633995056\n",
            "0.22909006476402283\n",
            "0.22903919219970703\n",
            "0.22898845374584198\n",
            "0.22893790900707245\n",
            "0.22888748347759247\n",
            "0.22883722186088562\n",
            "0.22878709435462952\n",
            "0.22873711585998535\n",
            "0.22868728637695312\n",
            "0.22863760590553284\n",
            "0.2285880297422409\n",
            "0.2285386621952057\n",
            "0.22848936915397644\n",
            "0.22844024002552032\n",
            "0.22839125990867615\n",
            "0.22834238409996033\n",
            "0.22829365730285645\n",
            "0.2282450646162033\n",
            "0.22819657623767853\n",
            "0.22814825177192688\n",
            "0.2281000167131424\n",
            "0.22805194556713104\n",
            "0.22800394892692566\n",
            "0.22795610129833221\n",
            "0.2279084026813507\n",
            "0.22786077857017517\n",
            "0.22781328856945038\n",
            "0.22776591777801514\n",
            "0.22771866619586945\n",
            "0.22767150402069092\n",
            "0.22762446105480194\n",
            "0.2275775671005249\n",
            "0.22753068804740906\n",
            "0.22748398780822754\n",
            "0.22743740677833557\n",
            "0.22739091515541077\n",
            "0.22734451293945312\n",
            "0.22729822993278503\n",
            "0.2272510975599289\n",
            "0.22720372676849365\n",
            "0.22715647518634796\n",
            "0.2271093875169754\n",
            "0.22706229984760284\n",
            "0.22701530158519745\n",
            "0.2269684374332428\n",
            "0.22692164778709412\n",
            "0.2268749177455902\n",
            "0.22682829201221466\n",
            "0.22678177058696747\n",
            "0.22673530876636505\n",
            "0.2266889065504074\n",
            "0.22664257884025574\n",
            "0.2265963852405548\n",
            "0.22655022144317627\n",
            "0.2265041619539261\n",
            "0.22645816206932068\n",
            "0.22641222178936005\n",
            "0.22636637091636658\n",
            "0.22632057964801788\n",
            "0.22627484798431396\n",
            "0.2262292206287384\n",
            "0.22618362307548523\n",
            "0.22613811492919922\n",
            "0.2260926514863968\n",
            "0.22604727745056152\n",
            "0.22600194811820984\n",
            "0.22595664858818054\n",
            "0.2259114682674408\n",
            "0.22586634755134583\n",
            "0.22582122683525085\n",
            "0.22577624022960663\n",
            "0.22573122382164001\n",
            "0.22568634152412415\n",
            "0.22564148902893066\n",
            "0.22559666633605957\n",
            "0.22555193305015564\n",
            "0.2255072146654129\n",
            "0.22546255588531494\n",
            "0.22541792690753937\n",
            "0.22537338733673096\n",
            "0.22532887756824493\n",
            "0.2252844125032425\n",
            "0.22523999214172363\n",
            "0.22519561648368835\n",
            "0.22515133023262024\n",
            "0.22510702908039093\n",
            "0.2250627726316452\n",
            "0.22501857578754425\n",
            "0.22497442364692688\n",
            "0.2249302864074707\n",
            "0.2248862087726593\n",
            "0.2248421609401703\n",
            "0.22479815781116486\n",
            "0.22475413978099823\n",
            "0.22471019625663757\n",
            "0.2246663123369217\n",
            "0.224622443318367\n",
            "0.2245785892009735\n",
            "0.2245347499847412\n",
            "0.2244909554719925\n",
            "0.22444768249988556\n",
            "0.22440452873706818\n",
            "0.2243613749742508\n",
            "0.2243182361125946\n",
            "0.2242751568555832\n",
            "0.22423210740089417\n",
            "0.22418904304504395\n",
            "0.2241460382938385\n",
            "0.22410297393798828\n",
            "0.22405998408794403\n",
            "0.2240169793367386\n",
            "0.22397403419017792\n",
            "0.22393107414245605\n",
            "0.22388812899589539\n",
            "0.2238452136516571\n",
            "0.22380228340625763\n",
            "0.22375938296318054\n",
            "0.22371649742126465\n",
            "0.22367362678050995\n",
            "0.22363075613975525\n",
            "0.22358790040016174\n",
            "0.22354502975940704\n",
            "0.22350215911865234\n",
            "0.22345933318138123\n",
            "0.2234164923429489\n",
            "0.223373681306839\n",
            "0.2233308106660843\n",
            "0.22328798472881317\n",
            "0.22324518859386444\n",
            "0.22320234775543213\n",
            "0.2231595516204834\n",
            "0.2231167107820511\n",
            "0.22307388484477997\n",
            "0.22303108870983124\n",
            "0.22298824787139893\n",
            "0.2229454070329666\n",
            "0.22290261089801788\n",
            "0.22285981476306915\n",
            "0.22281697392463684\n",
            "0.22277414798736572\n",
            "0.2227313220500946\n",
            "0.22268851101398468\n",
            "0.22264567017555237\n",
            "0.22260281443595886\n",
            "0.22255992889404297\n",
            "0.22251708805561066\n",
            "0.22247418761253357\n",
            "0.22243130207061768\n",
            "0.22238841652870178\n",
            "0.2223454713821411\n",
            "0.22230258584022522\n",
            "0.22225961089134216\n",
            "0.2222166806459427\n",
            "0.22217366099357605\n",
            "0.222130686044693\n",
            "0.22208771109580994\n",
            "0.2220446765422821\n",
            "0.22200164198875427\n",
            "0.22195859253406525\n",
            "0.22191551327705383\n",
            "0.22187240421772003\n",
            "0.22182932496070862\n",
            "0.22178617119789124\n",
            "0.22174298763275146\n",
            "0.22169983386993408\n",
            "0.22165660560131073\n",
            "0.22161343693733215\n",
            "0.22157016396522522\n",
            "0.2215268611907959\n",
            "0.22148354351520538\n",
            "0.22144024074077606\n",
            "0.22139689326286316\n",
            "0.22135348618030548\n",
            "0.221310093998909\n",
            "0.22126682102680206\n",
            "0.22122430801391602\n",
            "0.22118179500102997\n",
            "0.22113922238349915\n",
            "0.22109659016132355\n",
            "0.22105400264263153\n",
            "0.22101137042045593\n",
            "0.22096867859363556\n",
            "0.2209259569644928\n",
            "0.2208832949399948\n",
            "0.22084049880504608\n",
            "0.22079773247241974\n",
            "0.220754936337471\n",
            "0.2207120656967163\n",
            "0.22066918015480042\n",
            "0.22062626481056213\n",
            "0.22058336436748505\n",
            "0.2205403596162796\n",
            "0.22049736976623535\n",
            "0.22045430541038513\n",
            "0.2204112559556961\n",
            "0.22036811709403992\n",
            "0.22032496333122253\n",
            "0.22028183937072754\n",
            "0.220238596200943\n",
            "0.22019536793231964\n",
            "0.22015206515789032\n",
            "0.22010870277881622\n",
            "0.22006531059741974\n",
            "0.22002191841602325\n",
            "0.2199784815311432\n",
            "0.21993494033813477\n",
            "0.21989145874977112\n",
            "0.21984544396400452\n",
            "0.2197987288236618\n",
            "0.2197519987821579\n",
            "0.2197052538394928\n",
            "0.21965837478637695\n",
            "0.21961157023906708\n",
            "0.21956463158130646\n",
            "0.21951763331890106\n",
            "0.21947066485881805\n",
            "0.2194235622882843\n",
            "0.21937641501426697\n",
            "0.21932928264141083\n",
            "0.21928200125694275\n",
            "0.21923474967479706\n",
            "0.2191874086856842\n",
            "0.2191399782896042\n",
            "0.21909256279468536\n",
            "0.21904508769512177\n",
            "0.21899747848510742\n",
            "0.21894988417625427\n",
            "0.21890223026275635\n",
            "0.21885447204113007\n",
            "0.2188066989183426\n",
            "0.21875886619091034\n",
            "0.21871094405651093\n",
            "0.21866297721862793\n",
            "0.21861493587493896\n",
            "0.2185668647289276\n",
            "0.2185186892747879\n",
            "0.21847045421600342\n",
            "0.21842220425605774\n",
            "0.2183738499879837\n",
            "0.21832549571990967\n",
            "0.2182769775390625\n",
            "0.21822842955589294\n",
            "0.2181798219680786\n",
            "0.2181311547756195\n",
            "0.218082457780838\n",
            "0.21803362667560577\n",
            "0.21798071265220642\n",
            "0.21792714297771454\n",
            "0.21787342429161072\n",
            "0.21781964600086212\n",
            "0.21776577830314636\n",
            "0.21771177649497986\n",
            "0.21765771508216858\n",
            "0.21760359406471252\n",
            "0.21754932403564453\n",
            "0.21749499440193176\n",
            "0.21744057536125183\n",
            "0.21738600730895996\n",
            "0.21733137965202332\n",
            "0.2172766923904419\n",
            "0.21722185611724854\n",
            "0.217166930437088\n",
            "0.21711194515228271\n",
            "0.21705679595470428\n",
            "0.21700160205364227\n",
            "0.2169462889432907\n",
            "0.21689088642597198\n",
            "0.21683534979820251\n",
            "0.21677978336811066\n",
            "0.21672400832176208\n",
            "0.21666817367076874\n",
            "0.21661226451396942\n",
            "0.21655619144439697\n",
            "0.21650007367134094\n",
            "0.21644382178783417\n",
            "0.21638748049736023\n",
            "0.21633107960224152\n",
            "0.2162744700908661\n",
            "0.2162177860736847\n",
            "0.21616101264953613\n",
            "0.21610410511493683\n",
            "0.21604712307453156\n",
            "0.21599002182483673\n",
            "0.21593281626701355\n",
            "0.215875506401062\n",
            "0.21581801772117615\n",
            "0.2157604694366455\n",
            "0.2157028168439865\n",
            "0.21564503014087677\n",
            "0.21558718383312225\n",
            "0.2155291587114334\n",
            "0.21547098457813263\n",
            "0.21541276574134827\n",
            "0.21535439789295197\n",
            "0.21529598534107208\n",
            "0.21523737907409668\n",
            "0.21517860889434814\n",
            "0.21511980891227722\n",
            "0.21506085991859436\n",
            "0.21500185132026672\n",
            "0.21494264900684357\n",
            "0.21488328278064728\n",
            "0.2148238718509674\n",
            "0.2147643119096756\n",
            "0.21470467746257782\n",
            "0.2146448791027069\n",
            "0.21458491683006287\n",
            "0.21452490985393524\n",
            "0.21446473896503448\n",
            "0.21440443396568298\n",
            "0.21434395015239716\n",
            "0.21428349614143372\n",
            "0.21422278881072998\n",
            "0.21416199207305908\n",
            "0.21410104632377625\n",
            "0.21404001116752625\n",
            "0.2139788419008255\n",
            "0.21391746401786804\n",
            "0.21385610103607178\n",
            "0.2137944996356964\n",
            "0.2137327492237091\n",
            "0.21367092430591583\n",
            "0.213608980178833\n",
            "0.21354690194129944\n",
            "0.21348460018634796\n",
            "0.21342232823371887\n",
            "0.21335971355438232\n",
            "0.21329712867736816\n",
            "0.2132343351840973\n",
            "0.21317140758037567\n",
            "0.2131083458662033\n",
            "0.21304519474506378\n",
            "0.21298186480998993\n",
            "0.21291840076446533\n",
            "0.21285483241081238\n",
            "0.21279101073741913\n",
            "0.21272721886634827\n",
            "0.21266314387321472\n",
            "0.2125990390777588\n",
            "0.21253474056720734\n",
            "0.21247026324272156\n",
            "0.21240584552288055\n",
            "0.21234145760536194\n",
            "0.21227681636810303\n",
            "0.21221213042736053\n",
            "0.21214720606803894\n",
            "0.21208223700523376\n",
            "0.21201705932617188\n",
            "0.21195165812969208\n",
            "0.21188631653785706\n",
            "0.21182063221931458\n",
            "0.21175488829612732\n",
            "0.21168899536132812\n",
            "0.21162298321723938\n",
            "0.21155674755573273\n",
            "0.2114904373884201\n",
            "0.21142394840717316\n",
            "0.21135728061199188\n",
            "0.21129055321216583\n",
            "0.21122360229492188\n",
            "0.21115653216838837\n",
            "0.21108928322792053\n",
            "0.21102187037467957\n",
            "0.21095433831214905\n",
            "0.2108866274356842\n",
            "0.2108188420534134\n",
            "0.2107507884502411\n",
            "0.210682675242424\n",
            "0.21061429381370544\n",
            "0.2105458676815033\n",
            "0.21047720313072205\n",
            "0.21040847897529602\n",
            "0.2103395164012909\n",
            "0.2102704793214798\n",
            "0.2102011889219284\n",
            "0.21013180911540985\n",
            "0.21006223559379578\n",
            "0.20999249815940857\n",
            "0.2099226415157318\n",
            "0.20985253155231476\n",
            "0.2097824364900589\n",
            "0.209711953997612\n",
            "0.2096415013074875\n",
            "0.2095707654953003\n",
            "0.20949995517730713\n",
            "0.20942893624305725\n",
            "0.20935840904712677\n",
            "0.20928800106048584\n",
            "0.20921751856803894\n",
            "0.20914685726165771\n",
            "0.20907601714134216\n",
            "0.20900502800941467\n",
            "0.20893387496471405\n",
            "0.2088625133037567\n",
            "0.2087910920381546\n",
            "0.20871934294700623\n",
            "0.20864763855934143\n",
            "0.20857557654380798\n",
            "0.20850344002246857\n",
            "0.2084311693906784\n",
            "0.20835861563682556\n",
            "0.2082860767841339\n",
            "0.20821313560009003\n",
            "0.20814020931720734\n",
            "0.20806698501110077\n",
            "0.20799362659454346\n",
            "0.2079201638698578\n",
            "0.20784644782543182\n",
            "0.20777258276939392\n",
            "0.20769862830638885\n",
            "0.2076244354248047\n",
            "0.20755000412464142\n",
            "0.20747554302215576\n",
            "0.20740070939064026\n",
            "0.20732593536376953\n",
            "0.20725083351135254\n",
            "0.20717556774616241\n",
            "0.20710015296936035\n",
            "0.20702457427978516\n",
            "0.20694878697395325\n",
            "0.20687362551689148\n",
            "0.20679834485054016\n",
            "0.20672282576560974\n",
            "0.20664730668067932\n",
            "0.2065715789794922\n",
            "0.20649556815624237\n",
            "0.2064194232225418\n",
            "0.2063431739807129\n",
            "0.20626671612262726\n",
            "0.20618999004364014\n",
            "0.20611324906349182\n",
            "0.20603621006011963\n",
            "0.2059590071439743\n",
            "0.20588171482086182\n",
            "0.20580418407917023\n",
            "0.2057264745235443\n",
            "0.20564858615398407\n",
            "0.20557060837745667\n",
            "0.205492302775383\n",
            "0.2054138481616974\n",
            "0.20533528923988342\n",
            "0.20525653660297394\n",
            "0.20517757534980774\n",
            "0.20509834587574005\n",
            "0.20501914620399475\n",
            "0.20493972301483154\n",
            "0.2048599272966385\n",
            "0.20478010177612305\n",
            "0.20470008254051208\n",
            "0.2046198844909668\n",
            "0.2045394480228424\n",
            "0.20445886254310608\n",
            "0.2043781280517578\n",
            "0.20429721474647522\n",
            "0.2042160928249359\n",
            "0.20413467288017273\n",
            "0.20405325293540955\n",
            "0.20397159457206726\n",
            "0.20388968288898468\n",
            "0.20380763709545135\n",
            "0.20372538268566132\n",
            "0.2036430388689041\n",
            "0.20356042683124542\n",
            "0.20347757637500763\n",
            "0.20339460670948029\n",
            "0.20331141352653503\n",
            "0.2032281458377838\n",
            "0.20314455032348633\n",
            "0.2030607908964157\n",
            "0.20297685265541077\n",
            "0.2028927356004715\n",
            "0.20280852913856506\n",
            "0.20272400975227356\n",
            "0.20263926684856415\n",
            "0.202554389834404\n",
            "0.20246931910514832\n",
            "0.20238414406776428\n",
            "0.20229868590831757\n",
            "0.20221304893493652\n",
            "0.20212718844413757\n",
            "0.2020411193370819\n",
            "0.20195499062538147\n",
            "0.20186853408813477\n",
            "0.20178203284740448\n",
            "0.20169523358345032\n",
            "0.20160825550556183\n",
            "0.20152103900909424\n",
            "0.20143358409404755\n",
            "0.20134611427783966\n",
            "0.2012583315372467\n",
            "0.201170414686203\n",
            "0.2010822743177414\n",
            "0.2009938508272171\n",
            "0.20090535283088684\n",
            "0.2008165866136551\n",
            "0.2007276713848114\n",
            "0.20063862204551697\n",
            "0.20054927468299866\n",
            "0.20045971870422363\n",
            "0.20037007331848145\n",
            "0.200280100107193\n",
            "0.2001899778842926\n",
            "0.2000996172428131\n",
            "0.20000919699668884\n",
            "0.19991843402385712\n",
            "0.19982758164405823\n",
            "0.19973650574684143\n",
            "0.19964516162872314\n",
            "0.19955359399318695\n",
            "0.1994619369506836\n",
            "0.19936995208263397\n",
            "0.19927790760993958\n",
            "0.19918623566627502\n",
            "0.19909437000751495\n",
            "0.19900234043598175\n",
            "0.1989099681377411\n",
            "0.19881759583950043\n",
            "0.1987248957157135\n",
            "0.1986318826675415\n",
            "0.19853881001472473\n",
            "0.19844546914100647\n",
            "0.1983519345521927\n",
            "0.19825828075408936\n",
            "0.19816426932811737\n",
            "0.19807025790214539\n",
            "0.19797590374946594\n",
            "0.19788137078285217\n",
            "0.19778674840927124\n",
            "0.19769175350666046\n",
            "0.19759666919708252\n",
            "0.19750133156776428\n",
            "0.19740574061870575\n",
            "0.19731000065803528\n",
            "0.19721408188343048\n",
            "0.19711783528327942\n",
            "0.19702152907848358\n",
            "0.19692492485046387\n",
            "0.19682814180850983\n",
            "0.19673119485378265\n",
            "0.1966339349746704\n",
            "0.19653654098510742\n",
            "0.1964389830827713\n",
            "0.1963411271572113\n",
            "0.19624316692352295\n",
            "0.19614490866661072\n",
            "0.19604651629924774\n",
            "0.19594793021678925\n",
            "0.1958490014076233\n",
            "0.19575002789497375\n",
            "0.19565077126026154\n",
            "0.19555124640464783\n",
            "0.19545164704322815\n",
            "0.19535169005393982\n",
            "0.19525162875652313\n",
            "0.19515137374401093\n",
            "0.19505077600479126\n",
            "0.194950133562088\n",
            "0.19484925270080566\n",
            "0.19474799931049347\n",
            "0.1946467012166977\n",
            "0.19454514980316162\n",
            "0.19444337487220764\n",
            "0.19434145092964172\n",
            "0.1942393034696579\n",
            "0.19413676857948303\n",
            "0.19403433799743652\n",
            "0.1939314603805542\n",
            "0.19382832944393158\n",
            "0.19372522830963135\n",
            "0.1936216801404953\n",
            "0.1935180127620697\n",
            "0.19341422617435455\n",
            "0.19331009685993195\n",
            "0.19320575892925262\n",
            "0.19310133159160614\n",
            "0.19299651682376862\n",
            "0.19289162755012512\n",
            "0.1927865594625473\n",
            "0.19268110394477844\n",
            "0.1925755888223648\n",
            "0.19246980547904968\n",
            "0.19236376881599426\n",
            "0.19225764274597168\n",
            "0.19215118885040283\n",
            "0.19204454123973846\n",
            "0.19193775951862335\n",
            "0.19183067977428436\n",
            "0.19172337651252747\n",
            "0.19161595404148102\n",
            "0.1915082484483719\n",
            "0.19140030443668365\n",
            "0.19129225611686707\n",
            "0.19118395447731018\n",
            "0.19107533991336823\n",
            "0.1909666657447815\n",
            "0.1908576935529709\n",
            "0.19074848294258118\n",
            "0.19063912332057953\n",
            "0.19052958488464355\n",
            "0.19041971862316132\n",
            "0.19030973315238953\n",
            "0.1901995688676834\n",
            "0.19008906185626984\n",
            "0.1899784356355667\n",
            "0.18986764550209045\n",
            "0.18975651264190674\n",
            "0.18964529037475586\n",
            "0.18953382968902588\n",
            "0.18942220509052277\n",
            "0.1893104612827301\n",
            "0.18919840455055237\n",
            "0.18908610939979553\n",
            "0.18897375464439392\n",
            "0.1888611614704132\n",
            "0.18874819576740265\n",
            "0.18863517045974731\n",
            "0.18852190673351288\n",
            "0.18840840458869934\n",
            "0.1882946789264679\n",
            "0.1881808340549469\n",
            "0.18806669116020203\n",
            "0.18795236945152283\n",
            "0.18783783912658691\n",
            "0.18772311508655548\n",
            "0.18760809302330017\n",
            "0.1874929815530777\n",
            "0.18737751245498657\n",
            "0.18726184964179993\n",
            "0.18714606761932373\n",
            "0.1870301067829132\n",
            "0.18691366910934448\n",
            "0.18679726123809814\n",
            "0.18668070435523987\n",
            "0.18656376004219055\n",
            "0.1864466816186905\n",
            "0.1863294094800949\n",
            "0.18621192872524261\n",
            "0.18609417974948883\n",
            "0.1859763115644455\n",
            "0.1858581006526947\n",
            "0.1857396811246872\n",
            "0.18562117218971252\n",
            "0.18550243973731995\n",
            "0.18538329005241394\n",
            "0.18526414036750793\n",
            "0.1851448118686676\n",
            "0.18502521514892578\n",
            "0.18490536510944366\n",
            "0.184785395860672\n",
            "0.184665247797966\n",
            "0.18454468250274658\n",
            "0.18442432582378387\n",
            "0.18430392444133759\n",
            "0.18418315052986145\n",
            "0.18406224250793457\n",
            "0.18394125998020172\n",
            "0.183819979429245\n",
            "0.18369844555854797\n",
            "0.1835768222808838\n",
            "0.18345507979393005\n",
            "0.18333294987678528\n",
            "0.1832106113433838\n",
            "0.18308815360069275\n",
            "0.18296530842781067\n",
            "0.18284235894680023\n",
            "0.18271926045417786\n",
            "0.18259595334529877\n",
            "0.18247240781784058\n",
            "0.18234863877296448\n",
            "0.18222478032112122\n",
            "0.18210071325302124\n",
            "0.18197627365589142\n",
            "0.18185172975063324\n",
            "0.18172697722911835\n",
            "0.1816018670797348\n",
            "0.1814766675233841\n",
            "0.18135131895542145\n",
            "0.18122583627700806\n",
            "0.1811000108718872\n",
            "0.1809740513563156\n",
            "0.1808479130268097\n",
            "0.18072152137756348\n",
            "0.18059490621089935\n",
            "0.1804681271314621\n",
            "0.18034115433692932\n",
            "0.1802138239145279\n",
            "0.1800864040851593\n",
            "0.17995890974998474\n",
            "0.17983119189739227\n",
            "0.17970319092273712\n",
            "0.17957493662834167\n",
            "0.17944662272930145\n",
            "0.17931795120239258\n",
            "0.17918910086154938\n",
            "0.17906008660793304\n",
            "0.17893096804618835\n",
            "0.17880156636238098\n",
            "0.17867198586463928\n",
            "0.17854227125644684\n",
            "0.17841236293315887\n",
            "0.17828211188316345\n",
            "0.17815175652503967\n",
            "0.17802119255065918\n",
            "0.17789047956466675\n",
            "0.17775940895080566\n",
            "0.17762824892997742\n",
            "0.177496999502182\n",
            "0.17736560106277466\n",
            "0.17723384499549866\n",
            "0.17710189521312714\n",
            "0.17696981132030487\n",
            "0.17683757841587067\n",
            "0.17670488357543945\n",
            "0.17657217383384705\n",
            "0.17643937468528748\n",
            "0.17630641162395477\n",
            "0.1761731505393982\n",
            "0.17603974044322968\n",
            "0.17590615153312683\n",
            "0.17577224969863892\n",
            "0.17563816905021667\n",
            "0.17550396919250488\n",
            "0.17536960542201996\n",
            "0.17523515224456787\n",
            "0.17510032653808594\n",
            "0.17496545612812042\n",
            "0.17483048141002655\n",
            "0.1746951788663864\n",
            "0.17455951869487762\n",
            "0.17442379891872406\n",
            "0.17428795993328094\n",
            "0.17415204644203186\n",
            "0.17401576042175293\n",
            "0.17387937009334564\n",
            "0.1737428605556488\n",
            "0.1736062467098236\n",
            "0.1734691560268402\n",
            "0.17333200573921204\n",
            "0.17319467663764954\n",
            "0.1730572134256363\n",
            "0.1729196310043335\n",
            "0.1727817803621292\n",
            "0.172643780708313\n",
            "0.17250576615333557\n",
            "0.17236734926700592\n",
            "0.17222866415977478\n",
            "0.17208994925022125\n",
            "0.1719510853290558\n",
            "0.17181216180324554\n",
            "0.17167286574840546\n",
            "0.1715334951877594\n",
            "0.17139393091201782\n",
            "0.17125433683395386\n",
            "0.17111431062221527\n",
            "0.17097415030002594\n",
            "0.17083391547203064\n",
            "0.170693501830101\n",
            "0.17055301368236542\n",
            "0.17041221261024475\n",
            "0.17027124762535095\n",
            "0.17013029754161835\n",
            "0.16998915374279022\n",
            "0.16984768211841583\n",
            "0.16970595717430115\n",
            "0.16956418752670288\n",
            "0.16942237317562103\n",
            "0.16928042471408844\n",
            "0.16913817822933197\n",
            "0.16899581253528595\n",
            "0.16885337233543396\n",
            "0.16871076822280884\n",
            "0.16856792569160461\n",
            "0.16842500865459442\n",
            "0.16828206181526184\n",
            "0.16813892126083374\n",
            "0.16799579560756683\n",
            "0.1678522676229477\n",
            "0.1677086055278778\n",
            "0.16756483912467957\n",
            "0.16742092370986938\n",
            "0.16727682948112488\n",
            "0.1671324521303177\n",
            "0.1669880896806717\n",
            "0.16684362292289734\n",
            "0.16669897735118866\n",
            "0.1665542870759964\n",
            "0.16640916466712952\n",
            "0.16626396775245667\n",
            "0.16611871123313904\n",
            "0.16597333550453186\n",
            "0.16582772135734558\n",
            "0.16568204760551453\n",
            "0.16553619503974915\n",
            "0.16539038717746735\n",
            "0.16524434089660645\n",
            "0.16509787738323212\n",
            "0.1649513691663742\n",
            "0.16480478644371033\n",
            "0.16465815901756287\n",
            "0.16451142728328705\n",
            "0.16436444222927094\n",
            "0.16421785950660706\n",
            "0.16407142579555511\n",
            "0.16392488777637482\n",
            "0.16377811133861542\n",
            "0.16363106667995453\n",
            "0.16348397731781006\n",
            "0.16333690285682678\n",
            "0.16318964958190918\n",
            "0.16304239630699158\n",
            "0.1628948301076889\n",
            "0.1627470850944519\n",
            "0.1625993549823761\n",
            "0.16245143115520477\n",
            "0.16230343282222748\n",
            "0.16215510666370392\n",
            "0.16200682520866394\n",
            "0.16185854375362396\n",
            "0.16171002388000488\n",
            "0.16156135499477386\n",
            "0.16141252219676971\n",
            "0.1612635850906372\n",
            "0.16111460328102112\n",
            "0.16096541285514832\n",
            "0.1608162820339203\n",
            "0.16066689789295197\n",
            "0.16051743924617767\n",
            "0.16036801040172577\n",
            "0.16021838784217834\n",
            "0.16006837785243988\n",
            "0.159918412566185\n",
            "0.15976829826831818\n",
            "0.15961824357509613\n",
            "0.1594681441783905\n",
            "0.159317746758461\n",
            "0.15916725993156433\n",
            "0.1590166985988617\n",
            "0.1588660627603531\n",
            "0.158715158700943\n",
            "0.15856418013572693\n",
            "0.15841330587863922\n",
            "0.15826228260993958\n",
            "0.1581113040447235\n",
            "0.1579599827528\n",
            "0.1578085720539093\n",
            "0.15765708684921265\n",
            "0.157505601644516\n",
            "0.15735384821891785\n",
            "0.15720203518867493\n",
            "0.1570502072572708\n",
            "0.1568983942270279\n",
            "0.156746506690979\n",
            "0.15659430623054504\n",
            "0.15644203126430511\n",
            "0.15628978610038757\n",
            "0.1561374068260193\n",
            "0.155985027551651\n"
          ],
          "name": "stdout"
        }
      ]
    },
    {
      "cell_type": "code",
      "metadata": {
        "colab": {
          "base_uri": "https://localhost:8080/",
          "height": 283
        },
        "id": "gNxYSmtqPykt",
        "outputId": "b22a4455-7eab-4dc5-e43d-53b63007d4b5"
      },
      "source": [
        "plt.plot(range(num_iter),losses)"
      ],
      "execution_count": 190,
      "outputs": [
        {
          "output_type": "execute_result",
          "data": {
            "text/plain": [
              "[<matplotlib.lines.Line2D at 0x7fe7b8514110>]"
            ]
          },
          "metadata": {
            "tags": []
          },
          "execution_count": 190
        },
        {
          "output_type": "display_data",
          "data": {
            "image/png": "[encoded data removed]",
            "text/plain": [
              "<Figure size 432x288 with 1 Axes>"
            ]
          },
          "metadata": {
            "tags": [],
            "needs_background": "light"
          }
        }
      ]
    },
    {
      "cell_type": "code",
      "metadata": {
        "id": "2XgpiOwGRAzg"
      },
      "source": [
        ""
      ],
      "execution_count": null,
      "outputs": []
    }
  ]
}