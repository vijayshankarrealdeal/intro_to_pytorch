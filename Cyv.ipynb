{
  "nbformat": 4,
  "nbformat_minor": 0,
  "metadata": {
    "accelerator": "GPU",
    "colab": {
      "name": "Cyv.ipynb",
      "provenance": [],
      "collapsed_sections": [],
      "authorship_tag": "ABX9TyNX5ISrG86A7MjIxpeAbXLn",
      "include_colab_link": true
    },
    "kernelspec": {
      "display_name": "Python 3",
      "name": "python3"
    },
    "language_info": {
      "name": "python"
    }
  },
  "cells": [
    {
      "cell_type": "markdown",
      "metadata": {
        "id": "view-in-github",
        "colab_type": "text"
      },
      "source": [
        "<a href=\"https://colab.research.google.com/github/vijayshankarrealdeal/intro_to_pytorch-Gans/blob/main/Cyv.ipynb\" target=\"_parent\"><img src=\"https://colab.research.google.com/assets/colab-badge.svg\" alt=\"Open In Colab\"/></a>"
      ]
    },
    {
      "cell_type": "code",
      "metadata": {
        "colab": {
          "base_uri": "https://localhost:8080/"
        },
        "id": "aiB8N78vXl8w",
        "outputId": "e15fba96-a6f8-4c5c-c1db-25ae9276a394"
      },
      "source": [
        "!nvidia-smi"
      ],
      "execution_count": null,
      "outputs": [
        {
          "output_type": "stream",
          "text": [
            "Sat Jul 31 07:03:05 2021       \n",
            "+-----------------------------------------------------------------------------+\n",
            "| NVIDIA-SMI 470.42.01    Driver Version: 460.32.03    CUDA Version: 11.2     |\n",
            "|-------------------------------+----------------------+----------------------+\n",
            "| GPU  Name        Persistence-M| Bus-Id        Disp.A | Volatile Uncorr. ECC |\n",
            "| Fan  Temp  Perf  Pwr:Usage/Cap|         Memory-Usage | GPU-Util  Compute M. |\n",
            "|                               |                      |               MIG M. |\n",
            "|===============================+======================+======================|\n",
            "|   0  Tesla T4            Off  | 00000000:00:04.0 Off |                    0 |\n",
            "| N/A   56C    P8    10W /  70W |      0MiB / 15109MiB |      0%      Default |\n",
            "|                               |                      |                  N/A |\n",
            "+-------------------------------+----------------------+----------------------+\n",
            "                                                                               \n",
            "+-----------------------------------------------------------------------------+\n",
            "| Processes:                                                                  |\n",
            "|  GPU   GI   CI        PID   Type   Process name                  GPU Memory |\n",
            "|        ID   ID                                                   Usage      |\n",
            "|=============================================================================|\n",
            "|  No running processes found                                                 |\n",
            "+-----------------------------------------------------------------------------+\n"
          ],
          "name": "stdout"
        }
      ]
    },
    {
      "cell_type": "code",
      "metadata": {
        "colab": {
          "base_uri": "https://localhost:8080/"
        },
        "id": "NGDzbuhCXpUe",
        "outputId": "b0896d59-e566-4fdd-e06e-30e0a8c5bd0d"
      },
      "source": [
        "from google.colab import drive\n",
        "drive.mount('/content/gdrive')"
      ],
      "execution_count": null,
      "outputs": [
        {
          "output_type": "stream",
          "text": [
            "Mounted at /content/gdrive\n"
          ],
          "name": "stdout"
        }
      ]
    },
    {
      "cell_type": "code",
      "metadata": {
        "id": "LNjvt0DLYE67"
      },
      "source": [
        "import os\n",
        "os.environ['KAGGLE_CONFIG_DIR'] = \"/content/gdrive/MyDrive/Kaggle/download\""
      ],
      "execution_count": null,
      "outputs": []
    },
    {
      "cell_type": "code",
      "metadata": {
        "colab": {
          "base_uri": "https://localhost:8080/"
        },
        "id": "PfrWzxvSYHcJ",
        "outputId": "6e0f6ac7-a0af-4e29-f462-c3b85ea818d2"
      },
      "source": [
        "%cd /content/gdrive/MyDrive/Kaggle/download"
      ],
      "execution_count": null,
      "outputs": [
        {
          "output_type": "stream",
          "text": [
            "/content/gdrive/MyDrive/Kaggle/download\n"
          ],
          "name": "stdout"
        }
      ]
    },
    {
      "cell_type": "code",
      "metadata": {
        "colab": {
          "base_uri": "https://localhost:8080/"
        },
        "id": "FRQKWeD5YKJu",
        "outputId": "55bf6746-9bd8-4efe-ad85-0afdccab4941"
      },
      "source": [
        "!kaggle competitions download -c gan-getting-started"
      ],
      "execution_count": null,
      "outputs": [
        {
          "output_type": "stream",
          "text": [
            "Warning: Looks like you're using an outdated API Version, please consider updating (server 1.5.12 / client 1.5.4)\n",
            "Downloading 07fcaee35f.jpg to /content/gdrive/My Drive/Kaggle/download\n",
            "  0% 0.00/9.16k [00:00<?, ?B/s]\n",
            "100% 9.16k/9.16k [00:00<00:00, 1.38MB/s]\n",
            "Downloading 1078363ff0.jpg to /content/gdrive/My Drive/Kaggle/download\n",
            "  0% 0.00/17.6k [00:00<?, ?B/s]\n",
            "100% 17.6k/17.6k [00:00<00:00, 2.46MB/s]\n",
            "Downloading 011835cfbf.jpg to /content/gdrive/My Drive/Kaggle/download\n",
            "  0% 0.00/23.4k [00:00<?, ?B/s]\n",
            "100% 23.4k/23.4k [00:00<00:00, 759kB/s]\n",
            "Downloading 049e293b93.jpg to /content/gdrive/My Drive/Kaggle/download\n",
            "  0% 0.00/11.8k [00:00<?, ?B/s]\n",
            "100% 11.8k/11.8k [00:00<00:00, 1.62MB/s]\n",
            "Downloading 118da0690c.jpg to /content/gdrive/My Drive/Kaggle/download\n",
            "  0% 0.00/19.7k [00:00<?, ?B/s]\n",
            "100% 19.7k/19.7k [00:00<00:00, 2.71MB/s]\n",
            "Downloading 11ab570c5e.jpg to /content/gdrive/My Drive/Kaggle/download\n",
            "  0% 0.00/16.3k [00:00<?, ?B/s]\n",
            "100% 16.3k/16.3k [00:00<00:00, 2.28MB/s]\n",
            "Downloading 0bd913dbc7.jpg to /content/gdrive/My Drive/Kaggle/download\n",
            "  0% 0.00/18.0k [00:00<?, ?B/s]\n",
            "100% 18.0k/18.0k [00:00<00:00, 2.57MB/s]\n",
            "Downloading 066fe4cbaa.jpg to /content/gdrive/My Drive/Kaggle/download\n",
            "  0% 0.00/17.9k [00:00<?, ?B/s]\n",
            "100% 17.9k/17.9k [00:00<00:00, 2.53MB/s]\n",
            "Downloading 09b76b6471.jpg to /content/gdrive/My Drive/Kaggle/download\n",
            "  0% 0.00/25.4k [00:00<?, ?B/s]\n",
            "100% 25.4k/25.4k [00:00<00:00, 3.55MB/s]\n",
            "Downloading 0a5075d42a.jpg to /content/gdrive/My Drive/Kaggle/download\n",
            "  0% 0.00/19.4k [00:00<?, ?B/s]\n",
            "100% 19.4k/19.4k [00:00<00:00, 2.77MB/s]\n",
            "Downloading 058f878b7c.jpg to /content/gdrive/My Drive/Kaggle/download\n",
            "  0% 0.00/14.7k [00:00<?, ?B/s]\n",
            "100% 14.7k/14.7k [00:00<00:00, 2.04MB/s]\n",
            "Downloading 052a77c020.jpg to /content/gdrive/My Drive/Kaggle/download\n",
            "  0% 0.00/18.1k [00:00<?, ?B/s]\n",
            "100% 18.1k/18.1k [00:00<00:00, 4.98MB/s]\n",
            "Downloading 10c555c1b1.jpg to /content/gdrive/My Drive/Kaggle/download\n",
            "  0% 0.00/17.6k [00:00<?, ?B/s]\n",
            "100% 17.6k/17.6k [00:00<00:00, 2.47MB/s]\n",
            "Downloading 05b493ff42.jpg to /content/gdrive/My Drive/Kaggle/download\n",
            "  0% 0.00/15.0k [00:00<?, ?B/s]\n",
            "100% 15.0k/15.0k [00:00<00:00, 2.10MB/s]\n",
            "Downloading 0e3b3292da.jpg to /content/gdrive/My Drive/Kaggle/download\n",
            "  0% 0.00/11.1k [00:00<?, ?B/s]\n",
            "100% 11.1k/11.1k [00:00<00:00, 2.59MB/s]\n",
            "Downloading 064487d630.jpg to /content/gdrive/My Drive/Kaggle/download\n",
            "  0% 0.00/13.4k [00:00<?, ?B/s]\n",
            "100% 13.4k/13.4k [00:00<00:00, 1.87MB/s]\n",
            "Downloading 05144e306f.jpg to /content/gdrive/My Drive/Kaggle/download\n",
            "  0% 0.00/11.3k [00:00<?, ?B/s]\n",
            "100% 11.3k/11.3k [00:00<00:00, 1.57MB/s]\n",
            "Downloading 000c1e3bff.jpg to /content/gdrive/My Drive/Kaggle/download\n",
            "  0% 0.00/13.0k [00:00<?, ?B/s]\n",
            "100% 13.0k/13.0k [00:00<00:00, 1.83MB/s]\n",
            "Downloading 106757e5d8.jpg to /content/gdrive/My Drive/Kaggle/download\n",
            "  0% 0.00/11.2k [00:00<?, ?B/s]\n",
            "100% 11.2k/11.2k [00:00<00:00, 1.55MB/s]\n",
            "Downloading 0260d15306.jpg to /content/gdrive/My Drive/Kaggle/download\n",
            "  0% 0.00/10.4k [00:00<?, ?B/s]\n",
            "100% 10.4k/10.4k [00:00<00:00, 2.82MB/s]\n",
            "Downloading 00aeb60e25.jpg to /content/gdrive/My Drive/Kaggle/download\n",
            "  0% 0.00/13.5k [00:00<?, ?B/s]\n",
            "100% 13.5k/13.5k [00:00<00:00, 217kB/s]\n",
            "Downloading 000910d219.jpg to /content/gdrive/My Drive/Kaggle/download\n",
            "  0% 0.00/15.3k [00:00<?, ?B/s]\n",
            "100% 15.3k/15.3k [00:00<00:00, 2.15MB/s]\n",
            "Downloading 009d534136.jpg to /content/gdrive/My Drive/Kaggle/download\n",
            "  0% 0.00/12.9k [00:00<?, ?B/s]\n",
            "100% 12.9k/12.9k [00:00<00:00, 1.76MB/s]\n",
            "Downloading 001158d595.jpg to /content/gdrive/My Drive/Kaggle/download\n",
            "  0% 0.00/10.9k [00:00<?, ?B/s]\n",
            "100% 10.9k/10.9k [00:00<00:00, 1.23MB/s]\n",
            "Downloading 00479e2a21.jpg to /content/gdrive/My Drive/Kaggle/download\n",
            "  0% 0.00/5.99k [00:00<?, ?B/s]\n",
            "100% 5.99k/5.99k [00:00<00:00, 854kB/s]\n",
            "Downloading 00882b7e1d.jpg to /content/gdrive/My Drive/Kaggle/download\n",
            "  0% 0.00/8.27k [00:00<?, ?B/s]\n",
            "100% 8.27k/8.27k [00:00<00:00, 1.19MB/s]\n",
            "Downloading 00dcf0f1e3.jpg to /content/gdrive/My Drive/Kaggle/download\n",
            "  0% 0.00/12.2k [00:00<?, ?B/s]\n",
            "100% 12.2k/12.2k [00:00<00:00, 4.04MB/s]\n",
            "Downloading 005f987f56.jpg to /content/gdrive/My Drive/Kaggle/download\n",
            "  0% 0.00/4.28k [00:00<?, ?B/s]\n",
            "100% 4.28k/4.28k [00:00<00:00, 1.31MB/s]\n",
            "Downloading 00c6a0ad1e.jpg to /content/gdrive/My Drive/Kaggle/download\n",
            "  0% 0.00/19.3k [00:00<?, ?B/s]\n",
            "100% 19.3k/19.3k [00:00<00:00, 2.71MB/s]\n",
            "Downloading 00e1798585.jpg to /content/gdrive/My Drive/Kaggle/download\n",
            "  0% 0.00/13.5k [00:00<?, ?B/s]\n",
            "100% 13.5k/13.5k [00:00<00:00, 1.89MB/s]\n",
            "Downloading 000ded5c41.jpg to /content/gdrive/My Drive/Kaggle/download\n",
            "  0% 0.00/9.82k [00:00<?, ?B/s]\n",
            "100% 9.82k/9.82k [00:00<00:00, 1.37MB/s]\n",
            "Downloading 0039ebb598.jpg to /content/gdrive/My Drive/Kaggle/download\n",
            "  0% 0.00/8.66k [00:00<?, ?B/s]\n",
            "100% 8.66k/8.66k [00:00<00:00, 2.34MB/s]\n",
            "Downloading 00068bc07f.jpg to /content/gdrive/My Drive/Kaggle/download\n",
            "  0% 0.00/14.4k [00:00<?, ?B/s]\n",
            "100% 14.4k/14.4k [00:00<00:00, 2.04MB/s]\n",
            "Downloading 003aab6fdd.jpg to /content/gdrive/My Drive/Kaggle/download\n",
            "  0% 0.00/22.8k [00:00<?, ?B/s]\n",
            "100% 22.8k/22.8k [00:00<00:00, 3.19MB/s]\n",
            "Downloading 0080f94ebc.jpg to /content/gdrive/My Drive/Kaggle/download\n",
            "  0% 0.00/8.17k [00:00<?, ?B/s]\n",
            "100% 8.17k/8.17k [00:00<00:00, 1.13MB/s]\n",
            "Downloading 00104fd531.jpg to /content/gdrive/My Drive/Kaggle/download\n",
            "  0% 0.00/7.76k [00:00<?, ?B/s]\n",
            "100% 7.76k/7.76k [00:00<00:00, 69.9kB/s]\n",
            "Downloading 003c6c30e0.jpg to /content/gdrive/My Drive/Kaggle/download\n",
            "  0% 0.00/13.5k [00:00<?, ?B/s]\n",
            "100% 13.5k/13.5k [00:00<00:00, 1.94MB/s]\n",
            "Downloading 00dff09ebe.jpg to /content/gdrive/My Drive/Kaggle/download\n",
            "  0% 0.00/10.1k [00:00<?, ?B/s]\n",
            "100% 10.1k/10.1k [00:00<00:00, 2.83MB/s]\n",
            "Downloading 0033c5f971.jpg to /content/gdrive/My Drive/Kaggle/download\n",
            "  0% 0.00/9.20k [00:00<?, ?B/s]\n",
            "100% 9.20k/9.20k [00:00<00:00, 1.29MB/s]\n",
            "Downloading 009ddaed1f.jpg to /content/gdrive/My Drive/Kaggle/download\n",
            "  0% 0.00/16.4k [00:00<?, ?B/s]\n",
            "100% 16.4k/16.4k [00:00<00:00, 2.30MB/s]\n",
            "Downloading photo05-352.tfrec.zip to /content/gdrive/My Drive/Kaggle/download\n",
            " 37% 5.00M/13.4M [00:00<00:00, 33.0MB/s]\n",
            "100% 13.4M/13.4M [00:00<00:00, 65.5MB/s]\n",
            "Downloading photo06-352.tfrec.zip to /content/gdrive/My Drive/Kaggle/download\n",
            " 39% 5.00M/13.0M [00:00<00:00, 32.1MB/s]\n",
            "100% 13.0M/13.0M [00:00<00:00, 63.5MB/s]\n",
            "Downloading photo19-350.tfrec.zip to /content/gdrive/My Drive/Kaggle/download\n",
            "100% 12.9M/12.9M [00:00<00:00, 35.2MB/s]\n",
            "\n",
            "Downloading photo04-352.tfrec.zip to /content/gdrive/My Drive/Kaggle/download\n",
            " 68% 9.00M/13.1M [00:00<00:00, 21.2MB/s]\n",
            "100% 13.1M/13.1M [00:00<00:00, 22.4MB/s]\n",
            "Downloading photo09-352.tfrec.zip to /content/gdrive/My Drive/Kaggle/download\n",
            " 38% 5.00M/13.0M [00:00<00:01, 8.07MB/s]\n",
            "100% 13.0M/13.0M [00:00<00:00, 19.1MB/s]\n",
            "Downloading photo18-352.tfrec.zip to /content/gdrive/My Drive/Kaggle/download\n",
            " 40% 5.00M/12.6M [00:00<00:00, 20.2MB/s]\n",
            "100% 12.6M/12.6M [00:00<00:00, 42.1MB/s]\n",
            "Downloading photo00-352.tfrec.zip to /content/gdrive/My Drive/Kaggle/download\n",
            " 38% 5.00M/13.1M [00:00<00:00, 14.8MB/s]\n",
            "100% 13.1M/13.1M [00:00<00:00, 33.1MB/s]\n",
            "Downloading photo11-352.tfrec.zip to /content/gdrive/My Drive/Kaggle/download\n",
            " 38% 5.00M/13.2M [00:00<00:00, 43.1MB/s]\n",
            "100% 13.2M/13.2M [00:00<00:00, 52.4MB/s]\n",
            "Downloading photo07-352.tfrec.zip to /content/gdrive/My Drive/Kaggle/download\n",
            " 39% 5.00M/12.9M [00:00<00:00, 27.1MB/s]\n",
            "100% 12.9M/12.9M [00:00<00:00, 51.1MB/s]\n",
            "Downloading photo14-352.tfrec.zip to /content/gdrive/My Drive/Kaggle/download\n",
            " 38% 5.00M/13.2M [00:00<00:00, 31.3MB/s]\n",
            "100% 13.2M/13.2M [00:00<00:00, 52.1MB/s]\n",
            "Downloading photo10-352.tfrec.zip to /content/gdrive/My Drive/Kaggle/download\n",
            "100% 13.0M/13.0M [00:00<00:00, 39.4MB/s]\n",
            "\n",
            "Downloading photo16-352.tfrec.zip to /content/gdrive/My Drive/Kaggle/download\n",
            " 70% 9.00M/12.8M [00:00<00:00, 21.6MB/s]\n",
            "100% 12.8M/12.8M [00:00<00:00, 26.1MB/s]\n",
            "Downloading photo17-352.tfrec.zip to /content/gdrive/My Drive/Kaggle/download\n",
            " 38% 5.00M/13.2M [00:00<00:00, 33.7MB/s]\n",
            "100% 13.2M/13.2M [00:00<00:00, 52.5MB/s]\n",
            "Downloading photo15-352.tfrec.zip to /content/gdrive/My Drive/Kaggle/download\n",
            " 86% 11.0M/12.7M [00:00<00:00, 44.6MB/s]\n",
            "100% 12.7M/12.7M [00:00<00:00, 50.5MB/s]\n",
            "Downloading photo01-352.tfrec.zip to /content/gdrive/My Drive/Kaggle/download\n",
            " 40% 5.00M/12.7M [00:00<00:00, 33.0MB/s]\n",
            "100% 12.7M/12.7M [00:00<00:00, 62.0MB/s]\n",
            "Downloading photo03-352.tfrec.zip to /content/gdrive/My Drive/Kaggle/download\n",
            " 39% 5.00M/12.8M [00:00<00:00, 32.4MB/s]\n",
            "100% 12.8M/12.8M [00:00<00:00, 50.6MB/s]\n",
            "Downloading photo12-352.tfrec.zip to /content/gdrive/My Drive/Kaggle/download\n",
            " 39% 5.00M/12.9M [00:00<00:00, 17.4MB/s]\n",
            "100% 12.9M/12.9M [00:00<00:00, 37.0MB/s]\n",
            "Downloading photo13-352.tfrec.zip to /content/gdrive/My Drive/Kaggle/download\n",
            " 39% 5.00M/12.9M [00:00<00:00, 30.6MB/s]\n",
            "100% 12.9M/12.9M [00:00<00:00, 51.4MB/s]\n",
            "Downloading photo02-352.tfrec.zip to /content/gdrive/My Drive/Kaggle/download\n",
            " 40% 5.00M/12.6M [00:00<00:00, 14.0MB/s]\n",
            "100% 12.6M/12.6M [00:00<00:00, 28.5MB/s]\n",
            "Downloading photo08-352.tfrec.zip to /content/gdrive/My Drive/Kaggle/download\n",
            " 38% 5.00M/13.0M [00:00<00:00, 25.3MB/s]\n",
            "100% 13.0M/13.0M [00:00<00:00, 43.5MB/s]\n",
            "Downloading monet16-60.tfrec.zip to /content/gdrive/My Drive/Kaggle/download\n",
            "  0% 0.00/1.93M [00:00<?, ?B/s]\n",
            "100% 1.93M/1.93M [00:00<00:00, 128MB/s]\n",
            "Downloading monet04-60.tfrec.zip to /content/gdrive/My Drive/Kaggle/download\n",
            "  0% 0.00/1.94M [00:00<?, ?B/s]\n",
            "100% 1.94M/1.94M [00:00<00:00, 126MB/s]\n",
            "Downloading monet00-60.tfrec.zip to /content/gdrive/My Drive/Kaggle/download\n",
            "  0% 0.00/2.12M [00:00<?, ?B/s]\n",
            "100% 2.12M/2.12M [00:00<00:00, 71.0MB/s]\n",
            "Downloading monet08-60.tfrec.zip to /content/gdrive/My Drive/Kaggle/download\n",
            "  0% 0.00/1.87M [00:00<?, ?B/s]\n",
            "100% 1.87M/1.87M [00:00<00:00, 60.1MB/s]\n",
            "Downloading monet12-60.tfrec.zip to /content/gdrive/My Drive/Kaggle/download\n",
            "  0% 0.00/1.88M [00:00<?, ?B/s]\n",
            "100% 1.88M/1.88M [00:00<00:00, 62.0MB/s]\n"
          ],
          "name": "stdout"
        }
      ]
    },
    {
      "cell_type": "code",
      "metadata": {
        "id": "DOal2BQ5YWsr"
      },
      "source": [
        "from distutils.dir_util import copy_tree\n",
        "\n",
        "fromDirectory = \"/content/gdrive/MyDrive/Kaggle/download\"\n",
        "toDirectory = \"/content/dataset\"\n",
        "\n",
        "copy_tree(fromDirectory, toDirectory)"
      ],
      "execution_count": null,
      "outputs": []
    },
    {
      "cell_type": "code",
      "metadata": {
        "id": "SryuLoMTYwex"
      },
      "source": [
        "for i in os.listdir(toDirectory):\n",
        "  if i[-1] == 'g':\n",
        "    os.remove(toDirectory+\"/\"+str(i)) \n",
        "  print(i[-1])"
      ],
      "execution_count": null,
      "outputs": []
    },
    {
      "cell_type": "code",
      "metadata": {
        "id": "SK8aHwTNbGDX"
      },
      "source": [
        "listofext = []"
      ],
      "execution_count": null,
      "outputs": []
    },
    {
      "cell_type": "code",
      "metadata": {
        "id": "zHOZzrCfZxXa"
      },
      "source": [
        "directory_to_extract_to = \"/content/extract/\"\n",
        "import zipfile\n",
        "for i in os.listdir(toDirectory):\n",
        "  if i != \".ipynb_checkpoints\":\n",
        "    with zipfile.ZipFile(toDirectory+\"/\"+str(i), 'r') as zip_ref:\n",
        "        zip_ref.extractall(directory_to_extract_to+str(i))\n",
        "        listofext.append(directory_to_extract_to+str(i))"
      ],
      "execution_count": null,
      "outputs": []
    },
    {
      "cell_type": "code",
      "metadata": {
        "id": "QEIM5kvSb-_P"
      },
      "source": [
        "import shutil, sys \n",
        "shutil.rmtree(toDirectory)"
      ],
      "execution_count": null,
      "outputs": []
    },
    {
      "cell_type": "code",
      "metadata": {
        "id": "0HL5U3imbUD9"
      },
      "source": [
        "listofext"
      ],
      "execution_count": null,
      "outputs": []
    },
    {
      "cell_type": "code",
      "metadata": {
        "colab": {
          "background_save": true,
          "base_uri": "https://localhost:8080/",
          "height": 332
        },
        "id": "QMozQr_Ubb81",
        "outputId": "e67645ab-f462-46dd-d9fd-0e43e75961df"
      },
      "source": [
        "monet = []\n",
        "photo = []\n",
        "monet_dir = \"/content/monet\"\n",
        "photo_dir = \"/content/photo\"\n",
        "from shutil import copyfile\n",
        "for pat  in listofext:\n",
        "  for files in os.listdir(pat):\n",
        "    if str(files)[:5] == 'monet':\n",
        "      copyfile(pat+files, monet_dir)\n",
        "    else:\n",
        "      copyfile(pat+files, photo_dir)"
      ],
      "execution_count": null,
      "outputs": [
        {
          "output_type": "stream",
          "text": [
            "photo08-352.tfrec\n",
            "monet08-60.tfrec\n",
            "photo19-350.tfrec\n",
            "photo07-352.tfrec\n",
            "monet12-60.tfrec\n",
            "photo14-352.tfrec\n",
            "photo06-352.tfrec\n",
            "monet00-60.tfrec\n",
            "photo15-352.tfrec\n",
            "photo10-352.tfrec\n",
            "photo05-352.tfrec\n",
            "photo00-352.tfrec\n",
            "photo18-352.tfrec\n",
            "photo12-352.tfrec\n",
            "photo16-352.tfrec\n",
            "monet04-60.tfrec\n",
            "photo09-352.tfrec\n",
            "photo04-352.tfrec\n",
            "photo17-352.tfrec\n",
            "photo13-352.tfrec\n",
            "monet16-60.tfrec\n",
            "photo03-352.tfrec\n",
            "photo02-352.tfrec\n",
            "photo01-352.tfrec\n",
            "photo11-352.tfrec\n"
          ],
          "name": "stdout"
        }
      ]
    },
    {
      "cell_type": "code",
      "metadata": {
        "id": "L7pUbqJmWbfA"
      },
      "source": [
        "import torch\n",
        "import torch.nn as nn\n",
        "import matplotlib.pyplot as plt\n",
        "import numpy as np\n",
        "import pandas as pd\n",
        "import cv2\n",
        "from tqdm.auto import tqdm\n",
        "from torch.utils.data import Dataset,DataLoader\n",
        "from torchvision.utils import make_grid\n",
        "import math\n",
        "from PIL import Image"
      ],
      "execution_count": null,
      "outputs": []
    },
    {
      "cell_type": "code",
      "metadata": {
        "id": "B3uNf-H3WkNJ"
      },
      "source": [
        "main_path = \"/kaggle/input/gan-getting-started/\"\n",
        "monet_data  = main_path + \"monet_jpg/\"\n",
        "photo_data = main_path + \"photo_jpg/\"\n",
        "monet_data,photo_data"
      ],
      "execution_count": null,
      "outputs": []
    },
    {
      "cell_type": "code",
      "metadata": {
        "id": "13G7YPnoWoc7"
      },
      "source": [
        "import torch\n",
        "import albumentations as A\n",
        "from albumentations.pytorch import ToTensorV2\n",
        "\n",
        "DEVICE = \"cuda\" if torch.cuda.is_available() else \"cpu\"\n",
        "TRAIN_DIR = \"/kaggle/input/gan-getting-started\"\n",
        "VAL_DIR = \"data/val\"\n",
        "BATCH_SIZE = 1\n",
        "LEARNING_RATE = 1e-5\n",
        "LAMBDA_IDENTITY = 0.0\n",
        "LAMBDA_CYCLE = 10\n",
        "NUM_WORKERS = 4\n",
        "NUM_EPOCHS = 10\n",
        "LOAD_MODEL = True\n",
        "SAVE_MODEL = True\n",
        "CHECKPOINT_GEN_H = \"genh.pth.tar\"\n",
        "CHECKPOINT_GEN_Z = \"genz.pth.tar\"\n",
        "CHECKPOINT_CRITIC_H = \"critich.pth.tar\"\n",
        "CHECKPOINT_CRITIC_Z = \"criticz.pth.tar\"\n",
        "\n",
        "transforms = A.Compose(\n",
        "    [\n",
        "        A.Resize(width=256, height=256),\n",
        "        A.HorizontalFlip(p=0.5),\n",
        "        A.Normalize(mean=[0.5, 0.5, 0.5], std=[0.5, 0.5, 0.5], max_pixel_value=255),\n",
        "        ToTensorV2(),\n",
        "     ],\n",
        "    additional_targets={\"image0\": \"image\"},\n",
        ")"
      ],
      "execution_count": null,
      "outputs": []
    },
    {
      "cell_type": "code",
      "metadata": {
        "id": "DprV4g5oWqRq"
      },
      "source": [
        "#utils\n",
        "import random, torch, os, numpy as np\n",
        "import torch.nn as nn\n",
        "import copy\n",
        "\n",
        "def save_checkpoint(model, optimizer, filename=\"my_checkpoint.pth.tar\"):\n",
        "    print(\"=> Saving checkpoint\")\n",
        "    checkpoint = {\n",
        "        \"state_dict\": model.state_dict(),\n",
        "        \"optimizer\": optimizer.state_dict(),\n",
        "    }\n",
        "    torch.save(checkpoint, filename)\n",
        "\n",
        "\n",
        "def load_checkpoint(checkpoint_file, model, optimizer, lr):\n",
        "    print(\"=> Loading checkpoint\")\n",
        "    checkpoint = torch.load(checkpoint_file, map_location=config.DEVICE)\n",
        "    model.load_state_dict(checkpoint[\"state_dict\"])\n",
        "    optimizer.load_state_dict(checkpoint[\"optimizer\"])\n",
        "\n",
        "    for param_group in optimizer.param_groups:\n",
        "        param_group[\"lr\"] = lr\n",
        "\n",
        "\n",
        "def seed_everything(seed=42):\n",
        "    os.environ[\"PYTHONHASHSEED\"] = str(seed)\n",
        "    random.seed(seed)\n",
        "    np.random.seed(seed)\n",
        "    torch.manual_seed(seed)\n",
        "    torch.cuda.manual_seed(seed)\n",
        "    torch.cuda.manual_seed_all(seed)\n",
        "    torch.backends.cudnn.deterministic = True\n",
        "    torch.backends.cudnn.benchmark = False"
      ],
      "execution_count": null,
      "outputs": []
    },
    {
      "cell_type": "code",
      "metadata": {
        "id": "ogggctB9WsBV"
      },
      "source": [
        "def print_details(path):\n",
        "    folder_files_count = 0\n",
        "    image_shape = {}\n",
        "    for i in os.listdir(path):\n",
        "        image = cv2.imread(path+i)\n",
        "        image_shape['image_shape'] = image.shape\n",
        "        image_shape['folder_name'] = path\n",
        "        folder_files_count += 1\n",
        "    image_shape['items'] = folder_files_count\n",
        "    return image_shape\n",
        "print_details(monet_data)\n",
        "        "
      ],
      "execution_count": null,
      "outputs": []
    },
    {
      "cell_type": "code",
      "metadata": {
        "id": "m1d5dG9UWxDx"
      },
      "source": [
        "def see_batch(path,n_images,fig_size=(25,25)):\n",
        "    plt.figure(figsize = fig_size)\n",
        "    w = int(n_images ** .5)\n",
        "    h = math.ceil(n_images / w)\n",
        "    \n",
        "    all_names = os.listdir(path)\n",
        "    \n",
        "    image_names = all_names[:n_images]\n",
        "    for ind, image_name in enumerate(image_names):\n",
        "        img = cv2.imread(os.path.join(path, image_name))\n",
        "        img = cv2.cvtColor(img, cv2.COLOR_BGR2RGB) \n",
        "        plt.subplot(h, w, ind + 1)\n",
        "        plt.imshow(img)\n",
        "        plt.axis(\"off\")\n",
        "    \n",
        "    plt.show()"
      ],
      "execution_count": null,
      "outputs": []
    },
    {
      "cell_type": "code",
      "metadata": {
        "id": "vRc9mYG9Wy-P"
      },
      "source": [
        "see_batch(monet_data,25)"
      ],
      "execution_count": null,
      "outputs": []
    },
    {
      "cell_type": "code",
      "metadata": {
        "id": "2xHycWmGW2gs"
      },
      "source": [
        "class Monet2Phots(Dataset):\n",
        "    def __init__(self,root_monet,root_picture,transform = None):\n",
        "        self.root_monet = root_monet\n",
        "        self.root_picture = root_picture\n",
        "        self.transform = transform\n",
        "        \n",
        "        self.monet_images = os.listdir(root_monet)\n",
        "        self.picture_images = os.listdir(root_picture)\n",
        "        \n",
        "        self.length_dataset = max(len(self.monet_images),len(self.picture_images)) - 6500\n",
        "        \n",
        "        self.monet_len = len(self.monet_images)\n",
        "        self.picture_len = len(self.picture_images) - 6500\n",
        "        \n",
        "    def __len__(self):\n",
        "        return self.length_dataset\n",
        "    \n",
        "    def __getitem__(self,index):\n",
        "        monet_img = self.monet_images[index%self.monet_len]\n",
        "        picture_img = self.picture_images[index%self.picture_len]\n",
        "        \n",
        "        monet_path = os.path.join(self.root_monet,monet_img)\n",
        "        picture_path = os.path.join(self.root_picture,picture_img)\n",
        "        \n",
        "        monet_img = np.array(Image.open(monet_path).convert(\"RGB\"))\n",
        "        picture_img = np.array(Image.open(picture_path).convert(\"RGB\"))\n",
        "        \n",
        "        if self.transform:\n",
        "            argumentaions = self.transform(image = monet_img,image0 = picture_img)\n",
        "            monet_img = argumentaions['image']\n",
        "            picture_img = argumentaions['image0']\n",
        "        return monet_img,picture_img\n",
        "        \n",
        "        "
      ],
      "execution_count": null,
      "outputs": []
    },
    {
      "cell_type": "code",
      "metadata": {
        "id": "r-nZtoiBW4hv"
      },
      "source": [
        "dataset = Monet2Phots(monet_data,photo_data,transforms)"
      ],
      "execution_count": null,
      "outputs": []
    },
    {
      "cell_type": "code",
      "metadata": {
        "id": "jUcCKAo2W6bI"
      },
      "source": [
        "loader = DataLoader(dataset,\n",
        "                    batch_size = BATCH_SIZE,shuffle = True,\n",
        "                    num_workers = NUM_WORKERS,pin_memory = True)"
      ],
      "execution_count": null,
      "outputs": []
    },
    {
      "cell_type": "code",
      "metadata": {
        "id": "Btj57MF3W8FA"
      },
      "source": [
        "class ResidualBlock(nn.Module):\n",
        "    def __init__(self, input_channels):\n",
        "        super(ResidualBlock, self).__init__()\n",
        "        self.conv1 = nn.Conv2d(input_channels, input_channels, kernel_size=3, padding=1, padding_mode='reflect')\n",
        "        self.conv2 = nn.Conv2d(input_channels, input_channels, kernel_size=3, padding=1, padding_mode='reflect')\n",
        "        self.instancenorm = nn.InstanceNorm2d(input_channels)\n",
        "        self.activation = nn.ReLU()\n",
        "\n",
        "    def forward(self, x):\n",
        "        original_x = x.clone()\n",
        "        x = self.conv1(x)\n",
        "        x = self.instancenorm(x)\n",
        "        x = self.activation(x)\n",
        "        x = self.conv2(x)\n",
        "        x = self.instancenorm(x)\n",
        "        return original_x + x"
      ],
      "execution_count": null,
      "outputs": []
    },
    {
      "cell_type": "code",
      "metadata": {
        "id": "XgKW6iKwW8uS"
      },
      "source": [
        "class ContractingBlock(nn.Module):\n",
        "    def __init__(self, input_channels, use_bn=True, kernel_size=3, activation='relu'):\n",
        "        super(ContractingBlock, self).__init__()\n",
        "        self.conv1 = nn.Conv2d(input_channels, input_channels * 2, kernel_size=kernel_size, padding=1, stride=2, padding_mode='reflect')\n",
        "        self.activation = nn.ReLU() if activation == 'relu' else nn.LeakyReLU(0.2)\n",
        "        if use_bn:\n",
        "            self.instancenorm = nn.InstanceNorm2d(input_channels * 2)\n",
        "        self.use_bn = use_bn\n",
        "\n",
        "    def forward(self, x):\n",
        "        x = self.conv1(x)\n",
        "        if self.use_bn:\n",
        "            x = self.instancenorm(x)\n",
        "        x = self.activation(x)\n",
        "        return x\n",
        "\n",
        "class ExpandingBlock(nn.Module):\n",
        "    def __init__(self, input_channels, use_bn=True):\n",
        "        super(ExpandingBlock, self).__init__()\n",
        "        self.conv1 = nn.ConvTranspose2d(input_channels, input_channels // 2, kernel_size=3, stride=2, padding=1, output_padding=1)\n",
        "        if use_bn:\n",
        "            self.instancenorm = nn.InstanceNorm2d(input_channels // 2)\n",
        "        self.use_bn = use_bn\n",
        "        self.activation = nn.ReLU()\n",
        "\n",
        "    def forward(self, x):\n",
        "        x = self.conv1(x)\n",
        "        if self.use_bn:\n",
        "            x = self.instancenorm(x)\n",
        "        x = self.activation(x)\n",
        "        return x\n",
        "\n",
        "class FeatureMapBlock(nn.Module):\n",
        "    def __init__(self, input_channels, output_channels):\n",
        "        super(FeatureMapBlock, self).__init__()\n",
        "        self.conv = nn.Conv2d(input_channels, output_channels, kernel_size=7, padding=3, padding_mode='reflect')\n",
        "\n",
        "    def forward(self, x):\n",
        "        x = self.conv(x)\n",
        "        return x"
      ],
      "execution_count": null,
      "outputs": []
    },
    {
      "cell_type": "code",
      "metadata": {
        "id": "VaHUvdbdW-8-"
      },
      "source": [
        "class Generator(nn.Module):\n",
        "    def __init__(self, input_channels, output_channels, hidden_channels=64):\n",
        "        super(Generator, self).__init__()\n",
        "        self.upfeature = FeatureMapBlock(input_channels, hidden_channels)\n",
        "        self.contract1 = ContractingBlock(hidden_channels)\n",
        "        self.contract2 = ContractingBlock(hidden_channels * 2)\n",
        "        res_mult = 4\n",
        "        self.res0 = ResidualBlock(hidden_channels * res_mult)\n",
        "        self.res1 = ResidualBlock(hidden_channels * res_mult)\n",
        "        self.res2 = ResidualBlock(hidden_channels * res_mult)\n",
        "        self.res3 = ResidualBlock(hidden_channels * res_mult)\n",
        "        self.res4 = ResidualBlock(hidden_channels * res_mult)\n",
        "        self.res5 = ResidualBlock(hidden_channels * res_mult)\n",
        "        self.res6 = ResidualBlock(hidden_channels * res_mult)\n",
        "        self.res7 = ResidualBlock(hidden_channels * res_mult)\n",
        "        self.res8 = ResidualBlock(hidden_channels * res_mult)\n",
        "        self.expand2 = ExpandingBlock(hidden_channels * 4)\n",
        "        self.expand3 = ExpandingBlock(hidden_channels * 2)\n",
        "        self.downfeature = FeatureMapBlock(hidden_channels, output_channels)\n",
        "        self.tanh = torch.nn.Tanh()\n",
        "\n",
        "    def forward(self, x):\n",
        "        x0 = self.upfeature(x)\n",
        "        x1 = self.contract1(x0)\n",
        "        x2 = self.contract2(x1)\n",
        "        x3 = self.res0(x2)\n",
        "        x4 = self.res1(x3)\n",
        "        x5 = self.res2(x4)\n",
        "        x6 = self.res3(x5)\n",
        "        x7 = self.res4(x6)\n",
        "        x8 = self.res5(x7)\n",
        "        x9 = self.res6(x8)\n",
        "        x10 = self.res7(x9)\n",
        "        x11 = self.res8(x10)\n",
        "        x12 = self.expand2(x11)\n",
        "        x13 = self.expand3(x12)\n",
        "        xn = self.downfeature(x13)\n",
        "        return self.tanh(xn)"
      ],
      "execution_count": null,
      "outputs": []
    },
    {
      "cell_type": "code",
      "metadata": {
        "id": "3Ovre3OBXA9m"
      },
      "source": [
        "class Discriminator(nn.Module):\n",
        "    def __init__(self, input_channels, hidden_channels=64):\n",
        "        super(Discriminator, self).__init__()\n",
        "        self.upfeature = FeatureMapBlock(input_channels, hidden_channels)\n",
        "        self.contract1 = ContractingBlock(hidden_channels, use_bn=False, kernel_size=4, activation='lrelu')\n",
        "        self.contract2 = ContractingBlock(hidden_channels * 2, kernel_size=4, activation='lrelu')\n",
        "        self.contract3 = ContractingBlock(hidden_channels * 4, kernel_size=4, activation='lrelu')\n",
        "        self.final = nn.Conv2d(hidden_channels * 8, 1, kernel_size=1)\n",
        "\n",
        "    def forward(self, x):\n",
        "        x0 = self.upfeature(x)\n",
        "        x1 = self.contract1(x0)\n",
        "        x2 = self.contract2(x1)\n",
        "        x3 = self.contract3(x2)\n",
        "        xn = self.final(x3)\n",
        "        return xn"
      ],
      "execution_count": null,
      "outputs": []
    },
    {
      "cell_type": "code",
      "metadata": {
        "id": "f4CW_hQ9XC1Z"
      },
      "source": [
        "import torch.nn.functional as F\n",
        "\n",
        "adv_criterion = nn.MSELoss() \n",
        "recon_criterion = nn.L1Loss() \n",
        "\n",
        "n_epochs = 20\n",
        "dim_A = 3\n",
        "dim_B = 3\n",
        "display_step = 200\n",
        "lr = 0.0002\n",
        "load_shape = 286\n",
        "target_shape = 256\n",
        "device = 'cuda'\n"
      ],
      "execution_count": null,
      "outputs": []
    },
    {
      "cell_type": "code",
      "metadata": {
        "id": "FuDkfRzKXEj-"
      },
      "source": [
        "gen_AB = Generator(dim_A, dim_B).to(device)\n",
        "gen_BA = Generator(dim_B, dim_A).to(device)\n",
        "gen_opt = torch.optim.Adam(list(gen_AB.parameters()) + list(gen_BA.parameters()), lr=lr, betas=(0.5, 0.999))\n",
        "disc_A = Discriminator(dim_A).to(device)\n",
        "disc_A_opt = torch.optim.Adam(disc_A.parameters(), lr=lr, betas=(0.5, 0.999))\n",
        "disc_B = Discriminator(dim_B).to(device)\n",
        "disc_B_opt = torch.optim.Adam(disc_B.parameters(), lr=lr, betas=(0.5, 0.999))\n",
        "\n",
        "def weights_init(m):\n",
        "    if isinstance(m, nn.Conv2d) or isinstance(m, nn.ConvTranspose2d):\n",
        "        torch.nn.init.normal_(m.weight, 0.0, 0.02)\n",
        "    if isinstance(m, nn.BatchNorm2d):\n",
        "        torch.nn.init.normal_(m.weight, 0.0, 0.02)\n",
        "        torch.nn.init.constant_(m.bias, 0)"
      ],
      "execution_count": null,
      "outputs": []
    },
    {
      "cell_type": "code",
      "metadata": {
        "id": "I96ae8T5XGlO"
      },
      "source": [
        "def get_disc_loss(real_X, fake_X, disc_X, adv_criterion):\n",
        "    disc_fake_X_hat = disc_X(fake_X.detach())\n",
        "    disc_fake_X_loss  = adv_criterion(disc_fake_X_hat,torch.zeros_like(disc_fake_X_hat))\n",
        "    disc_real_X_hat  = disc_X(real_X)\n",
        "    disc_real_X_loss  = adv_criterion(disc_real_X_hat,torch.ones_like(disc_real_X_hat))\n",
        "    disc_loss = (disc_real_X_loss +disc_fake_X_loss)/2\n",
        "    return disc_loss"
      ],
      "execution_count": null,
      "outputs": []
    },
    {
      "cell_type": "code",
      "metadata": {
        "id": "D4H0GU_VXIYE"
      },
      "source": [
        "def get_gen_adversarial_loss(real_X, disc_Y, gen_XY, adv_criterion):\n",
        "    fake_Y = gen_XY(real_X)\n",
        "    disc_fake_Y_hat  = disc_Y(fake_Y)\n",
        "    adversarial_loss  = adv_criterion(disc_fake_Y_hat,torch.ones_like(disc_fake_Y_hat))\n",
        "    return adversarial_loss, fake_Y"
      ],
      "execution_count": null,
      "outputs": []
    },
    {
      "cell_type": "code",
      "metadata": {
        "id": "q-i4WZ3ZXKEf"
      },
      "source": [
        "def get_identity_loss(real_X, gen_YX, identity_criterion):\n",
        "    identity_X = gen_YX(real_X)\n",
        "    identity_loss = identity_criterion(identity_X,real_X)\n",
        "    return identity_loss, identity_X"
      ],
      "execution_count": null,
      "outputs": []
    },
    {
      "cell_type": "code",
      "metadata": {
        "id": "1L7oQyy4XLux"
      },
      "source": [
        "def get_cycle_consistency_loss(real_X, fake_Y, gen_YX, cycle_criterion):\n",
        "    cycle_X = gen_YX(fake_Y)\n",
        "    cycle_loss = cycle_criterion(cycle_X,real_X)\n",
        "    return cycle_loss, cycle_X"
      ],
      "execution_count": null,
      "outputs": []
    },
    {
      "cell_type": "code",
      "metadata": {
        "id": "FTMBQ66VXOxh"
      },
      "source": [
        "def get_gen_loss(real_A, real_B, gen_AB, gen_BA, disc_A, disc_B, adv_criterion, identity_criterion, cycle_criterion, lambda_identity=0.1, lambda_cycle=10):\n",
        "    adv_loss_BA, fake_A = get_gen_adversarial_loss(real_B, disc_A, gen_BA, adv_criterion)\n",
        "    adv_loss_AB, fake_B = get_gen_adversarial_loss(real_A, disc_B, gen_AB, adv_criterion)\n",
        "    gen_adversarial_loss = adv_loss_BA + adv_loss_AB\n",
        "    identity_loss_A, identity_A = get_identity_loss(real_A, gen_BA, identity_criterion)\n",
        "    identity_loss_B, identity_B = get_identity_loss(real_B, gen_AB, identity_criterion)\n",
        "    gen_identity_loss = identity_loss_A + identity_loss_B\n",
        "    cycle_loss_BA, cycle_A = get_cycle_consistency_loss(real_A, fake_B, gen_BA, cycle_criterion)\n",
        "    cycle_loss_AB, cycle_B = get_cycle_consistency_loss(real_B, fake_A, gen_AB, cycle_criterion)\n",
        "    gen_cycle_loss = cycle_loss_BA + cycle_loss_AB\n",
        "    gen_loss = lambda_identity * gen_identity_loss + lambda_cycle * gen_cycle_loss + gen_adversarial_loss\n",
        "    return gen_loss, fake_A, fake_B"
      ],
      "execution_count": null,
      "outputs": []
    },
    {
      "cell_type": "code",
      "metadata": {
        "id": "BcTR533iXPnp"
      },
      "source": [
        "def show_tensor_images(image_tensor, num_images=25, size=(1, 28, 28)):\n",
        "    image_tensor = (image_tensor + 1) / 2\n",
        "    image_shifted = image_tensor\n",
        "    image_unflat = image_shifted.detach().cpu().view(-1, *size)\n",
        "    image_grid = make_grid(image_unflat[:num_images], nrow=5)\n",
        "    plt.imshow(image_grid.permute(1, 2, 0).squeeze())\n",
        "    plt.show()\n",
        "\n"
      ],
      "execution_count": null,
      "outputs": []
    },
    {
      "cell_type": "code",
      "metadata": {
        "id": "XFUMkKxzXRBL"
      },
      "source": [
        "from skimage import color\n",
        "import numpy as np\n",
        "plt.rcParams[\"figure.figsize\"] = (10, 10)\n",
        "\n",
        "\n",
        "def train(save_model=False):\n",
        "    mean_generator_loss = 0\n",
        "    mean_discriminator_loss = 0\n",
        "    dataloader = DataLoader(dataset, batch_size=BATCH_SIZE, shuffle=True)\n",
        "    cur_step = 0\n",
        "\n",
        "    for epoch in range(n_epochs):\n",
        "        # Dataloader returns the batches\n",
        "        # for image, _ in tqdm(dataloader):\n",
        "        for real_A, real_B in tqdm(dataloader):\n",
        "            # image_width = image.shape[3]\n",
        "            real_A = nn.functional.interpolate(real_A, size=target_shape)\n",
        "            real_B = nn.functional.interpolate(real_B, size=target_shape)\n",
        "            cur_batch_size = len(real_A)\n",
        "            real_A = real_A.to(device)\n",
        "            real_B = real_B.to(device)\n",
        "\n",
        "            ### Update discriminator A ###\n",
        "            disc_A_opt.zero_grad() # Zero out the gradient before backpropagation\n",
        "            with torch.no_grad():\n",
        "                fake_A = gen_BA(real_B)\n",
        "            disc_A_loss = get_disc_loss(real_A, fake_A, disc_A, adv_criterion)\n",
        "            disc_A_loss.backward(retain_graph=True) # Update gradients\n",
        "            disc_A_opt.step() # Update optimizer\n",
        "\n",
        "            ### Update discriminator B ###\n",
        "            disc_B_opt.zero_grad() # Zero out the gradient before backpropagation\n",
        "            with torch.no_grad():\n",
        "                fake_B = gen_AB(real_A)\n",
        "            disc_B_loss = get_disc_loss(real_B, fake_B, disc_B, adv_criterion)\n",
        "            disc_B_loss.backward(retain_graph=True) # Update gradients\n",
        "            disc_B_opt.step() # Update optimizer\n",
        "\n",
        "            ### Update generator ###\n",
        "            gen_opt.zero_grad()\n",
        "            gen_loss, fake_A, fake_B = get_gen_loss(\n",
        "                real_A, real_B, gen_AB, gen_BA, disc_A, disc_B, adv_criterion, recon_criterion, recon_criterion\n",
        "            )\n",
        "            gen_loss.backward() \n",
        "            gen_opt.step() \n",
        "            mean_discriminator_loss += disc_A_loss.item() / display_step\n",
        "            mean_generator_loss += gen_loss.item() / display_step\n",
        "            if cur_step % display_step == 0:\n",
        "                print(f\"Epoch {epoch}: Step {cur_step}: Generator (U-Net) loss: {mean_generator_loss}, Discriminator loss: {mean_discriminator_loss}\")\n",
        "                show_tensor_images(torch.cat([real_A, real_B]), size=(dim_A, target_shape, target_shape))\n",
        "                show_tensor_images(torch.cat([fake_B, fake_A]), size=(dim_B, target_shape, target_shape))\n",
        "                mean_generator_loss = 0\n",
        "                mean_discriminator_loss = 0\n",
        "                if save_model:\n",
        "                    torch.save({\n",
        "                        'gen_AB': gen_AB.state_dict(),\n",
        "                        'gen_BA': gen_BA.state_dict(),\n",
        "                        'gen_opt': gen_opt.state_dict(),\n",
        "                        'disc_A': disc_A.state_dict(),\n",
        "                        'disc_A_opt': disc_A_opt.state_dict(),\n",
        "                        'disc_B': disc_B.state_dict(),\n",
        "                        'disc_B_opt': disc_B_opt.state_dict()\n",
        "                    }, f\"cycleGAN_{cur_step}.pth\")\n",
        "            cur_step += 1\n"
      ],
      "execution_count": null,
      "outputs": []
    },
    {
      "cell_type": "code",
      "metadata": {
        "id": "qV_wBhPiXUVZ"
      },
      "source": [
        "train()"
      ],
      "execution_count": null,
      "outputs": []
    }
  ]
}