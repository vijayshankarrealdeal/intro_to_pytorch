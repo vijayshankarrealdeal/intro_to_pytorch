{
  "nbformat": 4,
  "nbformat_minor": 0,
  "metadata": {
    "colab": {
      "name": "GansIntro.ipynb",
      "provenance": [],
      "collapsed_sections": [],
      "authorship_tag": "ABX9TyMGBqi8GpUoNmEPPvh/Gvmx",
      "include_colab_link": true
    },
    "kernelspec": {
      "name": "python3",
      "display_name": "Python 3"
    },
    "language_info": {
      "name": "python"
    },
    "accelerator": "GPU",
    "widgets": {
      "application/vnd.jupyter.widget-state+json": {
        "5ab8833564d0402696f4593662e7acf0": {
          "model_module": "@jupyter-widgets/controls",
          "model_name": "HBoxModel",
          "state": {
            "_view_name": "HBoxView",
            "_dom_classes": [],
            "_model_name": "HBoxModel",
            "_view_module": "@jupyter-widgets/controls",
            "_model_module_version": "1.5.0",
            "_view_count": null,
            "_view_module_version": "1.5.0",
            "box_style": "",
            "layout": "IPY_MODEL_25be6ff1f42243d99b9ca7809cddd1e1",
            "_model_module": "@jupyter-widgets/controls",
            "children": [
              "IPY_MODEL_5bc03c1c4af14a478c134466d8734074",
              "IPY_MODEL_6bc204b5cef04ba2a3665c3a8991eba9"
            ]
          }
        },
        "25be6ff1f42243d99b9ca7809cddd1e1": {
          "model_module": "@jupyter-widgets/base",
          "model_name": "LayoutModel",
          "state": {
            "_view_name": "LayoutView",
            "grid_template_rows": null,
            "right": null,
            "justify_content": null,
            "_view_module": "@jupyter-widgets/base",
            "overflow": null,
            "_model_module_version": "1.2.0",
            "_view_count": null,
            "flex_flow": null,
            "width": null,
            "min_width": null,
            "border": null,
            "align_items": null,
            "bottom": null,
            "_model_module": "@jupyter-widgets/base",
            "top": null,
            "grid_column": null,
            "overflow_y": null,
            "overflow_x": null,
            "grid_auto_flow": null,
            "grid_area": null,
            "grid_template_columns": null,
            "flex": null,
            "_model_name": "LayoutModel",
            "justify_items": null,
            "grid_row": null,
            "max_height": null,
            "align_content": null,
            "visibility": null,
            "align_self": null,
            "height": null,
            "min_height": null,
            "padding": null,
            "grid_auto_rows": null,
            "grid_gap": null,
            "max_width": null,
            "order": null,
            "_view_module_version": "1.2.0",
            "grid_template_areas": null,
            "object_position": null,
            "object_fit": null,
            "grid_auto_columns": null,
            "margin": null,
            "display": null,
            "left": null
          }
        },
        "5bc03c1c4af14a478c134466d8734074": {
          "model_module": "@jupyter-widgets/controls",
          "model_name": "FloatProgressModel",
          "state": {
            "_view_name": "ProgressView",
            "style": "IPY_MODEL_2b78a47616dc42b187266f8b512383ea",
            "_dom_classes": [],
            "description": "  0%",
            "_model_name": "FloatProgressModel",
            "bar_style": "danger",
            "max": 469,
            "_view_module": "@jupyter-widgets/controls",
            "_model_module_version": "1.5.0",
            "value": 0,
            "_view_count": null,
            "_view_module_version": "1.5.0",
            "orientation": "horizontal",
            "min": 0,
            "description_tooltip": null,
            "_model_module": "@jupyter-widgets/controls",
            "layout": "IPY_MODEL_d4641688501444899086105a09bf78ab"
          }
        },
        "6bc204b5cef04ba2a3665c3a8991eba9": {
          "model_module": "@jupyter-widgets/controls",
          "model_name": "HTMLModel",
          "state": {
            "_view_name": "HTMLView",
            "style": "IPY_MODEL_25e7a3aa3dbb420ea7dfe91c34ebb0b7",
            "_dom_classes": [],
            "description": "",
            "_model_name": "HTMLModel",
            "placeholder": "​",
            "_view_module": "@jupyter-widgets/controls",
            "_model_module_version": "1.5.0",
            "value": " 0/469 [00:00&lt;?, ?it/s]",
            "_view_count": null,
            "_view_module_version": "1.5.0",
            "description_tooltip": null,
            "_model_module": "@jupyter-widgets/controls",
            "layout": "IPY_MODEL_79e5ad7dabc34bb2a6b5f70b91df4e99"
          }
        },
        "2b78a47616dc42b187266f8b512383ea": {
          "model_module": "@jupyter-widgets/controls",
          "model_name": "ProgressStyleModel",
          "state": {
            "_view_name": "StyleView",
            "_model_name": "ProgressStyleModel",
            "description_width": "initial",
            "_view_module": "@jupyter-widgets/base",
            "_model_module_version": "1.5.0",
            "_view_count": null,
            "_view_module_version": "1.2.0",
            "bar_color": null,
            "_model_module": "@jupyter-widgets/controls"
          }
        },
        "d4641688501444899086105a09bf78ab": {
          "model_module": "@jupyter-widgets/base",
          "model_name": "LayoutModel",
          "state": {
            "_view_name": "LayoutView",
            "grid_template_rows": null,
            "right": null,
            "justify_content": null,
            "_view_module": "@jupyter-widgets/base",
            "overflow": null,
            "_model_module_version": "1.2.0",
            "_view_count": null,
            "flex_flow": null,
            "width": null,
            "min_width": null,
            "border": null,
            "align_items": null,
            "bottom": null,
            "_model_module": "@jupyter-widgets/base",
            "top": null,
            "grid_column": null,
            "overflow_y": null,
            "overflow_x": null,
            "grid_auto_flow": null,
            "grid_area": null,
            "grid_template_columns": null,
            "flex": null,
            "_model_name": "LayoutModel",
            "justify_items": null,
            "grid_row": null,
            "max_height": null,
            "align_content": null,
            "visibility": null,
            "align_self": null,
            "height": null,
            "min_height": null,
            "padding": null,
            "grid_auto_rows": null,
            "grid_gap": null,
            "max_width": null,
            "order": null,
            "_view_module_version": "1.2.0",
            "grid_template_areas": null,
            "object_position": null,
            "object_fit": null,
            "grid_auto_columns": null,
            "margin": null,
            "display": null,
            "left": null
          }
        },
        "25e7a3aa3dbb420ea7dfe91c34ebb0b7": {
          "model_module": "@jupyter-widgets/controls",
          "model_name": "DescriptionStyleModel",
          "state": {
            "_view_name": "StyleView",
            "_model_name": "DescriptionStyleModel",
            "description_width": "",
            "_view_module": "@jupyter-widgets/base",
            "_model_module_version": "1.5.0",
            "_view_count": null,
            "_view_module_version": "1.2.0",
            "_model_module": "@jupyter-widgets/controls"
          }
        },
        "79e5ad7dabc34bb2a6b5f70b91df4e99": {
          "model_module": "@jupyter-widgets/base",
          "model_name": "LayoutModel",
          "state": {
            "_view_name": "LayoutView",
            "grid_template_rows": null,
            "right": null,
            "justify_content": null,
            "_view_module": "@jupyter-widgets/base",
            "overflow": null,
            "_model_module_version": "1.2.0",
            "_view_count": null,
            "flex_flow": null,
            "width": null,
            "min_width": null,
            "border": null,
            "align_items": null,
            "bottom": null,
            "_model_module": "@jupyter-widgets/base",
            "top": null,
            "grid_column": null,
            "overflow_y": null,
            "overflow_x": null,
            "grid_auto_flow": null,
            "grid_area": null,
            "grid_template_columns": null,
            "flex": null,
            "_model_name": "LayoutModel",
            "justify_items": null,
            "grid_row": null,
            "max_height": null,
            "align_content": null,
            "visibility": null,
            "align_self": null,
            "height": null,
            "min_height": null,
            "padding": null,
            "grid_auto_rows": null,
            "grid_gap": null,
            "max_width": null,
            "order": null,
            "_view_module_version": "1.2.0",
            "grid_template_areas": null,
            "object_position": null,
            "object_fit": null,
            "grid_auto_columns": null,
            "margin": null,
            "display": null,
            "left": null
          }
        }
      }
    }
  },
  "cells": [
    {
      "cell_type": "markdown",
      "metadata": {
        "id": "view-in-github",
        "colab_type": "text"
      },
      "source": [
        "<a href=\"https://colab.research.google.com/github/vijayshankarrealdeal/intro_to_pytorch-Gans/blob/main/GansIntro.ipynb\" target=\"_parent\"><img src=\"https://colab.research.google.com/assets/colab-badge.svg\" alt=\"Open In Colab\"/></a>"
      ]
    },
    {
      "cell_type": "code",
      "metadata": {
        "id": "XEOdeKfeSw5-"
      },
      "source": [
        "import torch\n",
        "import torch.nn as nn\n",
        "from torchvision.datasets import MNIST\n",
        "from torch.utils.data import DataLoader\n",
        "from torchvision.utils import make_grid\n",
        "from tqdm.auto import tqdm\n",
        "import matplotlib.pyplot as plt\n",
        "from torchvision import transforms"
      ],
      "execution_count": 67,
      "outputs": []
    },
    {
      "cell_type": "code",
      "metadata": {
        "id": "lfFFIR-dT1Ck"
      },
      "source": [
        "def show_image_from_tensor(image_tensor,num_images = 25,size = (1,28,28)):\n",
        "    image_unflat = image_tensor.detach().cpu().view(-1, *size)\n",
        "    image_grid = make_grid(image_unflat[:num_images], nrow=5)\n",
        "    plt.imshow(image_grid.permute(1, 2, 0).squeeze())\n",
        "    plt.show()\n"
      ],
      "execution_count": 68,
      "outputs": []
    },
    {
      "cell_type": "code",
      "metadata": {
        "id": "p6rG8ENxVD1z"
      },
      "source": [
        "tensor_matrix = torch.randint(1,255,(1,28,28))"
      ],
      "execution_count": 69,
      "outputs": []
    },
    {
      "cell_type": "code",
      "metadata": {
        "colab": {
          "base_uri": "https://localhost:8080/",
          "height": 265
        },
        "id": "UHu9f7yDVDpg",
        "outputId": "034ab69e-9420-4ceb-fee4-bc7c821148d5"
      },
      "source": [
        "show_image_from_tensor(tensor_matrix)"
      ],
      "execution_count": 70,
      "outputs": [
        {
          "output_type": "display_data",
          "data": {
            "image/png": "[encoded data removed]",
            "text/plain": [
              "<Figure size 432x288 with 1 Axes>"
            ]
          },
          "metadata": {
            "tags": [],
            "needs_background": "light"
          }
        }
      ]
    },
    {
      "cell_type": "code",
      "metadata": {
        "id": "FTXFXpoTX2fl"
      },
      "source": [
        "class Genrator(nn.Module):\n",
        "  def __init__(self,z_dim = 10 ,hidden_dim = 128,output_shape = 784):\n",
        "    super(Genrator,self).__init__()\n",
        "    self.gen = nn.Sequential(\n",
        "        self.get_genrator_block(z_dim, hidden_dim),\n",
        "        self.get_genrator_block(hidden_dim, hidden_dim * 2),\n",
        "        self.get_genrator_block(hidden_dim * 2, hidden_dim * 4),\n",
        "        self.get_genrator_block(hidden_dim * 4, hidden_dim * 8),\n",
        "        nn.Linear(hidden_dim * 8,output_shape),\n",
        "        nn.Sigmoid(),\n",
        "    )\n",
        "  def get_genrator_block(self,input_shape,output_shape):\n",
        "    return nn.Sequential(\n",
        "        nn.Linear(input_shape,output_shape),\n",
        "        nn.BatchNorm1d(output_shape),\n",
        "        nn.ReLU(),\n",
        "  )\n",
        "  def forward(self,noise):\n",
        "    return self.gen(noise)"
      ],
      "execution_count": 71,
      "outputs": []
    },
    {
      "cell_type": "code",
      "metadata": {
        "id": "-pAM9_pZZOcH"
      },
      "source": [
        "def genrate_noise(n_sample,z_dim,device = 'cpu'):\n",
        "  noise = torch.randn(n_sample,z_dim,device = device)\n",
        "  return noise"
      ],
      "execution_count": 72,
      "outputs": []
    },
    {
      "cell_type": "code",
      "metadata": {
        "id": "VJKLUbmwbG-V"
      },
      "source": [
        "class Discriminator(nn.Module):\n",
        "  def __init__(self,im_dim = 784,hidden_units = 128):\n",
        "    super(Discriminator,self).__init__()\n",
        "    self.dis = nn.Sequential(\n",
        "        self.get_discriminator_block(im_dim,hidden_units*4),\n",
        "        self.get_discriminator_block(hidden_units*4,hidden_units*2),\n",
        "        self.get_discriminator_block(hidden_units*2,hidden_units),\n",
        "        nn.Linear(hidden_units,1)\n",
        "    )\n",
        "  def get_discriminator_block(self,input_shape,output_shape):\n",
        "    return nn.Sequential(\n",
        "        nn.Linear(input_shape,output_shape),\n",
        "        nn.LeakyReLU(0.2),\n",
        "  )\n",
        "  def forward(self,x):\n",
        "    return self.dis(x)"
      ],
      "execution_count": 76,
      "outputs": []
    },
    {
      "cell_type": "code",
      "metadata": {
        "id": "HRclvSH7c567"
      },
      "source": [
        "criterion = nn.BCEWithLogitsLoss()\n",
        "n_epochs = 200\n",
        "z_dim = 64\n",
        "display_step = 500\n",
        "batch_size = 128\n",
        "lr = 0.00001\n",
        "\n",
        "dataloader = DataLoader(\n",
        "    MNIST('.', download=True, transform=transforms.ToTensor()),\n",
        "    batch_size=batch_size,\n",
        "    shuffle=True)\n",
        "device = 'cuda'"
      ],
      "execution_count": 77,
      "outputs": []
    },
    {
      "cell_type": "code",
      "metadata": {
        "id": "NZ053IgxdOv0"
      },
      "source": [
        "gen = Genrator(z_dim).to(device)\n",
        "gen_opt = torch.optim.Adam(gen.parameters(), lr=lr)\n",
        "disc = Discriminator().to(device) \n",
        "disc_opt = torch.optim.Adam(disc.parameters(), lr=lr)"
      ],
      "execution_count": 78,
      "outputs": []
    },
    {
      "cell_type": "code",
      "metadata": {
        "id": "DPP14TXzd6Bb"
      },
      "source": [
        "def get_disc_loss(gen,dis,criterion,real,num_images,z_dim,device):\n",
        "  noise = genrate_noise(num_images,z_dim,device)\n",
        "  fake = gen(noise).detach()\n",
        "\n",
        "  fake_pred = disc(fake)\n",
        "  real_pred = disc(real)\n",
        "\n",
        "  fake_loss = criterion(fake_pred,torch.zeros(num_images, 1).to(device))\n",
        "  real_loss = criterion(real_pred,torch.ones(num_images, 1).to(device))\n",
        "\n",
        "  disc_loss = (fake_loss + real_loss) / 2\n",
        "\n",
        "  return disc_loss"
      ],
      "execution_count": 80,
      "outputs": []
    },
    {
      "cell_type": "code",
      "metadata": {
        "colab": {
          "base_uri": "https://localhost:8080/",
          "height": 351,
          "referenced_widgets": [
            "5ab8833564d0402696f4593662e7acf0",
            "25be6ff1f42243d99b9ca7809cddd1e1",
            "5bc03c1c4af14a478c134466d8734074",
            "6bc204b5cef04ba2a3665c3a8991eba9",
            "2b78a47616dc42b187266f8b512383ea",
            "d4641688501444899086105a09bf78ab",
            "25e7a3aa3dbb420ea7dfe91c34ebb0b7",
            "79e5ad7dabc34bb2a6b5f70b91df4e99"
          ]
        },
        "id": "N6O__7PsgM-I",
        "outputId": "87a8f336-e92b-4175-a984-c5d77b4d211f"
      },
      "source": [
        "cur_step = 0\n",
        "\n",
        "for i in range(n_epochs):\n",
        "  for real,_ in tqdm(dataloader):\n",
        "    cur_batch_size = len(real)\n",
        "    real = real.view(cur_batch_size, -1).to(device)\n",
        "\n",
        "\n",
        "    noise = genrate_noise(num_images,z_dim,device)\n",
        "    fake = gen(noise).detach()\n",
        "    \n",
        "    fake_pred = disc(fake)\n",
        "    real_pred = disc(real)\n",
        "    fake_loss = criterion(fake_pred,torch.zeros(num_images, 1).to(device))\n",
        "    real_loss = criterion(real_pred,torch.ones(num_images, 1).to(device))\n",
        "    disc_loss = (fake_loss + real_loss) / 2\n",
        "\n",
        "    disc_loss.backward(retain_graph=True)\n",
        "    disc_opt.step()\n",
        "\n",
        "    gen_opt.zero_grad()\n",
        "    noise = genrate_noise(num_images,z_dim,device)\n",
        "    fake = gen(noise).detach()\n",
        "    fake_pred = disc(fake)\n",
        "    gen_loss = criterion(fake_pred,torch.ones(num_images,1).to(device))\n",
        "    gen_loss.backward(retain_graph = True)\n",
        "    gen_opt.step()\n",
        "\n",
        "    print(print(len(real)))\n",
        "    break\n",
        "  break\n"
      ],
      "execution_count": 94,
      "outputs": [
        {
          "output_type": "display_data",
          "data": {
            "application/vnd.jupyter.widget-view+json": {
              "model_id": "5ab8833564d0402696f4593662e7acf0",
              "version_minor": 0,
              "version_major": 2
            },
            "text/plain": [
              "HBox(children=(FloatProgress(value=0.0, max=469.0), HTML(value='')))"
            ]
          },
          "metadata": {
            "tags": []
          }
        },
        {
          "output_type": "stream",
          "text": [
            "torch.Size([128, 784])\n"
          ],
          "name": "stdout"
        },
        {
          "output_type": "display_data",
          "data": {
            "image/png": "[encoded data removed]",
            "text/plain": [
              "<Figure size 432x288 with 1 Axes>"
            ]
          },
          "metadata": {
            "tags": [],
            "needs_background": "light"
          }
        },
        {
          "output_type": "stream",
          "text": [
            "128\n",
            "None\n"
          ],
          "name": "stdout"
        }
      ]
    },
    {
      "cell_type": "code",
      "metadata": {
        "id": "AUcGCMbMl5zQ"
      },
      "source": [
        ""
      ],
      "execution_count": null,
      "outputs": []
    }
  ]
}