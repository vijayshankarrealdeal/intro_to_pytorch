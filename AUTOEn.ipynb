{
  "nbformat": 4,
  "nbformat_minor": 0,
  "metadata": {
    "colab": {
      "name": "AUTOEn.ipynb",
      "provenance": [],
      "collapsed_sections": [],
      "authorship_tag": "ABX9TyObSxE3G5DVVld2RPLMAq58",
      "include_colab_link": true
    },
    "kernelspec": {
      "name": "python3",
      "display_name": "Python 3"
    },
    "language_info": {
      "name": "python"
    }
  },
  "cells": [
    {
      "cell_type": "markdown",
      "metadata": {
        "id": "view-in-github",
        "colab_type": "text"
      },
      "source": [
        "<a href=\"https://colab.research.google.com/github/vijayshankarrealdeal/intro_to_pytorch-Gans/blob/main/AUTOEn.ipynb\" target=\"_parent\"><img src=\"https://colab.research.google.com/assets/colab-badge.svg\" alt=\"Open In Colab\"/></a>"
      ]
    },
    {
      "cell_type": "code",
      "metadata": {
        "id": "pOknxiwdMeQw"
      },
      "source": [
        "import numpy as np\n",
        "import pandas as pd\n",
        "import torch\n",
        "import torch.nn as nn\n",
        "import torch.utils.data\n",
        "from torch.autograd import Variable\n",
        "import zipfile"
      ],
      "execution_count": 27,
      "outputs": []
    },
    {
      "cell_type": "code",
      "metadata": {
        "id": "yIYDM9NBM0ev"
      },
      "source": [
        "with zipfile.ZipFile('/content/ml-100k.zip') as zip_ref:\n",
        "  zip_ref.extractall('/content/data')"
      ],
      "execution_count": 5,
      "outputs": []
    },
    {
      "cell_type": "code",
      "metadata": {
        "id": "xoOlSw2ZN_9m"
      },
      "source": [
        "training_set = pd.read_csv('/content/data/ml-100k/u1.base',sep = '\\t')\n",
        "test_set = pd.read_csv('/content/data/ml-100k/u1.test',sep = '\\t')"
      ],
      "execution_count": 7,
      "outputs": []
    },
    {
      "cell_type": "code",
      "metadata": {
        "id": "elSbETeuOQ-F"
      },
      "source": [
        "training_set = np.array(training_set,dtype='int')\n",
        "test_set = np.array(test_set,dtype='int')"
      ],
      "execution_count": 8,
      "outputs": []
    },
    {
      "cell_type": "code",
      "metadata": {
        "colab": {
          "base_uri": "https://localhost:8080/"
        },
        "id": "hrcJ1-kAPmjy",
        "outputId": "36d3b1ff-ced0-4d35-c700-8939c7653b67"
      },
      "source": [
        "nb_users = max( max(training_set[:,0]),max(test_set[:,0]))\n",
        "nb_movies = max( max(training_set[:,1]) , max(test_set[:,1]))\n",
        "nb_users,nb_movies"
      ],
      "execution_count": 11,
      "outputs": [
        {
          "output_type": "execute_result",
          "data": {
            "text/plain": [
              "(943, 1682)"
            ]
          },
          "metadata": {
            "tags": []
          },
          "execution_count": 11
        }
      ]
    },
    {
      "cell_type": "code",
      "metadata": {
        "id": "jz-w9KTLPDme"
      },
      "source": [
        "def convert(data):\n",
        "  new_data = []\n",
        "  for user_id in range(1,nb_users+1):\n",
        "    id_movie = data[:,1][data[:,0] == user_id]\n",
        "    id_ratings = data[:,2][data[:,0] == user_id]\n",
        "    new_zer = np.zeros(nb_movies)\n",
        "    new_zer[id_movie - 1] = id_ratings\n",
        "    id_ratings = new_zer\n",
        "    new_data.append(list(id_ratings))\n",
        "  return new_data"
      ],
      "execution_count": 16,
      "outputs": []
    },
    {
      "cell_type": "code",
      "metadata": {
        "id": "n8J33NGARPT6"
      },
      "source": [
        "training_set = convert(training_set)\n",
        "test_set = convert(test_set)"
      ],
      "execution_count": 17,
      "outputs": []
    },
    {
      "cell_type": "code",
      "metadata": {
        "id": "2EtOkP64RzFr"
      },
      "source": [
        "training_set = torch.FloatTensor(training_set)\n",
        "test_set  = torch.FloatTensor(test_set)"
      ],
      "execution_count": 18,
      "outputs": []
    },
    {
      "cell_type": "code",
      "metadata": {
        "id": "BvNlWM_0R851"
      },
      "source": [
        "class SAE(nn.Module):\n",
        "  def __init__(self, ):\n",
        "    super(SAE, self).__init__()\n",
        "    self.fc1 = nn.Linear(nb_movies, 20)\n",
        "    self.fc2 = nn.Linear(20, 10)\n",
        "    self.fc3 = nn.Linear(10, 20)\n",
        "    self.fc4 = nn.Linear(20, nb_movies)\n",
        "    self.activation = nn.Sigmoid()\n",
        "  def forward(self, x):\n",
        "    x = self.activation(self.fc1(x))\n",
        "    x = self.activation(self.fc2(x))\n",
        "    x = self.activation(self.fc3(x))\n",
        "    x = self.fc4(x)\n",
        "    return x"
      ],
      "execution_count": 28,
      "outputs": []
    },
    {
      "cell_type": "code",
      "metadata": {
        "id": "4vAjOvmXUX4b"
      },
      "source": [
        "sae = SAE()\n",
        "criterion = torch.nn.MSELoss()\n",
        "optimizer = torch.optim.RMSprop(sae.parameters(),lr = 0.01,weight_decay=0.5)"
      ],
      "execution_count": 33,
      "outputs": []
    },
    {
      "cell_type": "code",
      "metadata": {
        "colab": {
          "base_uri": "https://localhost:8080/"
        },
        "id": "_jqQ-7fvUaCX",
        "outputId": "09af9564-84f0-465b-f8fe-55dd2fb08c30"
      },
      "source": [
        "nb_epoch = 200\n",
        "for epoch in range(1, nb_epoch + 1):\n",
        "  train_loss = 0\n",
        "  s = 0.\n",
        "  for id_user in range(nb_users):\n",
        "    input = Variable(training_set[id_user]).unsqueeze(0)\n",
        "    target = input.clone()\n",
        "    if torch.sum(target.data > 0) > 0:\n",
        "      output = sae(input)\n",
        "      target.require_grad = False\n",
        "      output[target == 0] = 0\n",
        "      loss = criterion(output, target)\n",
        "      mean_corrector = nb_movies/float(torch.sum(target.data > 0) + 1e-10)\n",
        "      loss.backward()\n",
        "      train_loss += np.sqrt(loss.data*mean_corrector)\n",
        "      s += 1.\n",
        "      optimizer.step()\n",
        "  print('epoch: '+str(epoch)+'\\tloss: '+ str(train_loss/s))"
      ],
      "execution_count": 34,
      "outputs": [
        {
          "output_type": "stream",
          "text": [
            "epoch: 1loss: tensor(1.7717)\n",
            "epoch: 2loss: tensor(1.0968)\n",
            "epoch: 3loss: tensor(1.0535)\n",
            "epoch: 4loss: tensor(1.0382)\n",
            "epoch: 5loss: tensor(1.0309)\n",
            "epoch: 6loss: tensor(1.0265)\n",
            "epoch: 7loss: tensor(1.0238)\n",
            "epoch: 8loss: tensor(1.0218)\n",
            "epoch: 9loss: tensor(1.0207)\n",
            "epoch: 10loss: tensor(1.0197)\n",
            "epoch: 11loss: tensor(1.0189)\n",
            "epoch: 12loss: tensor(1.0182)\n",
            "epoch: 13loss: tensor(1.0179)\n",
            "epoch: 14loss: tensor(1.0174)\n",
            "epoch: 15loss: tensor(1.0173)\n",
            "epoch: 16loss: tensor(1.0170)\n",
            "epoch: 17loss: tensor(1.0167)\n",
            "epoch: 18loss: tensor(1.0165)\n",
            "epoch: 19loss: tensor(1.0165)\n",
            "epoch: 20loss: tensor(1.0163)\n",
            "epoch: 21loss: tensor(1.0160)\n",
            "epoch: 22loss: tensor(1.0159)\n",
            "epoch: 23loss: tensor(1.0158)\n",
            "epoch: 24loss: tensor(1.0154)\n",
            "epoch: 25loss: tensor(1.0157)\n",
            "epoch: 26loss: tensor(1.0154)\n",
            "epoch: 27loss: tensor(1.0153)\n",
            "epoch: 28loss: tensor(1.0150)\n",
            "epoch: 29loss: tensor(1.0132)\n",
            "epoch: 30loss: tensor(1.0113)\n",
            "epoch: 31loss: tensor(1.0093)\n",
            "epoch: 32loss: tensor(1.0090)\n",
            "epoch: 33loss: tensor(1.0045)\n",
            "epoch: 34loss: tensor(1.0048)\n",
            "epoch: 35loss: tensor(1.0008)\n",
            "epoch: 36loss: tensor(1.0010)\n",
            "epoch: 37loss: tensor(0.9975)\n",
            "epoch: 38loss: tensor(0.9954)\n",
            "epoch: 39loss: tensor(0.9936)\n",
            "epoch: 40loss: tensor(0.9915)\n",
            "epoch: 41loss: tensor(0.9890)\n",
            "epoch: 42loss: tensor(0.9868)\n",
            "epoch: 43loss: tensor(0.9830)\n",
            "epoch: 44loss: tensor(0.9851)\n",
            "epoch: 45loss: tensor(0.9826)\n",
            "epoch: 46loss: tensor(0.9821)\n",
            "epoch: 47loss: tensor(0.9770)\n",
            "epoch: 48loss: tensor(0.9805)\n",
            "epoch: 49loss: tensor(0.9739)\n",
            "epoch: 50loss: tensor(0.9856)\n",
            "epoch: 51loss: tensor(0.9871)\n",
            "epoch: 52loss: tensor(0.9836)\n",
            "epoch: 53loss: tensor(0.9767)\n",
            "epoch: 54loss: tensor(0.9782)\n",
            "epoch: 55loss: tensor(0.9790)\n",
            "epoch: 56loss: tensor(0.9754)\n",
            "epoch: 57loss: tensor(0.9762)\n",
            "epoch: 58loss: tensor(0.9800)\n",
            "epoch: 59loss: tensor(0.9786)\n",
            "epoch: 60loss: tensor(0.9768)\n",
            "epoch: 61loss: tensor(0.9743)\n",
            "epoch: 62loss: tensor(0.9719)\n",
            "epoch: 63loss: tensor(0.9700)\n",
            "epoch: 64loss: tensor(0.9667)\n",
            "epoch: 65loss: tensor(0.9674)\n",
            "epoch: 66loss: tensor(0.9665)\n",
            "epoch: 67loss: tensor(0.9669)\n",
            "epoch: 68loss: tensor(0.9666)\n",
            "epoch: 69loss: tensor(0.9622)\n",
            "epoch: 70loss: tensor(0.9575)\n",
            "epoch: 71loss: tensor(0.9562)\n",
            "epoch: 72loss: tensor(0.9555)\n",
            "epoch: 73loss: tensor(0.9539)\n",
            "epoch: 74loss: tensor(0.9552)\n",
            "epoch: 75loss: tensor(0.9595)\n",
            "epoch: 76loss: tensor(0.9545)\n",
            "epoch: 77loss: tensor(0.9538)\n",
            "epoch: 78loss: tensor(0.9563)\n",
            "epoch: 79loss: tensor(0.9638)\n",
            "epoch: 80loss: tensor(0.9620)\n",
            "epoch: 81loss: tensor(0.9554)\n",
            "epoch: 82loss: tensor(0.9531)\n",
            "epoch: 83loss: tensor(0.9523)\n",
            "epoch: 84loss: tensor(0.9519)\n",
            "epoch: 85loss: tensor(0.9564)\n",
            "epoch: 86loss: tensor(0.9506)\n",
            "epoch: 87loss: tensor(0.9580)\n",
            "epoch: 88loss: tensor(0.9578)\n",
            "epoch: 89loss: tensor(0.9550)\n",
            "epoch: 90loss: tensor(0.9554)\n",
            "epoch: 91loss: tensor(0.9531)\n",
            "epoch: 92loss: tensor(0.9523)\n",
            "epoch: 93loss: tensor(0.9506)\n",
            "epoch: 94loss: tensor(0.9524)\n",
            "epoch: 95loss: tensor(0.9495)\n",
            "epoch: 96loss: tensor(0.9501)\n",
            "epoch: 97loss: tensor(0.9513)\n",
            "epoch: 98loss: tensor(0.9575)\n",
            "epoch: 99loss: tensor(0.9555)\n",
            "epoch: 100loss: tensor(0.9551)\n",
            "epoch: 101loss: tensor(0.9522)\n",
            "epoch: 102loss: tensor(0.9528)\n",
            "epoch: 103loss: tensor(0.9492)\n",
            "epoch: 104loss: tensor(0.9490)\n",
            "epoch: 105loss: tensor(0.9467)\n",
            "epoch: 106loss: tensor(0.9478)\n",
            "epoch: 107loss: tensor(0.9482)\n",
            "epoch: 108loss: tensor(0.9485)\n",
            "epoch: 109loss: tensor(0.9440)\n",
            "epoch: 110loss: tensor(0.9420)\n",
            "epoch: 111loss: tensor(0.9428)\n",
            "epoch: 112loss: tensor(0.9408)\n",
            "epoch: 113loss: tensor(0.9424)\n",
            "epoch: 114loss: tensor(0.9407)\n",
            "epoch: 115loss: tensor(0.9376)\n",
            "epoch: 116loss: tensor(0.9397)\n",
            "epoch: 117loss: tensor(0.9369)\n",
            "epoch: 118loss: tensor(0.9365)\n",
            "epoch: 119loss: tensor(0.9354)\n",
            "epoch: 120loss: tensor(0.9360)\n",
            "epoch: 121loss: tensor(0.9346)\n",
            "epoch: 122loss: tensor(0.9347)\n",
            "epoch: 123loss: tensor(0.9331)\n",
            "epoch: 124loss: tensor(0.9342)\n",
            "epoch: 125loss: tensor(0.9318)\n",
            "epoch: 126loss: tensor(0.9323)\n",
            "epoch: 127loss: tensor(0.9306)\n",
            "epoch: 128loss: tensor(0.9311)\n",
            "epoch: 129loss: tensor(0.9291)\n",
            "epoch: 130loss: tensor(0.9313)\n",
            "epoch: 131loss: tensor(0.9289)\n",
            "epoch: 132loss: tensor(0.9314)\n",
            "epoch: 133loss: tensor(0.9289)\n",
            "epoch: 134loss: tensor(0.9286)\n",
            "epoch: 135loss: tensor(0.9272)\n",
            "epoch: 136loss: tensor(0.9279)\n",
            "epoch: 137loss: tensor(0.9268)\n",
            "epoch: 138loss: tensor(0.9272)\n",
            "epoch: 139loss: tensor(0.9261)\n",
            "epoch: 140loss: tensor(0.9265)\n",
            "epoch: 141loss: tensor(0.9256)\n",
            "epoch: 142loss: tensor(0.9261)\n",
            "epoch: 143loss: tensor(0.9245)\n",
            "epoch: 144loss: tensor(0.9254)\n",
            "epoch: 145loss: tensor(0.9247)\n",
            "epoch: 146loss: tensor(0.9257)\n",
            "epoch: 147loss: tensor(0.9234)\n",
            "epoch: 148loss: tensor(0.9245)\n",
            "epoch: 149loss: tensor(0.9230)\n",
            "epoch: 150loss: tensor(0.9242)\n",
            "epoch: 151loss: tensor(0.9232)\n",
            "epoch: 152loss: tensor(0.9232)\n",
            "epoch: 153loss: tensor(0.9226)\n",
            "epoch: 154loss: tensor(0.9226)\n",
            "epoch: 155loss: tensor(0.9216)\n",
            "epoch: 156loss: tensor(0.9219)\n",
            "epoch: 157loss: tensor(0.9212)\n",
            "epoch: 158loss: tensor(0.9216)\n",
            "epoch: 159loss: tensor(0.9201)\n",
            "epoch: 160loss: tensor(0.9207)\n",
            "epoch: 161loss: tensor(0.9201)\n",
            "epoch: 162loss: tensor(0.9199)\n",
            "epoch: 163loss: tensor(0.9196)\n",
            "epoch: 164loss: tensor(0.9198)\n",
            "epoch: 165loss: tensor(0.9191)\n",
            "epoch: 166loss: tensor(0.9251)\n",
            "epoch: 167loss: tensor(0.9196)\n",
            "epoch: 168loss: tensor(0.9194)\n",
            "epoch: 169loss: tensor(0.9190)\n",
            "epoch: 170loss: tensor(0.9195)\n",
            "epoch: 171loss: tensor(0.9186)\n",
            "epoch: 172loss: tensor(0.9191)\n",
            "epoch: 173loss: tensor(0.9185)\n",
            "epoch: 174loss: tensor(0.9185)\n",
            "epoch: 175loss: tensor(0.9177)\n",
            "epoch: 176loss: tensor(0.9175)\n",
            "epoch: 177loss: tensor(0.9172)\n",
            "epoch: 178loss: tensor(0.9183)\n",
            "epoch: 179loss: tensor(0.9169)\n",
            "epoch: 180loss: tensor(0.9176)\n",
            "epoch: 181loss: tensor(0.9163)\n",
            "epoch: 182loss: tensor(0.9169)\n",
            "epoch: 183loss: tensor(0.9159)\n",
            "epoch: 184loss: tensor(0.9166)\n",
            "epoch: 185loss: tensor(0.9158)\n",
            "epoch: 186loss: tensor(0.9162)\n",
            "epoch: 187loss: tensor(0.9156)\n",
            "epoch: 188loss: tensor(0.9160)\n",
            "epoch: 189loss: tensor(0.9153)\n",
            "epoch: 190loss: tensor(0.9156)\n",
            "epoch: 191loss: tensor(0.9155)\n",
            "epoch: 192loss: tensor(0.9154)\n",
            "epoch: 193loss: tensor(0.9151)\n",
            "epoch: 194loss: tensor(0.9147)\n",
            "epoch: 195loss: tensor(0.9145)\n",
            "epoch: 196loss: tensor(0.9147)\n",
            "epoch: 197loss: tensor(0.9140)\n",
            "epoch: 198loss: tensor(0.9146)\n",
            "epoch: 199loss: tensor(0.9141)\n",
            "epoch: 200loss: tensor(0.9143)\n"
          ],
          "name": "stdout"
        }
      ]
    },
    {
      "cell_type": "code",
      "metadata": {
        "colab": {
          "base_uri": "https://localhost:8080/"
        },
        "id": "MBrva3rnatkv",
        "outputId": "dab6fc51-c64b-404a-e30b-89374691a2d7"
      },
      "source": [
        "test_loss = 0\n",
        "s = 0.\n",
        "for id_user in range(nb_users):\n",
        "  input = Variable(training_set[id_user]).unsqueeze(0)\n",
        "  target = Variable(test_set[id_user]).unsqueeze(0)\n",
        "  if torch.sum(target.data > 0) > 0:\n",
        "    output = sae(input)\n",
        "    target.require_grad = False\n",
        "    output[target == 0] = 0\n",
        "    loss = criterion(output, target)\n",
        "    mean_corrector = nb_movies/float(torch.sum(target.data > 0) + 1e-10)\n",
        "    test_loss += np.sqrt(loss.data*mean_corrector)\n",
        "    s += 1.\n",
        "print('test loss: '+str(test_loss/s))"
      ],
      "execution_count": 38,
      "outputs": [
        {
          "output_type": "stream",
          "text": [
            "test loss: tensor(0.9548)\n"
          ],
          "name": "stdout"
        }
      ]
    }
  ]
}