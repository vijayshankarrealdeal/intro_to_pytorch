{
  "nbformat": 4,
  "nbformat_minor": 0,
  "metadata": {
    "colab": {
      "name": "ConditionalGAN.ipynb",
      "provenance": [],
      "authorship_tag": "ABX9TyNs9Kl6lzby5U9qV4xCnhUa",
      "include_colab_link": true
    },
    "kernelspec": {
      "name": "python3",
      "display_name": "Python 3"
    },
    "language_info": {
      "name": "python"
    }
  },
  "cells": [
    {
      "cell_type": "markdown",
      "metadata": {
        "id": "view-in-github",
        "colab_type": "text"
      },
      "source": [
        "<a href=\"https://colab.research.google.com/github/vijayshankarrealdeal/intro_to_pytorch-Gans/blob/main/ConditionalGAN.ipynb\" target=\"_parent\"><img src=\"https://colab.research.google.com/assets/colab-badge.svg\" alt=\"Open In Colab\"/></a>"
      ]
    },
    {
      "cell_type": "code",
      "metadata": {
        "id": "pAWzbwXdBt1-"
      },
      "source": [
        "#Conditional GAN\n",
        "#input noise vector + one-hot-encoded vector of class"
      ],
      "execution_count": 1,
      "outputs": []
    },
    {
      "cell_type": "code",
      "metadata": {
        "colab": {
          "base_uri": "https://localhost:8080/"
        },
        "id": "US0gFmbhB3_v",
        "outputId": "e46b10f8-6d0d-47d0-d875-6af4883063a7"
      },
      "source": [
        "import torch\n",
        "import torch.nn as nn\n",
        "from tqdm.auto import tqdm\n",
        "from torchvision import transforms\n",
        "from torchvision.datasets import MNIST\n",
        "from torchvision.utils import make_grid\n",
        "from torch.utils.data import DataLoader\n",
        "import matplotlib.pyplot as plt\n",
        "torch.manual_seed(0)"
      ],
      "execution_count": 3,
      "outputs": [
        {
          "output_type": "execute_result",
          "data": {
            "text/plain": [
              "<torch._C.Generator at 0x7f6ae83fdd10>"
            ]
          },
          "metadata": {
            "tags": []
          },
          "execution_count": 3
        }
      ]
    },
    {
      "cell_type": "code",
      "metadata": {
        "id": "MdyijPT7B_Dg"
      },
      "source": [
        "def show_tensor_image(image_tensor,num_images = 25,size = (1,28,28), nrow=5, show=True):\n",
        "    image_tensor = (image_tensor + 1) / 2\n",
        "    image_unflat = image_tensor.detach().cpu()\n",
        "    image_grid = make_grid(image_unflat[:num_images], nrow=nrow)\n",
        "    plt.imshow(image_grid.permute(1, 2, 0).squeeze())\n",
        "    if show:\n",
        "        plt.show()"
      ],
      "execution_count": 4,
      "outputs": []
    },
    {
      "cell_type": "code",
      "metadata": {
        "id": "5iFWINDKCQHv"
      },
      "source": [
        "class Generator(nn.Module):\n",
        "  def __init__(self,input_dim = 10,img_chan = 1,hidden_units = 64):\n",
        "    super(Generator,self).__init__()\n",
        "    self.input_dim = input_dim\n",
        "    self.gen = nn.Sequential(\n",
        "        self.make_gen_block(input_dim,hidden_units*4),\n",
        "        self.make_gen_block(hidden_units*4,hidden_units*2,kernel_size = 4,stride = 1),\n",
        "        self.make_gen_block(hidden_units*2,hidden_units),\n",
        "        self.make_gen_block(hidden_units,img_chan,kernel_size = 4,final_layer =True)\n",
        "    )\n",
        "\n",
        "  def make_gen_block(self,input_units,output_units,kernel_size = 3, stride = 2,final_layer = False):\n",
        "    if not final_layer:\n",
        "      return nn.Sequential(\n",
        "          nn.ConvTranspose2d(input_units,output_units,kernel_size,stride),\n",
        "          nn.BatchNorm2d(output_units),\n",
        "          nn.ReLU(inplace=True),\n",
        "      )\n",
        "    else:\n",
        "      return nn.Sequential(\n",
        "          nn.ConvTranspose2d(input_units,output_units,kernel_size,stride),\n",
        "          nn.Tanh()\n",
        "      )\n",
        "\n",
        "  def forward(self,noise):\n",
        "    x = noise.view(len(noise),self.input_dim,1,1)\n",
        "    return self.gen(x)"
      ],
      "execution_count": null,
      "outputs": []
    },
    {
      "cell_type": "code",
      "metadata": {
        "colab": {
          "base_uri": "https://localhost:8080/"
        },
        "id": "dz9-NXl9E22J",
        "outputId": "23868538-94a4-4838-83d4-cc3047e9f7bf"
      },
      "source": [
        "x = torch.randn(5,5)\n",
        "x"
      ],
      "execution_count": 5,
      "outputs": [
        {
          "output_type": "execute_result",
          "data": {
            "text/plain": [
              "tensor([[-1.1258, -1.1524, -0.2506, -0.4339,  0.8487],\n",
              "        [ 0.6920, -0.3160, -2.1152,  0.3223, -0.1577],\n",
              "        [ 1.4437,  0.2660,  0.1665,  0.8744, -0.1435],\n",
              "        [-0.1116, -0.6136,  1.2590,  2.0050,  0.0537],\n",
              "        [ 0.6181, -0.4128, -0.8411, -2.3160, -0.1023]])"
            ]
          },
          "metadata": {
            "tags": []
          },
          "execution_count": 5
        }
      ]
    },
    {
      "cell_type": "code",
      "metadata": {
        "id": "ulIQ2wYKE58d"
      },
      "source": [
        "def get_noise(n_samples,input_dim,device = 'cpu'):\n",
        "  return torch.randn(n_samples,input_dim,device = device)"
      ],
      "execution_count": 14,
      "outputs": []
    },
    {
      "cell_type": "code",
      "metadata": {
        "id": "vD9uJXv9E98H"
      },
      "source": [
        ""
      ],
      "execution_count": null,
      "outputs": []
    }
  ]
}