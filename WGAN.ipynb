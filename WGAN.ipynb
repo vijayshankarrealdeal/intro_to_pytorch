{
  "nbformat": 4,
  "nbformat_minor": 0,
  "metadata": {
    "colab": {
      "name": "WGAN.ipynb",
      "provenance": [],
      "authorship_tag": "ABX9TyNRN0GMAcWaxsGyWZFTfF60",
      "include_colab_link": true
    },
    "kernelspec": {
      "name": "python3",
      "display_name": "Python 3"
    },
    "language_info": {
      "name": "python"
    },
    "accelerator": "GPU"
  },
  "cells": [
    {
      "cell_type": "markdown",
      "metadata": {
        "id": "view-in-github",
        "colab_type": "text"
      },
      "source": [
        "<a href=\"https://colab.research.google.com/github/vijayshankarrealdeal/intro_to_pytorch-Gans/blob/main/WGAN.ipynb\" target=\"_parent\"><img src=\"https://colab.research.google.com/assets/colab-badge.svg\" alt=\"Open In Colab\"/></a>"
      ]
    },
    {
      "cell_type": "code",
      "metadata": {
        "id": "mIdl_13mqP88"
      },
      "source": [
        "# Wasserstein GAN with Gradient Penalty"
      ],
      "execution_count": null,
      "outputs": []
    },
    {
      "cell_type": "code",
      "metadata": {
        "colab": {
          "base_uri": "https://localhost:8080/"
        },
        "id": "1UoNX7snqV2m",
        "outputId": "f7c9abf1-3d09-462c-a9e8-61d0fa0b54d6"
      },
      "source": [
        "import torch\n",
        "from torch import nn\n",
        "from tqdm.auto import tqdm\n",
        "from torchvision import transforms\n",
        "from torchvision.datasets import MNIST\n",
        "from torchvision.utils import make_grid\n",
        "from torch.utils.data import DataLoader\n",
        "import matplotlib.pyplot as plt\n",
        "torch.manual_seed(0)"
      ],
      "execution_count": null,
      "outputs": [
        {
          "output_type": "execute_result",
          "data": {
            "text/plain": [
              "<torch._C.Generator at 0x7f4a6c106d50>"
            ]
          },
          "metadata": {
            "tags": []
          },
          "execution_count": 42
        }
      ]
    },
    {
      "cell_type": "code",
      "metadata": {
        "id": "E_07rf_6qczD"
      },
      "source": [
        "def show_image(image_tensor,num_images = 25,size = (1,28,28)):\n",
        "  image_tensor = (image_tensor + 1)/2\n",
        "  image_unflat = image_tensor.detach().cpu()\n",
        "  image_grid = make_grid(image_unflat[:num_images],nrow=5)\n",
        "  plt.imshow(image_grid.permute(1, 2, 0).squeeze())\n",
        "  plt.show()"
      ],
      "execution_count": null,
      "outputs": []
    },
    {
      "cell_type": "code",
      "metadata": {
        "id": "bVM1iGbPrDKy"
      },
      "source": [
        "def make_grad_hook():\n",
        "  grads = []\n",
        "  def grad_hooks(m):\n",
        "    if isinstance(m,nn.Conv2d) or isinstance(m,nn.ConvTranspose2d):\n",
        "      grads.append(m.weights.grad)\n",
        "    \n",
        "  return grads,grad_hooks\n"
      ],
      "execution_count": null,
      "outputs": []
    },
    {
      "cell_type": "markdown",
      "metadata": {
        "id": "prgXvHl9soJ9"
      },
      "source": [
        ""
      ]
    },
    {
      "cell_type": "code",
      "metadata": {
        "id": "hf4xfeZFrlJX"
      },
      "source": [
        "class Generator(nn.Module):\n",
        "  def __init__(self,z_dim = 10,img_cha = 1,hidden_units = 64):\n",
        "    super(Generator,self).__init__()\n",
        "    self.z_dim = z_dim\n",
        "    self.gen = nn.Sequential(\n",
        "        self.make_gen_block(z_dim,hidden_units*4),\n",
        "        self.make_gen_block(hidden_units*4,hidden_units*2,kernel_size=4, stride=1),\n",
        "        self.make_gen_block(hidden_units*2,hidden_units),\n",
        "        self.make_gen_block(hidden_units,img_cha,kernel_size=4, stride=1,final_layer = True),\n",
        "    )\n",
        "\n",
        "  def make_gen_block(self,input_units,output_units,kernel_size = 3 ,stride = 2,final_layer = False):\n",
        "    if not final_layer:\n",
        "      return nn.Sequential(\n",
        "          nn.ConvTranspose2d(input_units,output_units,kernel_size,stride),\n",
        "          nn.BatchNorm2d(output_units),\n",
        "          nn.ReLU(inplace = True),\n",
        "      )\n",
        "    else:\n",
        "      return nn.Sequential(\n",
        "          nn.ConvTranspose2d(input_units,output_units,kernel_size,stride),\n",
        "          nn.Tanh()\n",
        "      )\n",
        "  \n",
        "  def forward(self,noise):\n",
        "    x = noise.view(len(noise),self.z_dim,1,1)\n",
        "    return self.gen(x)"
      ],
      "execution_count": null,
      "outputs": []
    },
    {
      "cell_type": "code",
      "metadata": {
        "id": "GP8OVTNG9bEx"
      },
      "source": [
        "def get_noise(n_samples,z_dim,device = 'cpu'):\n",
        "  return torch.randn(n_samples,z_dim,device = device)"
      ],
      "execution_count": null,
      "outputs": []
    },
    {
      "cell_type": "code",
      "metadata": {
        "id": "WmYdv2T29qKF"
      },
      "source": [
        "class Critic(nn.Module):\n",
        "  def __init__(self,im_chan = 1, hidden_dim = 64):\n",
        "    super(Critic,self).__init__()\n",
        "    self.critic = nn.Sequential(\n",
        "          self.make_crit_block(im_chan, hidden_dim),\n",
        "          self.make_crit_block(hidden_dim, hidden_dim * 2),\n",
        "          self.make_crit_block(hidden_dim * 2, 1, final_layer=True),\n",
        "    )\n",
        "  \n",
        "  def make_crit_block(self,input_channels,output_channels,kernel_size=4, stride=2, final_layer=False):\n",
        "    if not final_layer:\n",
        "      return nn.Sequential(\n",
        "                nn.Conv2d(input_channels, output_channels, kernel_size, stride),\n",
        "                nn.BatchNorm2d(output_channels),\n",
        "                nn.LeakyReLU(0.2, inplace=True),\n",
        "            )\n",
        "    else:\n",
        "      return nn.Sequential(\n",
        "            nn.Conv2d(input_channels, output_channels, kernel_size, stride),\n",
        "          )\n",
        "    \n",
        "  def forward(self,image):\n",
        "    cred_predict = self.critic(image)\n",
        "    return cred_predict.view(len(cred_predict),-1)"
      ],
      "execution_count": null,
      "outputs": []
    },
    {
      "cell_type": "code",
      "metadata": {
        "id": "yDyQayVM_Wyr"
      },
      "source": [
        "n_epochs = 100\n",
        "z_dim = 64\n",
        "display_step = 50\n",
        "batch_size = 128\n",
        "lr = 0.0002\n",
        "beta_1 = 0.5\n",
        "beta_2 = 0.999\n",
        "c_lambda = 10\n",
        "crit_repeats = 5\n",
        "device = 'cuda'\n",
        "\n",
        "transform = transforms.Compose([\n",
        "    transforms.ToTensor(),\n",
        "    transforms.Normalize((0.5,), (0.5,)),\n",
        "])\n",
        "\n",
        "dataloader = DataLoader(\n",
        "    MNIST('.', download=True, transform=transform),\n",
        "    batch_size=batch_size,\n",
        "    shuffle=True)"
      ],
      "execution_count": null,
      "outputs": []
    },
    {
      "cell_type": "code",
      "metadata": {
        "id": "-vQvgMYqAGt1"
      },
      "source": [
        "gen = Generator(z_dim).to(device)\n",
        "gen_optimizer = torch.optim.Adam(gen.parameters(), lr=lr, betas=(beta_1, beta_2))\n",
        "critic = Critic().to(device)\n",
        "critic_optimizer = torch.optim.Adam(critic.parameters(),lr = lr,betas=(beta_1, beta_2))\n"
      ],
      "execution_count": null,
      "outputs": []
    },
    {
      "cell_type": "code",
      "metadata": {
        "id": "fjf07o0GB38P"
      },
      "source": [
        "def weights_init(m):\n",
        "    if isinstance(m, nn.Conv2d) or isinstance(m, nn.ConvTranspose2d):\n",
        "        torch.nn.init.normal_(m.weight, 0.0, 0.02)\n",
        "    if isinstance(m, nn.BatchNorm2d):\n",
        "        torch.nn.init.normal_(m.weight, 0.0, 0.02)\n",
        "        torch.nn.init.constant_(m.bias, 0)\n",
        "gen = gen.apply(weights_init)\n",
        "crit = critic.apply(weights_init)"
      ],
      "execution_count": null,
      "outputs": []
    },
    {
      "cell_type": "code",
      "metadata": {
        "id": "ONoJDHzfCRjY"
      },
      "source": [
        ""
      ],
      "execution_count": null,
      "outputs": []
    }
  ]
}