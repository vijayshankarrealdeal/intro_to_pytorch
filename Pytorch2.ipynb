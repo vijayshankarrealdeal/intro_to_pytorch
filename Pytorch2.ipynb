{
  "nbformat": 4,
  "nbformat_minor": 0,
  "metadata": {
    "colab": {
      "name": "Pytorch2.ipynb",
      "provenance": [],
      "collapsed_sections": [],
      "authorship_tag": "ABX9TyNXaJtK8LbOzDDPkUQ7axXg",
      "include_colab_link": true
    },
    "kernelspec": {
      "name": "python3",
      "display_name": "Python 3"
    },
    "language_info": {
      "name": "python"
    },
    "accelerator": "GPU"
  },
  "cells": [
    {
      "cell_type": "markdown",
      "metadata": {
        "id": "view-in-github",
        "colab_type": "text"
      },
      "source": [
        "<a href=\"https://colab.research.google.com/github/vijayshankarrealdeal/intro_to_pytorch-Gans/blob/main/Pytorch2.ipynb\" target=\"_parent\"><img src=\"https://colab.research.google.com/assets/colab-badge.svg\" alt=\"Open In Colab\"/></a>"
      ]
    },
    {
      "cell_type": "code",
      "metadata": {
        "colab": {
          "base_uri": "https://localhost:8080/"
        },
        "id": "YXOaduVLec95",
        "outputId": "7d9ac4a3-0bd6-4154-f4a9-30584c8f2ad5"
      },
      "source": [
        "!wget https://raw.githubusercontent.com/PacktWorkshops/The-Deep-Learning-with-PyTorch-Workshop/master/Chapter02/Exercise2.02/energydata_complete.csv"
      ],
      "execution_count": 1,
      "outputs": [
        {
          "output_type": "stream",
          "text": [
            "--2021-07-25 13:26:39--  https://raw.githubusercontent.com/PacktWorkshops/The-Deep-Learning-with-PyTorch-Workshop/master/Chapter02/Exercise2.02/energydata_complete.csv\n",
            "Resolving raw.githubusercontent.com (raw.githubusercontent.com)... 185.199.110.133, 185.199.108.133, 185.199.109.133, ...\n",
            "Connecting to raw.githubusercontent.com (raw.githubusercontent.com)|185.199.110.133|:443... connected.\n",
            "HTTP request sent, awaiting response... 200 OK\n",
            "Length: 11979363 (11M) [text/plain]\n",
            "Saving to: ‘energydata_complete.csv.10’\n",
            "\n",
            "energydata_complete 100%[===================>]  11.42M  --.-KB/s    in 0.09s   \n",
            "\n",
            "2021-07-25 13:26:39 (126 MB/s) - ‘energydata_complete.csv.10’ saved [11979363/11979363]\n",
            "\n"
          ],
          "name": "stdout"
        }
      ]
    },
    {
      "cell_type": "code",
      "metadata": {
        "id": "uNJ5ugLOeelz"
      },
      "source": [
        "import pandas as pd\n",
        "import torch\n",
        "import torch.nn as nn\n",
        "import matplotlib.pyplot as plt\n",
        "import numpy as np\n"
      ],
      "execution_count": 2,
      "outputs": []
    },
    {
      "cell_type": "code",
      "metadata": {
        "colab": {
          "base_uri": "https://localhost:8080/",
          "height": 53
        },
        "id": "pPenbfuze9u3",
        "outputId": "893f68a7-9d34-45ae-d8c5-693e9a044fe7"
      },
      "source": [
        "\"\"\"\n",
        "The Appliances energy prediction Dataset contains 4.5 months of data related to temperature and humidity measures\n",
        "for different rooms in a low-energy building, with the objective of predicting the energy \n",
        "that's used by certain appliances\n",
        "\"\"\""
      ],
      "execution_count": 111,
      "outputs": [
        {
          "output_type": "execute_result",
          "data": {
            "application/vnd.google.colaboratory.intrinsic+json": {
              "type": "string"
            },
            "text/plain": [
              "\"\\nThe Appliances energy prediction Dataset contains 4.5 months of data related to temperature and humidity measures\\nfor different rooms in a low-energy building, with the objective of predicting the energy \\nthat's used by certain appliances\\n\""
            ]
          },
          "metadata": {
            "tags": []
          },
          "execution_count": 111
        }
      ]
    },
    {
      "cell_type": "code",
      "metadata": {
        "id": "yogNnTnxenJN"
      },
      "source": [
        "df = pd.read_csv('/content/energydata_complete.csv')\n",
        "df = df.drop(['date'],axis = 1)"
      ],
      "execution_count": 3,
      "outputs": []
    },
    {
      "cell_type": "code",
      "metadata": {
        "colab": {
          "base_uri": "https://localhost:8080/",
          "height": 224
        },
        "id": "X3b27vXNeupk",
        "outputId": "35df9f38-da37-4f07-d695-b90a9e191f25"
      },
      "source": [
        "df.head()"
      ],
      "execution_count": 4,
      "outputs": [
        {
          "output_type": "execute_result",
          "data": {
            "text/html": [
              "<div>\n",
              "<style scoped>\n",
              "    .dataframe tbody tr th:only-of-type {\n",
              "        vertical-align: middle;\n",
              "    }\n",
              "\n",
              "    .dataframe tbody tr th {\n",
              "        vertical-align: top;\n",
              "    }\n",
              "\n",
              "    .dataframe thead th {\n",
              "        text-align: right;\n",
              "    }\n",
              "</style>\n",
              "<table border=\"1\" class=\"dataframe\">\n",
              "  <thead>\n",
              "    <tr style=\"text-align: right;\">\n",
              "      <th></th>\n",
              "      <th>Appliances</th>\n",
              "      <th>lights</th>\n",
              "      <th>T1</th>\n",
              "      <th>RH_1</th>\n",
              "      <th>T2</th>\n",
              "      <th>RH_2</th>\n",
              "      <th>T3</th>\n",
              "      <th>RH_3</th>\n",
              "      <th>T4</th>\n",
              "      <th>RH_4</th>\n",
              "      <th>T5</th>\n",
              "      <th>RH_5</th>\n",
              "      <th>T6</th>\n",
              "      <th>RH_6</th>\n",
              "      <th>T7</th>\n",
              "      <th>RH_7</th>\n",
              "      <th>T8</th>\n",
              "      <th>RH_8</th>\n",
              "      <th>T9</th>\n",
              "      <th>RH_9</th>\n",
              "      <th>T_out</th>\n",
              "      <th>Press_mm_hg</th>\n",
              "      <th>RH_out</th>\n",
              "      <th>Windspeed</th>\n",
              "      <th>Visibility</th>\n",
              "      <th>Tdewpoint</th>\n",
              "      <th>rv1</th>\n",
              "      <th>rv2</th>\n",
              "    </tr>\n",
              "  </thead>\n",
              "  <tbody>\n",
              "    <tr>\n",
              "      <th>0</th>\n",
              "      <td>60</td>\n",
              "      <td>30</td>\n",
              "      <td>19.89</td>\n",
              "      <td>47.596667</td>\n",
              "      <td>19.2</td>\n",
              "      <td>44.790000</td>\n",
              "      <td>19.79</td>\n",
              "      <td>44.730000</td>\n",
              "      <td>19.000000</td>\n",
              "      <td>45.566667</td>\n",
              "      <td>17.166667</td>\n",
              "      <td>55.20</td>\n",
              "      <td>7.026667</td>\n",
              "      <td>84.256667</td>\n",
              "      <td>17.200000</td>\n",
              "      <td>41.626667</td>\n",
              "      <td>18.2</td>\n",
              "      <td>48.900000</td>\n",
              "      <td>17.033333</td>\n",
              "      <td>45.53</td>\n",
              "      <td>6.600000</td>\n",
              "      <td>733.5</td>\n",
              "      <td>92.0</td>\n",
              "      <td>7.000000</td>\n",
              "      <td>63.000000</td>\n",
              "      <td>5.3</td>\n",
              "      <td>13.275433</td>\n",
              "      <td>13.275433</td>\n",
              "    </tr>\n",
              "    <tr>\n",
              "      <th>1</th>\n",
              "      <td>60</td>\n",
              "      <td>30</td>\n",
              "      <td>19.89</td>\n",
              "      <td>46.693333</td>\n",
              "      <td>19.2</td>\n",
              "      <td>44.722500</td>\n",
              "      <td>19.79</td>\n",
              "      <td>44.790000</td>\n",
              "      <td>19.000000</td>\n",
              "      <td>45.992500</td>\n",
              "      <td>17.166667</td>\n",
              "      <td>55.20</td>\n",
              "      <td>6.833333</td>\n",
              "      <td>84.063333</td>\n",
              "      <td>17.200000</td>\n",
              "      <td>41.560000</td>\n",
              "      <td>18.2</td>\n",
              "      <td>48.863333</td>\n",
              "      <td>17.066667</td>\n",
              "      <td>45.56</td>\n",
              "      <td>6.483333</td>\n",
              "      <td>733.6</td>\n",
              "      <td>92.0</td>\n",
              "      <td>6.666667</td>\n",
              "      <td>59.166667</td>\n",
              "      <td>5.2</td>\n",
              "      <td>18.606195</td>\n",
              "      <td>18.606195</td>\n",
              "    </tr>\n",
              "    <tr>\n",
              "      <th>2</th>\n",
              "      <td>50</td>\n",
              "      <td>30</td>\n",
              "      <td>19.89</td>\n",
              "      <td>46.300000</td>\n",
              "      <td>19.2</td>\n",
              "      <td>44.626667</td>\n",
              "      <td>19.79</td>\n",
              "      <td>44.933333</td>\n",
              "      <td>18.926667</td>\n",
              "      <td>45.890000</td>\n",
              "      <td>17.166667</td>\n",
              "      <td>55.09</td>\n",
              "      <td>6.560000</td>\n",
              "      <td>83.156667</td>\n",
              "      <td>17.200000</td>\n",
              "      <td>41.433333</td>\n",
              "      <td>18.2</td>\n",
              "      <td>48.730000</td>\n",
              "      <td>17.000000</td>\n",
              "      <td>45.50</td>\n",
              "      <td>6.366667</td>\n",
              "      <td>733.7</td>\n",
              "      <td>92.0</td>\n",
              "      <td>6.333333</td>\n",
              "      <td>55.333333</td>\n",
              "      <td>5.1</td>\n",
              "      <td>28.642668</td>\n",
              "      <td>28.642668</td>\n",
              "    </tr>\n",
              "    <tr>\n",
              "      <th>3</th>\n",
              "      <td>50</td>\n",
              "      <td>40</td>\n",
              "      <td>19.89</td>\n",
              "      <td>46.066667</td>\n",
              "      <td>19.2</td>\n",
              "      <td>44.590000</td>\n",
              "      <td>19.79</td>\n",
              "      <td>45.000000</td>\n",
              "      <td>18.890000</td>\n",
              "      <td>45.723333</td>\n",
              "      <td>17.166667</td>\n",
              "      <td>55.09</td>\n",
              "      <td>6.433333</td>\n",
              "      <td>83.423333</td>\n",
              "      <td>17.133333</td>\n",
              "      <td>41.290000</td>\n",
              "      <td>18.1</td>\n",
              "      <td>48.590000</td>\n",
              "      <td>17.000000</td>\n",
              "      <td>45.40</td>\n",
              "      <td>6.250000</td>\n",
              "      <td>733.8</td>\n",
              "      <td>92.0</td>\n",
              "      <td>6.000000</td>\n",
              "      <td>51.500000</td>\n",
              "      <td>5.0</td>\n",
              "      <td>45.410389</td>\n",
              "      <td>45.410389</td>\n",
              "    </tr>\n",
              "    <tr>\n",
              "      <th>4</th>\n",
              "      <td>60</td>\n",
              "      <td>40</td>\n",
              "      <td>19.89</td>\n",
              "      <td>46.333333</td>\n",
              "      <td>19.2</td>\n",
              "      <td>44.530000</td>\n",
              "      <td>19.79</td>\n",
              "      <td>45.000000</td>\n",
              "      <td>18.890000</td>\n",
              "      <td>45.530000</td>\n",
              "      <td>17.200000</td>\n",
              "      <td>55.09</td>\n",
              "      <td>6.366667</td>\n",
              "      <td>84.893333</td>\n",
              "      <td>17.200000</td>\n",
              "      <td>41.230000</td>\n",
              "      <td>18.1</td>\n",
              "      <td>48.590000</td>\n",
              "      <td>17.000000</td>\n",
              "      <td>45.40</td>\n",
              "      <td>6.133333</td>\n",
              "      <td>733.9</td>\n",
              "      <td>92.0</td>\n",
              "      <td>5.666667</td>\n",
              "      <td>47.666667</td>\n",
              "      <td>4.9</td>\n",
              "      <td>10.084097</td>\n",
              "      <td>10.084097</td>\n",
              "    </tr>\n",
              "  </tbody>\n",
              "</table>\n",
              "</div>"
            ],
            "text/plain": [
              "   Appliances  lights     T1  ...  Tdewpoint        rv1        rv2\n",
              "0          60      30  19.89  ...        5.3  13.275433  13.275433\n",
              "1          60      30  19.89  ...        5.2  18.606195  18.606195\n",
              "2          50      30  19.89  ...        5.1  28.642668  28.642668\n",
              "3          50      40  19.89  ...        5.0  45.410389  45.410389\n",
              "4          60      40  19.89  ...        4.9  10.084097  10.084097\n",
              "\n",
              "[5 rows x 28 columns]"
            ]
          },
          "metadata": {
            "tags": []
          },
          "execution_count": 4
        }
      ]
    },
    {
      "cell_type": "code",
      "metadata": {
        "id": "pgZLo35Usykn"
      },
      "source": [
        "Y = df['Appliances']\n",
        "X = df.iloc[:,1:]"
      ],
      "execution_count": 5,
      "outputs": []
    },
    {
      "cell_type": "code",
      "metadata": {
        "id": "JwHuGqjS2FJG"
      },
      "source": [
        "sample = df.head()"
      ],
      "execution_count": 6,
      "outputs": []
    },
    {
      "cell_type": "code",
      "metadata": {
        "colab": {
          "base_uri": "https://localhost:8080/",
          "height": 501
        },
        "id": "ZmOPFLG402A4",
        "outputId": "b1131d57-c610-41fc-ac4a-7a9838a2400f"
      },
      "source": [
        "sample.plot.bar()"
      ],
      "execution_count": 7,
      "outputs": [
        {
          "output_type": "execute_result",
          "data": {
            "text/plain": [
              "<matplotlib.axes._subplots.AxesSubplot at 0x7fa4e78b8510>"
            ]
          },
          "metadata": {
            "tags": []
          },
          "execution_count": 7
        },
        {
          "output_type": "display_data",
          "data": {
            "image/png": "[encoded data removed]",
            "text/plain": [
              "<Figure size 432x288 with 1 Axes>"
            ]
          },
          "metadata": {
            "tags": [],
            "needs_background": "light"
          }
        }
      ]
    },
    {
      "cell_type": "code",
      "metadata": {
        "colab": {
          "base_uri": "https://localhost:8080/",
          "height": 224
        },
        "id": "8db_zk0Tsd-6",
        "outputId": "98fbf494-b800-40ca-9888-bd63ff959c07"
      },
      "source": [
        "X = (X - X.min()) / (X.max() - X.min())\n",
        "X.head()"
      ],
      "execution_count": 115,
      "outputs": [
        {
          "output_type": "execute_result",
          "data": {
            "text/html": [
              "<div>\n",
              "<style scoped>\n",
              "    .dataframe tbody tr th:only-of-type {\n",
              "        vertical-align: middle;\n",
              "    }\n",
              "\n",
              "    .dataframe tbody tr th {\n",
              "        vertical-align: top;\n",
              "    }\n",
              "\n",
              "    .dataframe thead th {\n",
              "        text-align: right;\n",
              "    }\n",
              "</style>\n",
              "<table border=\"1\" class=\"dataframe\">\n",
              "  <thead>\n",
              "    <tr style=\"text-align: right;\">\n",
              "      <th></th>\n",
              "      <th>lights</th>\n",
              "      <th>T1</th>\n",
              "      <th>RH_1</th>\n",
              "      <th>T2</th>\n",
              "      <th>RH_2</th>\n",
              "      <th>T3</th>\n",
              "      <th>RH_3</th>\n",
              "      <th>T4</th>\n",
              "      <th>RH_4</th>\n",
              "      <th>T5</th>\n",
              "      <th>RH_5</th>\n",
              "      <th>T6</th>\n",
              "      <th>RH_6</th>\n",
              "      <th>T7</th>\n",
              "      <th>RH_7</th>\n",
              "      <th>T8</th>\n",
              "      <th>RH_8</th>\n",
              "      <th>T9</th>\n",
              "      <th>RH_9</th>\n",
              "      <th>T_out</th>\n",
              "      <th>Press_mm_hg</th>\n",
              "      <th>RH_out</th>\n",
              "      <th>Windspeed</th>\n",
              "      <th>Visibility</th>\n",
              "      <th>Tdewpoint</th>\n",
              "      <th>rv1</th>\n",
              "      <th>rv2</th>\n",
              "    </tr>\n",
              "  </thead>\n",
              "  <tbody>\n",
              "    <tr>\n",
              "      <th>0</th>\n",
              "      <td>0.428571</td>\n",
              "      <td>0.32735</td>\n",
              "      <td>0.566187</td>\n",
              "      <td>0.225345</td>\n",
              "      <td>0.684038</td>\n",
              "      <td>0.215188</td>\n",
              "      <td>0.746066</td>\n",
              "      <td>0.351351</td>\n",
              "      <td>0.764262</td>\n",
              "      <td>0.175506</td>\n",
              "      <td>0.381691</td>\n",
              "      <td>0.381070</td>\n",
              "      <td>0.841827</td>\n",
              "      <td>0.170594</td>\n",
              "      <td>0.653428</td>\n",
              "      <td>0.173329</td>\n",
              "      <td>0.661412</td>\n",
              "      <td>0.223032</td>\n",
              "      <td>0.677290</td>\n",
              "      <td>0.372990</td>\n",
              "      <td>0.097674</td>\n",
              "      <td>0.894737</td>\n",
              "      <td>0.500000</td>\n",
              "      <td>0.953846</td>\n",
              "      <td>0.538462</td>\n",
              "      <td>0.265449</td>\n",
              "      <td>0.265449</td>\n",
              "    </tr>\n",
              "    <tr>\n",
              "      <th>1</th>\n",
              "      <td>0.428571</td>\n",
              "      <td>0.32735</td>\n",
              "      <td>0.541326</td>\n",
              "      <td>0.225345</td>\n",
              "      <td>0.682140</td>\n",
              "      <td>0.215188</td>\n",
              "      <td>0.748871</td>\n",
              "      <td>0.351351</td>\n",
              "      <td>0.782437</td>\n",
              "      <td>0.175506</td>\n",
              "      <td>0.381691</td>\n",
              "      <td>0.375443</td>\n",
              "      <td>0.839872</td>\n",
              "      <td>0.170594</td>\n",
              "      <td>0.651064</td>\n",
              "      <td>0.173329</td>\n",
              "      <td>0.660155</td>\n",
              "      <td>0.226500</td>\n",
              "      <td>0.678532</td>\n",
              "      <td>0.369239</td>\n",
              "      <td>0.100000</td>\n",
              "      <td>0.894737</td>\n",
              "      <td>0.476190</td>\n",
              "      <td>0.894872</td>\n",
              "      <td>0.533937</td>\n",
              "      <td>0.372083</td>\n",
              "      <td>0.372083</td>\n",
              "    </tr>\n",
              "    <tr>\n",
              "      <th>2</th>\n",
              "      <td>0.428571</td>\n",
              "      <td>0.32735</td>\n",
              "      <td>0.530502</td>\n",
              "      <td>0.225345</td>\n",
              "      <td>0.679445</td>\n",
              "      <td>0.215188</td>\n",
              "      <td>0.755569</td>\n",
              "      <td>0.344745</td>\n",
              "      <td>0.778062</td>\n",
              "      <td>0.175506</td>\n",
              "      <td>0.380037</td>\n",
              "      <td>0.367487</td>\n",
              "      <td>0.830704</td>\n",
              "      <td>0.170594</td>\n",
              "      <td>0.646572</td>\n",
              "      <td>0.173329</td>\n",
              "      <td>0.655586</td>\n",
              "      <td>0.219563</td>\n",
              "      <td>0.676049</td>\n",
              "      <td>0.365488</td>\n",
              "      <td>0.102326</td>\n",
              "      <td>0.894737</td>\n",
              "      <td>0.452381</td>\n",
              "      <td>0.835897</td>\n",
              "      <td>0.529412</td>\n",
              "      <td>0.572848</td>\n",
              "      <td>0.572848</td>\n",
              "    </tr>\n",
              "    <tr>\n",
              "      <th>3</th>\n",
              "      <td>0.571429</td>\n",
              "      <td>0.32735</td>\n",
              "      <td>0.524080</td>\n",
              "      <td>0.225345</td>\n",
              "      <td>0.678414</td>\n",
              "      <td>0.215188</td>\n",
              "      <td>0.758685</td>\n",
              "      <td>0.341441</td>\n",
              "      <td>0.770949</td>\n",
              "      <td>0.175506</td>\n",
              "      <td>0.380037</td>\n",
              "      <td>0.363800</td>\n",
              "      <td>0.833401</td>\n",
              "      <td>0.164310</td>\n",
              "      <td>0.641489</td>\n",
              "      <td>0.164175</td>\n",
              "      <td>0.650788</td>\n",
              "      <td>0.219563</td>\n",
              "      <td>0.671909</td>\n",
              "      <td>0.361736</td>\n",
              "      <td>0.104651</td>\n",
              "      <td>0.894737</td>\n",
              "      <td>0.428571</td>\n",
              "      <td>0.776923</td>\n",
              "      <td>0.524887</td>\n",
              "      <td>0.908261</td>\n",
              "      <td>0.908261</td>\n",
              "    </tr>\n",
              "    <tr>\n",
              "      <th>4</th>\n",
              "      <td>0.571429</td>\n",
              "      <td>0.32735</td>\n",
              "      <td>0.531419</td>\n",
              "      <td>0.225345</td>\n",
              "      <td>0.676727</td>\n",
              "      <td>0.215188</td>\n",
              "      <td>0.758685</td>\n",
              "      <td>0.341441</td>\n",
              "      <td>0.762697</td>\n",
              "      <td>0.178691</td>\n",
              "      <td>0.380037</td>\n",
              "      <td>0.361859</td>\n",
              "      <td>0.848264</td>\n",
              "      <td>0.170594</td>\n",
              "      <td>0.639362</td>\n",
              "      <td>0.164175</td>\n",
              "      <td>0.650788</td>\n",
              "      <td>0.219563</td>\n",
              "      <td>0.671909</td>\n",
              "      <td>0.357985</td>\n",
              "      <td>0.106977</td>\n",
              "      <td>0.894737</td>\n",
              "      <td>0.404762</td>\n",
              "      <td>0.717949</td>\n",
              "      <td>0.520362</td>\n",
              "      <td>0.201611</td>\n",
              "      <td>0.201611</td>\n",
              "    </tr>\n",
              "  </tbody>\n",
              "</table>\n",
              "</div>"
            ],
            "text/plain": [
              "     lights       T1      RH_1  ...  Tdewpoint       rv1       rv2\n",
              "0  0.428571  0.32735  0.566187  ...   0.538462  0.265449  0.265449\n",
              "1  0.428571  0.32735  0.541326  ...   0.533937  0.372083  0.372083\n",
              "2  0.428571  0.32735  0.530502  ...   0.529412  0.572848  0.572848\n",
              "3  0.571429  0.32735  0.524080  ...   0.524887  0.908261  0.908261\n",
              "4  0.571429  0.32735  0.531419  ...   0.520362  0.201611  0.201611\n",
              "\n",
              "[5 rows x 27 columns]"
            ]
          },
          "metadata": {
            "tags": []
          },
          "execution_count": 115
        }
      ]
    },
    {
      "cell_type": "code",
      "metadata": {
        "colab": {
          "base_uri": "https://localhost:8080/",
          "height": 224
        },
        "id": "uGKmwGj50SKu",
        "outputId": "5e13765f-3e4f-486b-8cf5-8c3aa793d662"
      },
      "source": [
        "X = (X - X.mean())/X.std()\n",
        "X.head()"
      ],
      "execution_count": 132,
      "outputs": [
        {
          "output_type": "execute_result",
          "data": {
            "text/html": [
              "<div>\n",
              "<style scoped>\n",
              "    .dataframe tbody tr th:only-of-type {\n",
              "        vertical-align: middle;\n",
              "    }\n",
              "\n",
              "    .dataframe tbody tr th {\n",
              "        vertical-align: top;\n",
              "    }\n",
              "\n",
              "    .dataframe thead th {\n",
              "        text-align: right;\n",
              "    }\n",
              "</style>\n",
              "<table border=\"1\" class=\"dataframe\">\n",
              "  <thead>\n",
              "    <tr style=\"text-align: right;\">\n",
              "      <th></th>\n",
              "      <th>lights</th>\n",
              "      <th>T1</th>\n",
              "      <th>RH_1</th>\n",
              "      <th>T2</th>\n",
              "      <th>RH_2</th>\n",
              "      <th>T3</th>\n",
              "      <th>RH_3</th>\n",
              "      <th>T4</th>\n",
              "      <th>RH_4</th>\n",
              "      <th>T5</th>\n",
              "      <th>RH_5</th>\n",
              "      <th>T6</th>\n",
              "      <th>RH_6</th>\n",
              "      <th>T7</th>\n",
              "      <th>RH_7</th>\n",
              "      <th>T8</th>\n",
              "      <th>RH_8</th>\n",
              "      <th>T9</th>\n",
              "      <th>RH_9</th>\n",
              "      <th>T_out</th>\n",
              "      <th>Press_mm_hg</th>\n",
              "      <th>RH_out</th>\n",
              "      <th>Windspeed</th>\n",
              "      <th>Visibility</th>\n",
              "      <th>Tdewpoint</th>\n",
              "      <th>rv1</th>\n",
              "      <th>rv2</th>\n",
              "    </tr>\n",
              "  </thead>\n",
              "  <tbody>\n",
              "    <tr>\n",
              "      <th>0</th>\n",
              "      <td>3.301180</td>\n",
              "      <td>-1.118616</td>\n",
              "      <td>1.843774</td>\n",
              "      <td>-0.520398</td>\n",
              "      <td>1.073656</td>\n",
              "      <td>-1.235032</td>\n",
              "      <td>1.686087</td>\n",
              "      <td>-0.908194</td>\n",
              "      <td>1.506399</td>\n",
              "      <td>-1.314870</td>\n",
              "      <td>0.471148</td>\n",
              "      <td>-0.145193</td>\n",
              "      <td>0.951774</td>\n",
              "      <td>-1.453610</td>\n",
              "      <td>1.219830</td>\n",
              "      <td>-1.957459</td>\n",
              "      <td>1.141543</td>\n",
              "      <td>-1.217293</td>\n",
              "      <td>0.958112</td>\n",
              "      <td>-0.152643</td>\n",
              "      <td>-2.976252</td>\n",
              "      <td>0.82206</td>\n",
              "      <td>1.207663</td>\n",
              "      <td>2.091543</td>\n",
              "      <td>0.366966</td>\n",
              "      <td>-0.807953</td>\n",
              "      <td>-0.807953</td>\n",
              "    </tr>\n",
              "    <tr>\n",
              "      <th>1</th>\n",
              "      <td>3.301180</td>\n",
              "      <td>-1.118616</td>\n",
              "      <td>1.616766</td>\n",
              "      <td>-0.520398</td>\n",
              "      <td>1.057071</td>\n",
              "      <td>-1.235032</td>\n",
              "      <td>1.704523</td>\n",
              "      <td>-0.908194</td>\n",
              "      <td>1.604488</td>\n",
              "      <td>-1.314870</td>\n",
              "      <td>0.471148</td>\n",
              "      <td>-0.176937</td>\n",
              "      <td>0.945568</td>\n",
              "      <td>-1.453610</td>\n",
              "      <td>1.206795</td>\n",
              "      <td>-1.957459</td>\n",
              "      <td>1.134525</td>\n",
              "      <td>-1.200748</td>\n",
              "      <td>0.965338</td>\n",
              "      <td>-0.174583</td>\n",
              "      <td>-2.962738</td>\n",
              "      <td>0.82206</td>\n",
              "      <td>1.071676</td>\n",
              "      <td>1.766539</td>\n",
              "      <td>0.343126</td>\n",
              "      <td>-0.440229</td>\n",
              "      <td>-0.440229</td>\n",
              "    </tr>\n",
              "    <tr>\n",
              "      <th>2</th>\n",
              "      <td>3.301180</td>\n",
              "      <td>-1.118616</td>\n",
              "      <td>1.517921</td>\n",
              "      <td>-0.520398</td>\n",
              "      <td>1.033523</td>\n",
              "      <td>-1.235032</td>\n",
              "      <td>1.748563</td>\n",
              "      <td>-0.944091</td>\n",
              "      <td>1.580878</td>\n",
              "      <td>-1.314870</td>\n",
              "      <td>0.458956</td>\n",
              "      <td>-0.221816</td>\n",
              "      <td>0.916461</td>\n",
              "      <td>-1.453610</td>\n",
              "      <td>1.182027</td>\n",
              "      <td>-1.957459</td>\n",
              "      <td>1.109004</td>\n",
              "      <td>-1.233838</td>\n",
              "      <td>0.950886</td>\n",
              "      <td>-0.196524</td>\n",
              "      <td>-2.949223</td>\n",
              "      <td>0.82206</td>\n",
              "      <td>0.935690</td>\n",
              "      <td>1.441535</td>\n",
              "      <td>0.319286</td>\n",
              "      <td>0.252102</td>\n",
              "      <td>0.252102</td>\n",
              "    </tr>\n",
              "    <tr>\n",
              "      <th>3</th>\n",
              "      <td>4.561263</td>\n",
              "      <td>-1.118616</td>\n",
              "      <td>1.459284</td>\n",
              "      <td>-0.520398</td>\n",
              "      <td>1.024514</td>\n",
              "      <td>-1.235032</td>\n",
              "      <td>1.769047</td>\n",
              "      <td>-0.962039</td>\n",
              "      <td>1.542487</td>\n",
              "      <td>-1.314870</td>\n",
              "      <td>0.458956</td>\n",
              "      <td>-0.242614</td>\n",
              "      <td>0.925022</td>\n",
              "      <td>-1.485205</td>\n",
              "      <td>1.154001</td>\n",
              "      <td>-2.008580</td>\n",
              "      <td>1.082206</td>\n",
              "      <td>-1.233838</td>\n",
              "      <td>0.926798</td>\n",
              "      <td>-0.218464</td>\n",
              "      <td>-2.935709</td>\n",
              "      <td>0.82206</td>\n",
              "      <td>0.799703</td>\n",
              "      <td>1.116531</td>\n",
              "      <td>0.295446</td>\n",
              "      <td>1.408765</td>\n",
              "      <td>1.408765</td>\n",
              "    </tr>\n",
              "    <tr>\n",
              "      <th>4</th>\n",
              "      <td>4.561263</td>\n",
              "      <td>-1.118616</td>\n",
              "      <td>1.526298</td>\n",
              "      <td>-0.520398</td>\n",
              "      <td>1.009771</td>\n",
              "      <td>-1.235032</td>\n",
              "      <td>1.769047</td>\n",
              "      <td>-0.962039</td>\n",
              "      <td>1.497953</td>\n",
              "      <td>-1.296799</td>\n",
              "      <td>0.458956</td>\n",
              "      <td>-0.253561</td>\n",
              "      <td>0.972213</td>\n",
              "      <td>-1.453610</td>\n",
              "      <td>1.142269</td>\n",
              "      <td>-2.008580</td>\n",
              "      <td>1.082206</td>\n",
              "      <td>-1.233838</td>\n",
              "      <td>0.926798</td>\n",
              "      <td>-0.240405</td>\n",
              "      <td>-2.922194</td>\n",
              "      <td>0.82206</td>\n",
              "      <td>0.663716</td>\n",
              "      <td>0.791527</td>\n",
              "      <td>0.271606</td>\n",
              "      <td>-1.028096</td>\n",
              "      <td>-1.028096</td>\n",
              "    </tr>\n",
              "  </tbody>\n",
              "</table>\n",
              "</div>"
            ],
            "text/plain": [
              "     lights        T1      RH_1  ...  Tdewpoint       rv1       rv2\n",
              "0  3.301180 -1.118616  1.843774  ...   0.366966 -0.807953 -0.807953\n",
              "1  3.301180 -1.118616  1.616766  ...   0.343126 -0.440229 -0.440229\n",
              "2  3.301180 -1.118616  1.517921  ...   0.319286  0.252102  0.252102\n",
              "3  4.561263 -1.118616  1.459284  ...   0.295446  1.408765  1.408765\n",
              "4  4.561263 -1.118616  1.526298  ...   0.271606 -1.028096 -1.028096\n",
              "\n",
              "[5 rows x 27 columns]"
            ]
          },
          "metadata": {
            "tags": []
          },
          "execution_count": 132
        }
      ]
    },
    {
      "cell_type": "code",
      "metadata": {
        "colab": {
          "base_uri": "https://localhost:8080/",
          "height": 283
        },
        "id": "ShnlciX40hhk",
        "outputId": "0d09bcb8-bc29-41a0-a232-c7cea4ba42bc"
      },
      "source": [
        ""
      ],
      "execution_count": 136,
      "outputs": [
        {
          "output_type": "execute_result",
          "data": {
            "text/plain": [
              "<BarContainer object of 27 artists>"
            ]
          },
          "metadata": {
            "tags": []
          },
          "execution_count": 136
        },
        {
          "output_type": "display_data",
          "data": {
            "image/png": "[encoded data removed]",
            "text/plain": [
              "<Figure size 432x288 with 1 Axes>"
            ]
          },
          "metadata": {
            "tags": [],
            "needs_background": "light"
          }
        }
      ]
    },
    {
      "cell_type": "code",
      "metadata": {
        "id": "F-D_CzIHmp7s"
      },
      "source": [
        "train_end = int(len(X) * 0.6)\n",
        "dev_end = int(len(X) * 0.8)"
      ],
      "execution_count": 116,
      "outputs": []
    },
    {
      "cell_type": "code",
      "metadata": {
        "id": "OiEtyF8novuP"
      },
      "source": [
        "X_shuffle = X.sample(frac=1, random_state=0)\n",
        "Y_shuffle = Y.sample(frac=1, random_state=0)"
      ],
      "execution_count": 117,
      "outputs": []
    },
    {
      "cell_type": "code",
      "metadata": {
        "id": "RnodLnzttMvu"
      },
      "source": [
        "x_train = X_shuffle.iloc[:train_end,:]\n",
        "y_train = Y_shuffle.iloc[:train_end]\n",
        "x_dev = X_shuffle.iloc[train_end:dev_end,:]\n",
        "y_dev = Y_shuffle.iloc[train_end:dev_end]\n",
        "x_test = X_shuffle.iloc[dev_end:,:]\n",
        "y_test = Y_shuffle.iloc[dev_end:]"
      ],
      "execution_count": 118,
      "outputs": []
    },
    {
      "cell_type": "code",
      "metadata": {
        "colab": {
          "base_uri": "https://localhost:8080/"
        },
        "id": "SsXIqKADo-zl",
        "outputId": "63a50f8c-c17d-4895-a803-5ef097be0753"
      },
      "source": [
        "print(x_train.shape, y_train.shape)\n",
        "print(x_dev.shape, y_dev.shape)\n",
        "print(x_test.shape, y_test.shape)"
      ],
      "execution_count": 119,
      "outputs": [
        {
          "output_type": "stream",
          "text": [
            "(11841, 27) (11841,)\n",
            "(3947, 27) (3947,)\n",
            "(3947, 27) (3947,)\n"
          ],
          "name": "stdout"
        }
      ]
    },
    {
      "cell_type": "code",
      "metadata": {
        "id": "sV6dQ5XmtdXM"
      },
      "source": [
        "from sklearn.model_selection import train_test_split"
      ],
      "execution_count": 120,
      "outputs": []
    },
    {
      "cell_type": "code",
      "metadata": {
        "id": "wlGDGScNtgXi"
      },
      "source": [
        "x_new, x_test_2, \\\n",
        "y_new, y_test_2 = train_test_split(X_shuffle, Y_shuffle, \\\n",
        "                                   test_size=0.2, \\\n",
        "random_state=0)\n",
        "dev_per = x_test_2.shape[0]/x_new.shape[0]\n",
        "x_train_2, x_dev_2, \\\n",
        "y_train_2, y_dev_2 = train_test_split(x_new, y_new, \\\n",
        "                                      test_size=dev_per, \\\n",
        "random_state=0)"
      ],
      "execution_count": 121,
      "outputs": []
    },
    {
      "cell_type": "code",
      "metadata": {
        "id": "lcqov9Vrt1U4"
      },
      "source": [
        "x_train = torch.tensor(x_train.values).float()\n",
        "y_train = torch.tensor(y_train.values).float()\n",
        "x_dev = torch.tensor(x_dev.values).float()\n",
        "y_dev = torch.tensor(y_dev.values).float()\n",
        "x_test = torch.tensor(x_test.values).float()\n",
        "y_test = torch.tensor(y_test.values).float()"
      ],
      "execution_count": 122,
      "outputs": []
    },
    {
      "cell_type": "code",
      "metadata": {
        "id": "jP4HKSMdo_6e"
      },
      "source": [
        "class Network(nn.Module):\n",
        "  def __init__(self,input=27,output=1,hidden_dims= 30):\n",
        "    super(Network,self).__init__()\n",
        "    self.gen = nn.Sequential(\n",
        "        nn.Linear(input,hidden_dims*2),\n",
        "        nn.ReLU(),\n",
        "        nn.Linear(hidden_dims*2,hidden_dims),\n",
        "        nn.ReLU(),\n",
        "        nn.Linear(hidden_dims,output),\n",
        "    )\n",
        "  def forward(self,x):\n",
        "    return self.gen(x)\n"
      ],
      "execution_count": 123,
      "outputs": []
    },
    {
      "cell_type": "code",
      "metadata": {
        "id": "-EjVai9op5iX"
      },
      "source": [
        "num_iter =  5000\n",
        "losses = []\n",
        "model = Network(x_train.shape[1])\n",
        "optimizer = torch.optim.Adam(model.parameters(),lr= 0.001)\n",
        "loss_fn = torch.nn.MSELoss()  "
      ],
      "execution_count": 124,
      "outputs": []
    },
    {
      "cell_type": "code",
      "metadata": {
        "colab": {
          "base_uri": "https://localhost:8080/"
        },
        "id": "XDKgBu4GrgpL",
        "outputId": "68ea3fdf-0caa-4b33-dfa4-51ab9c61420e"
      },
      "source": [
        "for i in range(num_iter):\n",
        "  y_hat = model(x_train).squeeze()\n",
        "  loss = loss_fn(y_hat,y_train)\n",
        "  losses.append(loss.item())\n",
        "  if i% 100 == 0:\n",
        "    print(loss.item())\n",
        "  optimizer.zero_grad()\n",
        "  loss.backward()\n",
        "  optimizer.step()"
      ],
      "execution_count": 125,
      "outputs": [
        {
          "output_type": "stream",
          "text": [
            "20299.5\n",
            "14879.4072265625\n",
            "10840.228515625\n",
            "10779.482421875\n",
            "10677.2939453125\n",
            "10513.0263671875\n",
            "10311.7265625\n",
            "10095.6591796875\n",
            "9882.31640625\n",
            "9692.98046875\n",
            "9541.412109375\n",
            "9430.9140625\n",
            "9352.2666015625\n",
            "9284.23828125\n",
            "9228.5615234375\n",
            "9179.7919921875\n",
            "9131.8955078125\n",
            "9082.9287109375\n",
            "9030.7470703125\n",
            "8988.2568359375\n",
            "8949.484375\n",
            "8915.47265625\n",
            "8884.2890625\n",
            "8857.119140625\n",
            "8832.9921875\n",
            "8809.7939453125\n",
            "8788.08203125\n",
            "8767.3759765625\n",
            "8746.8818359375\n",
            "8726.701171875\n",
            "8706.3701171875\n",
            "8688.5107421875\n",
            "8671.185546875\n",
            "8655.314453125\n",
            "8639.88671875\n",
            "8624.5654296875\n",
            "8597.69140625\n",
            "8569.2197265625\n",
            "8544.689453125\n",
            "8521.259765625\n",
            "8499.5283203125\n",
            "8479.486328125\n",
            "8454.7158203125\n",
            "8418.408203125\n",
            "8391.4033203125\n",
            "8364.798828125\n",
            "8343.384765625\n",
            "8323.9755859375\n",
            "8306.8662109375\n",
            "8290.3994140625\n"
          ],
          "name": "stdout"
        }
      ]
    },
    {
      "cell_type": "code",
      "metadata": {
        "colab": {
          "base_uri": "https://localhost:8080/",
          "height": 283
        },
        "id": "efJ0cEQru6uG",
        "outputId": "9f97ebb1-76d9-4dc9-8544-1c6538458c12"
      },
      "source": [
        "plt.plot(range(num_iter),losses)"
      ],
      "execution_count": 126,
      "outputs": [
        {
          "output_type": "execute_result",
          "data": {
            "text/plain": [
              "[<matplotlib.lines.Line2D at 0x7f9cbe74cfd0>]"
            ]
          },
          "metadata": {
            "tags": []
          },
          "execution_count": 126
        },
        {
          "output_type": "display_data",
          "data": {
            "image/png": "[encoded data removed]",
            "text/plain": [
              "<Figure size 432x288 with 1 Axes>"
            ]
          },
          "metadata": {
            "tags": [],
            "needs_background": "light"
          }
        }
      ]
    },
    {
      "cell_type": "code",
      "metadata": {
        "colab": {
          "base_uri": "https://localhost:8080/"
        },
        "id": "oiy32I3zyOJD",
        "outputId": "33539294-957e-4a62-9a01-260d4ad13ac6"
      },
      "source": [
        "pred = model(x_test[20])\n",
        "print(\"Ground truth:\", y_test[20].item(), \n",
        "      \"Prediction:\",pred.item())"
      ],
      "execution_count": 129,
      "outputs": [
        {
          "output_type": "stream",
          "text": [
            "Ground truth: 120.0 Prediction: 44.08254623413086\n"
          ],
          "name": "stdout"
        }
      ]
    },
    {
      "cell_type": "code",
      "metadata": {
        "id": "PODWJKlszzk_"
      },
      "source": [
        ""
      ],
      "execution_count": 127,
      "outputs": []
    }
  ]
}