{
  "nbformat": 4,
  "nbformat_minor": 0,
  "metadata": {
    "colab": {
      "name": "Cycle.ipynb",
      "provenance": [],
      "collapsed_sections": [],
      "authorship_tag": "ABX9TyO/kNubAq6G6hqH3hbW0DLg",
      "include_colab_link": true
    },
    "kernelspec": {
      "name": "python3",
      "display_name": "Python 3"
    },
    "language_info": {
      "name": "python"
    },
    "accelerator": "GPU"
  },
  "cells": [
    {
      "cell_type": "markdown",
      "metadata": {
        "id": "view-in-github",
        "colab_type": "text"
      },
      "source": [
        "<a href=\"https://colab.research.google.com/github/vijayshankarrealdeal/intro_to_pytorch-Gans/blob/main/Cycle.ipynb\" target=\"_parent\"><img src=\"https://colab.research.google.com/assets/colab-badge.svg\" alt=\"Open In Colab\"/></a>"
      ]
    },
    {
      "cell_type": "code",
      "metadata": {
        "colab": {
          "base_uri": "https://localhost:8080/"
        },
        "id": "C_TjsAdBeaul",
        "outputId": "8d7e0cc3-ed3e-4f43-f9b7-503adbd19cc1"
      },
      "source": [
        "!nvidia-smi"
      ],
      "execution_count": 11,
      "outputs": [
        {
          "output_type": "stream",
          "text": [
            "NVIDIA-SMI has failed because it couldn't communicate with the NVIDIA driver. Make sure that the latest NVIDIA driver is installed and running.\n",
            "\n"
          ],
          "name": "stdout"
        }
      ]
    },
    {
      "cell_type": "code",
      "metadata": {
        "id": "ziK--0NubKvS"
      },
      "source": [
        "import torch\n",
        "import torch.nn as nn\n",
        "from torchvision import transforms\n",
        "from tqdm.auto import tqdm\n",
        "from torchvision.utils import make_grid\n",
        "from torch.utils.data import DataLoader\n",
        "import matplotlib.pyplot as plt\n",
        "import glob\n",
        "import random\n",
        "import os\n",
        "from torch.utils.data import Dataset\n",
        "from PIL import Image"
      ],
      "execution_count": 4,
      "outputs": []
    },
    {
      "cell_type": "code",
      "metadata": {
        "id": "5dPGuaZibsYd"
      },
      "source": [
        "def show_image_tensor(image_tensor,num_images,size = (1,28,28)):\n",
        "    image_tensor = (image_tensor + 1) / 2\n",
        "    image_shifted = image_tensor\n",
        "    image_unflat = image_shifted.detach().cpu().view(-1, *size)\n",
        "    image_grid = make_grid(image_unflat[:num_images], nrow=5)\n",
        "    plt.imshow(image_grid.permute(1, 2, 0).squeeze())\n",
        "    plt.show()"
      ],
      "execution_count": 5,
      "outputs": []
    },
    {
      "cell_type": "code",
      "metadata": {
        "id": "PBntcq8Kcjrf"
      },
      "source": [
        "class Residual_Block(nn.Module):\n",
        "  def __init__(self,input_channels):\n",
        "    super(Residual_Block,self).__init__()\n",
        "    self.conv1 = nn.Conv2d(input_channels, input_channels, kernel_size=3, padding=1, padding_mode='reflect'),\n",
        "    self.conv2 = nn.Conv2d(input_channels, input_channels, kernel_size=3, padding=1, padding_mode='reflect'),\n",
        "    self.instancenorm = nn.InstanceNorm2d(input_channels),\n",
        "    self.activation = nn.ReLU()\n",
        "    \n",
        "  def forward(self,x):\n",
        "    original_x = x.clone()\n",
        "    x = self.conv1(x)\n",
        "    x = self.instancenorm(x)\n",
        "    x = self.activation(x)\n",
        "    x = self.conv2(x)\n",
        "    x = self.instancenorm(x)\n",
        "    return original_x + x\n"
      ],
      "execution_count": 14,
      "outputs": []
    },
    {
      "cell_type": "code",
      "metadata": {
        "id": "o9_ODfOkf2F0"
      },
      "source": [
        "class ContractingBlock(nn.Module):\n",
        "    def __init__(self, input_channels, use_bn=True, kernel_size=3, activation='relu'):\n",
        "        super(ContractingBlock, self).__init__()\n",
        "        self.conv1 = nn.Conv2d(input_channels, input_channels * 2, kernel_size=kernel_size, padding=1, stride=2, padding_mode='reflect')\n",
        "        self.activation = nn.ReLU() if activation == 'relu' else nn.LeakyReLU(0.2)\n",
        "        if use_bn:\n",
        "            self.instancenorm = nn.InstanceNorm2d(input_channels * 2)\n",
        "        self.use_bn = use_bn\n",
        "\n",
        "    def forward(self, x):\n",
        "        x = self.conv1(x)\n",
        "        if self.use_bn:\n",
        "            x = self.instancenorm(x)\n",
        "        x = self.activation(x)\n",
        "        return x\n",
        "\n",
        "class ExpandingBlock(nn.Module):\n",
        "    def __init__(self, input_channels, use_bn=True):\n",
        "        super(ExpandingBlock, self).__init__()\n",
        "        self.conv1 = nn.ConvTranspose2d(input_channels, input_channels // 2, kernel_size=3, stride=2, padding=1, output_padding=1)\n",
        "        if use_bn:\n",
        "            self.instancenorm = nn.InstanceNorm2d(input_channels // 2)\n",
        "        self.use_bn = use_bn\n",
        "        self.activation = nn.ReLU()\n",
        "\n",
        "    def forward(self, x):\n",
        "        x = self.conv1(x)\n",
        "        if self.use_bn:\n",
        "            x = self.instancenorm(x)\n",
        "        x = self.activation(x)\n",
        "        return x\n",
        "\n",
        "class FeatureMapBlock(nn.Module):\n",
        "    def __init__(self, input_channels, output_channels):\n",
        "        super(FeatureMapBlock, self).__init__()\n",
        "        self.conv = nn.Conv2d(input_channels, output_channels, kernel_size=7, padding=3, padding_mode='reflect')\n",
        "\n",
        "    def forward(self, x):\n",
        "        x = self.conv(x)\n",
        "        return x"
      ],
      "execution_count": 15,
      "outputs": []
    },
    {
      "cell_type": "code",
      "metadata": {
        "id": "pdXxsxdkgWfC"
      },
      "source": [
        "class Generator(nn.Module):\n",
        "\n",
        "    def __init__(self, input_channels, output_channels, hidden_channels=64):\n",
        "        super(Generator, self).__init__()\n",
        "        self.upfeature = FeatureMapBlock(input_channels, hidden_channels)\n",
        "        self.contract1 = ContractingBlock(hidden_channels)\n",
        "        self.contract2 = ContractingBlock(hidden_channels * 2)\n",
        "        res_mult = 4\n",
        "        self.res0 = ResidualBlock(hidden_channels * res_mult)\n",
        "        self.res1 = ResidualBlock(hidden_channels * res_mult)\n",
        "        self.res2 = ResidualBlock(hidden_channels * res_mult)\n",
        "        self.res3 = ResidualBlock(hidden_channels * res_mult)\n",
        "        self.res4 = ResidualBlock(hidden_channels * res_mult)\n",
        "        self.res5 = ResidualBlock(hidden_channels * res_mult)\n",
        "        self.res6 = ResidualBlock(hidden_channels * res_mult)\n",
        "        self.res7 = ResidualBlock(hidden_channels * res_mult)\n",
        "        self.res8 = ResidualBlock(hidden_channels * res_mult)\n",
        "        self.expand2 = ExpandingBlock(hidden_channels * 4)\n",
        "        self.expand3 = ExpandingBlock(hidden_channels * 2)\n",
        "        self.downfeature = FeatureMapBlock(hidden_channels, output_channels)\n",
        "        self.tanh = torch.nn.Tanh()\n",
        "\n",
        "    def forward(self, x):\n",
        "        x0 = self.upfeature(x)\n",
        "        x1 = self.contract1(x0)\n",
        "        x2 = self.contract2(x1)\n",
        "        x3 = self.res0(x2)\n",
        "        x4 = self.res1(x3)\n",
        "        x5 = self.res2(x4)\n",
        "        x6 = self.res3(x5)\n",
        "        x7 = self.res4(x6)\n",
        "        x8 = self.res5(x7)\n",
        "        x9 = self.res6(x8)\n",
        "        x10 = self.res7(x9)\n",
        "        x11 = self.res8(x10)\n",
        "        x12 = self.expand2(x11)\n",
        "        x13 = self.expand3(x12)\n",
        "        xn = self.downfeature(x13)\n",
        "        return self.tanh(xn)"
      ],
      "execution_count": 16,
      "outputs": []
    },
    {
      "cell_type": "code",
      "metadata": {
        "id": "LD_IMWD3h-Fy"
      },
      "source": [
        "class Discriminator(nn.Module):\n",
        "    def __init__(self, input_channels, hidden_channels=64):\n",
        "        super(Discriminator, self).__init__()\n",
        "        self.upfeature = FeatureMapBlock(input_channels, hidden_channels)\n",
        "        self.contract1 = ContractingBlock(hidden_channels, use_bn=False, kernel_size=4, activation='lrelu')\n",
        "        self.contract2 = ContractingBlock(hidden_channels * 2, kernel_size=4, activation='lrelu')\n",
        "        self.contract3 = ContractingBlock(hidden_channels * 4, kernel_size=4, activation='lrelu')\n",
        "        self.final = nn.Conv2d(hidden_channels * 8, 1, kernel_size=1)\n",
        "\n",
        "    def forward(self, x):\n",
        "        x0 = self.upfeature(x)\n",
        "        x1 = self.contract1(x0)\n",
        "        x2 = self.contract2(x1)\n",
        "        x3 = self.contract3(x2)\n",
        "        xn = self.final(x3)\n",
        "        return xn"
      ],
      "execution_count": 17,
      "outputs": []
    },
    {
      "cell_type": "code",
      "metadata": {
        "id": "Os3Hy8DfiBVi"
      },
      "source": [
        "import torch.nn.functional as F\n",
        "\n",
        "adv_criterion = nn.MSELoss() \n",
        "recon_criterion = nn.L1Loss() \n",
        "\n",
        "n_epochs = 20\n",
        "dim_A = 3\n",
        "dim_B = 3\n",
        "display_step = 200\n",
        "batch_size = 1\n",
        "lr = 0.0002\n",
        "load_shape = 286\n",
        "target_shape = 256\n",
        "device = 'cuda'"
      ],
      "execution_count": 18,
      "outputs": []
    },
    {
      "cell_type": "code",
      "metadata": {
        "id": "FcEX_LY6iCFw"
      },
      "source": [
        ""
      ],
      "execution_count": null,
      "outputs": []
    }
  ]
}